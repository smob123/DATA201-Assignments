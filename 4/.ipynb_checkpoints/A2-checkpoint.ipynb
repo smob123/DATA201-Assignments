{
 "cells": [
  {
   "cell_type": "markdown",
   "metadata": {},
   "source": [
    "# DATA 201 - Assignment 2\n",
    "\n",
    "Please use this page http://apps.ecs.vuw.ac.nz/submit/DATA201 for submitssion and submit only this single Jupyter notebook with your code added into it at the appropriate places.\n",
    "\n",
    "The due date is **Sunday 5th April, before midnight**.\n",
    "\n",
    "The dataset for this assignment is file **sales_data.csv** which is provided with this notebook.\n",
    "\n",
    "Please choose menu items *Kernel => Restart & Run All* then *File => Save and Checkpoint* in Jupyter before submission."
   ]
  },
  {
   "cell_type": "markdown",
   "metadata": {},
   "source": [
    "## Problem Statement\n",
    "\n",
    "A retail company wants to understand the customer purchase behaviour (specifically, purchase amount) against various products of different categories. They have shared purchase summary of various customers for selected high volume products from last month.\n",
    "The data set also contains customer demographics (age, gender, marital status, city_type, stay_in_current_city), product details (product_id and product category) and total purchase_amount from last month.\n",
    "\n",
    "You need to build a model to predict the purchase amount of customer against various products which will help the company to create personalized offer for customers against different products."
   ]
  },
  {
   "cell_type": "markdown",
   "metadata": {},
   "source": [
    "## Data\n",
    "\n",
    "| Variable\t                    | Description                                        |\n",
    "|-------------------------------|----------------------------------------------------|\n",
    "|``User_ID``                    |User ID                                             |\n",
    "|``Product_ID``                 |Product ID                                          |\n",
    "|``Gender``                     |Sex of User                                         |\n",
    "|``Age``                        |Age in bins                                         |\n",
    "|``Occupation``                 |Occupation (Masked)                                 |\n",
    "|``City_Category``              |Category of the City (A, B, C)                      |\n",
    "|``Stay_In_Current_City_Years`` |Number of years stay in current city                |\n",
    "|``Marital_Status``             |Marital Status                                      |\n",
    "|``Product_Category_1``         |Product Category (Masked)                           |\n",
    "|``Product_Category_2``         |Product may belongs to other category also (Masked) |\n",
    "|``Product_Category_3``         |Product may belongs to other category also (Masked) |\n",
    "|``Purchase``                   |Purchase Amount (Target Variable)                   |\n",
    "\n",
    "## Evaluation\n",
    "\n",
    "The root mean squared error (RMSE) will be used for model evaluation."
   ]
  },
  {
   "cell_type": "markdown",
   "metadata": {},
   "source": [
    "## Questions and Code"
   ]
  },
  {
   "cell_type": "code",
   "execution_count": 1,
   "metadata": {},
   "outputs": [],
   "source": [
    "import numpy as np\n",
    "import pandas as pd\n",
    "\n",
    "np.random.seed = 42"
   ]
  },
  {
   "cell_type": "markdown",
   "metadata": {},
   "source": [
    "Load the given dataset."
   ]
  },
  {
   "cell_type": "code",
   "execution_count": 2,
   "metadata": {},
   "outputs": [
    {
     "data": {
      "text/html": [
       "<div>\n",
       "<style scoped>\n",
       "    .dataframe tbody tr th:only-of-type {\n",
       "        vertical-align: middle;\n",
       "    }\n",
       "\n",
       "    .dataframe tbody tr th {\n",
       "        vertical-align: top;\n",
       "    }\n",
       "\n",
       "    .dataframe thead th {\n",
       "        text-align: right;\n",
       "    }\n",
       "</style>\n",
       "<table border=\"1\" class=\"dataframe\">\n",
       "  <thead>\n",
       "    <tr style=\"text-align: right;\">\n",
       "      <th></th>\n",
       "      <th>Age</th>\n",
       "      <th>City_Category</th>\n",
       "      <th>Gender</th>\n",
       "      <th>Marital_Status</th>\n",
       "      <th>Occupation</th>\n",
       "      <th>Product_Category_1</th>\n",
       "      <th>Product_Category_2</th>\n",
       "      <th>Product_Category_3</th>\n",
       "      <th>Product_ID</th>\n",
       "      <th>Purchase</th>\n",
       "      <th>Stay_In_Current_City_Years</th>\n",
       "      <th>User_ID</th>\n",
       "    </tr>\n",
       "  </thead>\n",
       "  <tbody>\n",
       "    <tr>\n",
       "      <th>0</th>\n",
       "      <td>0-17</td>\n",
       "      <td>A</td>\n",
       "      <td>F</td>\n",
       "      <td>0</td>\n",
       "      <td>10</td>\n",
       "      <td>1</td>\n",
       "      <td>6</td>\n",
       "      <td>14</td>\n",
       "      <td>394</td>\n",
       "      <td>15200.0</td>\n",
       "      <td>2</td>\n",
       "      <td>1000001</td>\n",
       "    </tr>\n",
       "    <tr>\n",
       "      <th>1</th>\n",
       "      <td>46-50</td>\n",
       "      <td>B</td>\n",
       "      <td>M</td>\n",
       "      <td>1</td>\n",
       "      <td>7</td>\n",
       "      <td>1</td>\n",
       "      <td>8</td>\n",
       "      <td>17</td>\n",
       "      <td>287</td>\n",
       "      <td>19215.0</td>\n",
       "      <td>2</td>\n",
       "      <td>1000004</td>\n",
       "    </tr>\n",
       "    <tr>\n",
       "      <th>2</th>\n",
       "      <td>26-35</td>\n",
       "      <td>A</td>\n",
       "      <td>M</td>\n",
       "      <td>1</td>\n",
       "      <td>20</td>\n",
       "      <td>1</td>\n",
       "      <td>2</td>\n",
       "      <td>5</td>\n",
       "      <td>214</td>\n",
       "      <td>15665.0</td>\n",
       "      <td>1</td>\n",
       "      <td>1000005</td>\n",
       "    </tr>\n",
       "    <tr>\n",
       "      <th>3</th>\n",
       "      <td>51-55</td>\n",
       "      <td>A</td>\n",
       "      <td>F</td>\n",
       "      <td>0</td>\n",
       "      <td>9</td>\n",
       "      <td>5</td>\n",
       "      <td>8</td>\n",
       "      <td>14</td>\n",
       "      <td>366</td>\n",
       "      <td>5378.0</td>\n",
       "      <td>1</td>\n",
       "      <td>1000006</td>\n",
       "    </tr>\n",
       "    <tr>\n",
       "      <th>4</th>\n",
       "      <td>51-55</td>\n",
       "      <td>A</td>\n",
       "      <td>F</td>\n",
       "      <td>0</td>\n",
       "      <td>9</td>\n",
       "      <td>2</td>\n",
       "      <td>3</td>\n",
       "      <td>4</td>\n",
       "      <td>521</td>\n",
       "      <td>13055.0</td>\n",
       "      <td>1</td>\n",
       "      <td>1000006</td>\n",
       "    </tr>\n",
       "  </tbody>\n",
       "</table>\n",
       "</div>"
      ],
      "text/plain": [
       "     Age City_Category Gender  Marital_Status  Occupation  Product_Category_1  \\\n",
       "0   0-17             A      F               0          10                   1   \n",
       "1  46-50             B      M               1           7                   1   \n",
       "2  26-35             A      M               1          20                   1   \n",
       "3  51-55             A      F               0           9                   5   \n",
       "4  51-55             A      F               0           9                   2   \n",
       "\n",
       "   Product_Category_2  Product_Category_3  Product_ID  Purchase  \\\n",
       "0                   6                  14         394   15200.0   \n",
       "1                   8                  17         287   19215.0   \n",
       "2                   2                   5         214   15665.0   \n",
       "3                   8                  14         366    5378.0   \n",
       "4                   3                   4         521   13055.0   \n",
       "\n",
       "  Stay_In_Current_City_Years  User_ID  \n",
       "0                          2  1000001  \n",
       "1                          2  1000004  \n",
       "2                          1  1000005  \n",
       "3                          1  1000006  \n",
       "4                          1  1000006  "
      ]
     },
     "execution_count": 2,
     "metadata": {},
     "output_type": "execute_result"
    }
   ],
   "source": [
    "data = pd.read_csv(\"sales_data.csv\")\n",
    "data.head()"
   ]
  },
  {
   "cell_type": "markdown",
   "metadata": {},
   "source": [
    "**1. Is there any missing value? [1 point]**"
   ]
  },
  {
   "cell_type": "code",
   "execution_count": 3,
   "metadata": {},
   "outputs": [
    {
     "data": {
      "text/plain": [
       "(array([], dtype=int64), array([], dtype=int64))"
      ]
     },
     "execution_count": 3,
     "metadata": {},
     "output_type": "execute_result"
    }
   ],
   "source": [
    "np.where(data.isnull())"
   ]
  },
  {
   "cell_type": "markdown",
   "metadata": {},
   "source": [
    "** 2. Drop attribute `User_ID`. [1 point] **"
   ]
  },
  {
   "cell_type": "code",
   "execution_count": 4,
   "metadata": {},
   "outputs": [],
   "source": [
    "data = data.drop('User_ID', axis=1)"
   ]
  },
  {
   "cell_type": "markdown",
   "metadata": {},
   "source": [
    "** 3. Then convert the following categorical attributes below to numerical values with the rule as below. [4 points]**\n",
    "+ `Gender`: `F`:0, `M`:1\n",
    "+ `Age`: `0-17`:0, `18-25`:1, `26-35`:2, `36-45`:3, `46-50`:4, `51-55`:5, `55+`:6\n",
    "+ `Stay_In_Current_City_Years`: `0`:0, `1`:1, `2`:2, `3`:3, `4+`:4\n",
    "\n",
    "You may want to apply a `lambda` function to each row of a column in the dataframe. Some examples here may be helpful: https://thispointer.com/pandas-apply-apply-a-function-to-each-row-column-in-dataframe/"
   ]
  },
  {
   "cell_type": "code",
   "execution_count": 5,
   "metadata": {},
   "outputs": [],
   "source": [
    "data['Gender'] = data['Gender'].apply(lambda row: (0 if row == 'F' else 1))\n",
    "\n",
    "data['Age'] = data['Age'].apply(lambda row: (0 if row == '0-17' else \n",
    "                                             (1 if row == '18-25' else \n",
    "                                              (2 if row == '26-35' else \n",
    "                                              (3 if row == '36-45' else \n",
    "                                              (4 if row == '46-50' else \n",
    "                                              (5 if row == '51-55' else\n",
    "                                               (6)\n",
    "                                              )))))))\n",
    "\n",
    "data['Stay_In_Current_City_Years'] = data['Stay_In_Current_City_Years'].apply(lambda row: row if row != '4+' else 4)"
   ]
  },
  {
   "cell_type": "markdown",
   "metadata": {},
   "source": [
    "**4. Randomly split the current data frame into 2 subsets for training (80%) and test (20%). Use *random_state = 42*. [2 points]**"
   ]
  },
  {
   "cell_type": "code",
   "execution_count": 6,
   "metadata": {},
   "outputs": [],
   "source": [
    "from sklearn.model_selection import train_test_split"
   ]
  },
  {
   "cell_type": "code",
   "execution_count": 7,
   "metadata": {},
   "outputs": [],
   "source": [
    "train_set, test_set = train_test_split(data, test_size=0.2, random_state=42)\n",
    "\n",
    "x_train = train_set.drop('Purchase', axis=1)\n",
    "y_train = train_set['Purchase'].copy()\n",
    "\n",
    "x_test = test_set.drop('Purchase', axis=1)\n",
    "y_test = test_set['Purchase'].copy()"
   ]
  },
  {
   "cell_type": "markdown",
   "metadata": {},
   "source": [
    "**5. Get the list of numerical predictors (all the attributes in the current data frame except the target, `Purchase`) and the list of categorical predictor. [1 point]**"
   ]
  },
  {
   "cell_type": "code",
   "execution_count": 8,
   "metadata": {},
   "outputs": [],
   "source": [
    "numericPredictors = x_train._get_numeric_data()\n",
    "categoricalPredictors = ['City_Category']"
   ]
  },
  {
   "cell_type": "markdown",
   "metadata": {},
   "source": [
    "**6. Create a transformation pipeline including two pipelines handling the following [3 points]**\n",
    "- Numerical *predictors*: apply Standard Scaling\n",
    "- Categorical *predictor*: apply One-hot-encoding\n",
    "\n",
    "You will need to use `ColumnTransformer`. The example in Week 3 lectures may be helpful."
   ]
  },
  {
   "cell_type": "code",
   "execution_count": 9,
   "metadata": {},
   "outputs": [],
   "source": [
    "from sklearn.pipeline import Pipeline\n",
    "from sklearn.compose import ColumnTransformer\n",
    "from sklearn.preprocessing import StandardScaler\n",
    "from sklearn.preprocessing import OneHotEncoder\n",
    "try:\n",
    "    from sklearn.impute import SimpleImputer # Scikit-Learn 0.20+\n",
    "except ImportError:\n",
    "    from sklearn.preprocessing import Imputer as SimpleImputer"
   ]
  },
  {
   "cell_type": "code",
   "execution_count": 10,
   "metadata": {
    "scrolled": true
   },
   "outputs": [],
   "source": [
    "num_pipeline = Pipeline([\n",
    "        ('imputer', SimpleImputer(strategy=\"mean\")),\n",
    "        ('norm', StandardScaler()),\n",
    "    ])\n",
    "\n",
    "pipeline = ColumnTransformer([\n",
    "    ('num', num_pipeline, list(numericPredictors)),\n",
    "    ('cat', OneHotEncoder(), categoricalPredictors)\n",
    "])"
   ]
  },
  {
   "cell_type": "markdown",
   "metadata": {},
   "source": [
    "**7. Train and use that transformation pipeline to transform the training data (e.g. for a machine learning model). [2 points]**"
   ]
  },
  {
   "cell_type": "code",
   "execution_count": 11,
   "metadata": {},
   "outputs": [],
   "source": [
    "training_data_prepared = pipeline.fit_transform(x_train)"
   ]
  },
  {
   "cell_type": "markdown",
   "metadata": {},
   "source": [
    "**8. Use that transformation pipeline to transform the test data (e.g. for testing a machine learning model). [2 points]**"
   ]
  },
  {
   "cell_type": "code",
   "execution_count": 12,
   "metadata": {},
   "outputs": [],
   "source": [
    "test_data_prepared = pipeline.fit_transform(x_test)"
   ]
  },
  {
   "cell_type": "markdown",
   "metadata": {},
   "source": [
    "**9. Build a Linear Regression model using the training data after transformation and test it on the test data. Report the RMSE values on the training and test data. [3 points]**\n",
    "\n",
    "Document: https://scikit-learn.org/stable/modules/generated/sklearn.linear_model.LinearRegression.html"
   ]
  },
  {
   "cell_type": "code",
   "execution_count": 13,
   "metadata": {},
   "outputs": [
    {
     "data": {
      "text/plain": [
       "4615.575563973856"
      ]
     },
     "execution_count": 13,
     "metadata": {},
     "output_type": "execute_result"
    }
   ],
   "source": [
    "import sklearn.linear_model\n",
    "from sklearn.metrics import mean_squared_error\n",
    "\n",
    "linear_regression_model = sklearn.linear_model.LinearRegression()\n",
    "linear_regression_model.fit(training_data_prepared, y_train)\n",
    "\n",
    "predictions = linear_regression_model.predict(test_data_prepared)\n",
    "\n",
    "lrrmse = mean_squared_error(y_test, predictions)\n",
    "\n",
    "np.sqrt(lrrmse)"
   ]
  },
  {
   "cell_type": "markdown",
   "metadata": {},
   "source": [
    "**10. Repeat Question 9 using a `KNeighborsRegressor`. Comment on the processing time and performance of the model in this question. [1 point]**\n",
    "\n",
    "Document: https://scikit-learn.org/stable/modules/generated/sklearn.neighbors.KNeighborsRegressor.html"
   ]
  },
  {
   "cell_type": "code",
   "execution_count": 14,
   "metadata": {},
   "outputs": [
    {
     "data": {
      "text/plain": [
       "5299.727158357741"
      ]
     },
     "execution_count": 14,
     "metadata": {},
     "output_type": "execute_result"
    }
   ],
   "source": [
    "from sklearn.neighbors import KNeighborsClassifier\n",
    "knn = KNeighborsClassifier(n_neighbors=3)\n",
    "knn.fit(training_data_prepared, y_train)\n",
    "predictions = knn.predict(test_data_prepared)\n",
    "knnrmse = mean_squared_error(y_test, predictions)\n",
    "np.sqrt(knnrmse)"
   ]
  },
  {
   "cell_type": "markdown",
   "metadata": {},
   "source": [
    "KNN seems to take more time to execute, and it has a higher RMSE. Thereore, it is less accurate than linear regression in this insance"
   ]
  }
 ],
 "metadata": {
  "kernelspec": {
   "display_name": "Python 3",
   "language": "python",
   "name": "python3"
  },
  "language_info": {
   "codemirror_mode": {
    "name": "ipython",
    "version": 3
   },
   "file_extension": ".py",
   "mimetype": "text/x-python",
   "name": "python",
   "nbconvert_exporter": "python",
   "pygments_lexer": "ipython3",
   "version": "3.8.3"
  }
 },
 "nbformat": 4,
 "nbformat_minor": 2
}
