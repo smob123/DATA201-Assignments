{
 "cells": [
  {
   "cell_type": "markdown",
   "metadata": {},
   "source": [
    "# Tutorial - Probability and Statistics Review - Solutions\n",
    "\n",
    "In this tutorial we will review the content of the last two lectures.\n",
    "\n",
    "We'll make use of the `scipy.stats` package and the `statsmodels.formula.api` package.\n",
    "\n",
    "Documentation is here: https://docs.scipy.org/doc/ and here: https://www.statsmodels.org/stable/index.html\n",
    "\n",
    "Import the relevant packages first."
   ]
  },
  {
   "cell_type": "code",
   "execution_count": 129,
   "metadata": {},
   "outputs": [],
   "source": [
    "import numpy as np\n",
    "import pandas as pd\n",
    "import scipy.stats as stats\n",
    "import statsmodels.formula.api as smf\n",
    "import matplotlib.pyplot as pl\n",
    "%matplotlib inline"
   ]
  },
  {
   "cell_type": "markdown",
   "metadata": {},
   "source": [
    "## Probability Distributions from data"
   ]
  },
  {
   "cell_type": "markdown",
   "metadata": {},
   "source": [
    "Read the SURF data set from lectures, and plot its first few rows"
   ]
  },
  {
   "cell_type": "code",
   "execution_count": 130,
   "metadata": {},
   "outputs": [
    {
     "data": {
      "text/html": [
       "<div>\n",
       "<style scoped>\n",
       "    .dataframe tbody tr th:only-of-type {\n",
       "        vertical-align: middle;\n",
       "    }\n",
       "\n",
       "    .dataframe tbody tr th {\n",
       "        vertical-align: top;\n",
       "    }\n",
       "\n",
       "    .dataframe thead th {\n",
       "        text-align: right;\n",
       "    }\n",
       "</style>\n",
       "<table border=\"1\" class=\"dataframe\">\n",
       "  <thead>\n",
       "    <tr style=\"text-align: right;\">\n",
       "      <th></th>\n",
       "      <th>Personid</th>\n",
       "      <th>Gender</th>\n",
       "      <th>Qualification</th>\n",
       "      <th>Age</th>\n",
       "      <th>Hours</th>\n",
       "      <th>Income</th>\n",
       "      <th>Marital</th>\n",
       "      <th>Ethnicity</th>\n",
       "    </tr>\n",
       "  </thead>\n",
       "  <tbody>\n",
       "    <tr>\n",
       "      <th>0</th>\n",
       "      <td>1</td>\n",
       "      <td>female</td>\n",
       "      <td>school</td>\n",
       "      <td>15</td>\n",
       "      <td>4</td>\n",
       "      <td>87</td>\n",
       "      <td>never</td>\n",
       "      <td>European</td>\n",
       "    </tr>\n",
       "    <tr>\n",
       "      <th>1</th>\n",
       "      <td>2</td>\n",
       "      <td>female</td>\n",
       "      <td>vocational</td>\n",
       "      <td>40</td>\n",
       "      <td>42</td>\n",
       "      <td>596</td>\n",
       "      <td>married</td>\n",
       "      <td>European</td>\n",
       "    </tr>\n",
       "    <tr>\n",
       "      <th>2</th>\n",
       "      <td>3</td>\n",
       "      <td>male</td>\n",
       "      <td>none</td>\n",
       "      <td>38</td>\n",
       "      <td>40</td>\n",
       "      <td>497</td>\n",
       "      <td>married</td>\n",
       "      <td>Maori</td>\n",
       "    </tr>\n",
       "    <tr>\n",
       "      <th>3</th>\n",
       "      <td>4</td>\n",
       "      <td>female</td>\n",
       "      <td>vocational</td>\n",
       "      <td>34</td>\n",
       "      <td>8</td>\n",
       "      <td>299</td>\n",
       "      <td>never</td>\n",
       "      <td>European</td>\n",
       "    </tr>\n",
       "    <tr>\n",
       "      <th>4</th>\n",
       "      <td>5</td>\n",
       "      <td>female</td>\n",
       "      <td>school</td>\n",
       "      <td>45</td>\n",
       "      <td>16</td>\n",
       "      <td>301</td>\n",
       "      <td>married</td>\n",
       "      <td>European</td>\n",
       "    </tr>\n",
       "  </tbody>\n",
       "</table>\n",
       "</div>"
      ],
      "text/plain": [
       "   Personid  Gender Qualification  Age  Hours  Income  Marital Ethnicity\n",
       "0         1  female        school   15      4      87    never  European\n",
       "1         2  female    vocational   40     42     596  married  European\n",
       "2         3    male          none   38     40     497  married     Maori\n",
       "3         4  female    vocational   34      8     299    never  European\n",
       "4         5  female        school   45     16     301  married  European"
      ]
     },
     "execution_count": 130,
     "metadata": {},
     "output_type": "execute_result"
    }
   ],
   "source": [
    "surf = pd.read_csv(\"SURFIncomeSurvey.csv\")\n",
    "# plot its first few rows\n",
    "surf.head()"
   ]
  },
  {
   "cell_type": "markdown",
   "metadata": {},
   "source": [
    "Counts and probabilities by Qualification"
   ]
  },
  {
   "cell_type": "code",
   "execution_count": 131,
   "metadata": {
    "scrolled": true
   },
   "outputs": [
    {
     "data": {
      "text/html": [
       "<div>\n",
       "<style scoped>\n",
       "    .dataframe tbody tr th:only-of-type {\n",
       "        vertical-align: middle;\n",
       "    }\n",
       "\n",
       "    .dataframe tbody tr th {\n",
       "        vertical-align: top;\n",
       "    }\n",
       "\n",
       "    .dataframe thead th {\n",
       "        text-align: right;\n",
       "    }\n",
       "</style>\n",
       "<table border=\"1\" class=\"dataframe\">\n",
       "  <thead>\n",
       "    <tr style=\"text-align: right;\">\n",
       "      <th></th>\n",
       "      <th>counts</th>\n",
       "      <th>probs</th>\n",
       "    </tr>\n",
       "  </thead>\n",
       "  <tbody>\n",
       "    <tr>\n",
       "      <th>degree</th>\n",
       "      <td>28</td>\n",
       "      <td>0.140</td>\n",
       "    </tr>\n",
       "    <tr>\n",
       "      <th>none</th>\n",
       "      <td>39</td>\n",
       "      <td>0.195</td>\n",
       "    </tr>\n",
       "    <tr>\n",
       "      <th>school</th>\n",
       "      <td>66</td>\n",
       "      <td>0.330</td>\n",
       "    </tr>\n",
       "    <tr>\n",
       "      <th>vocational</th>\n",
       "      <td>67</td>\n",
       "      <td>0.335</td>\n",
       "    </tr>\n",
       "  </tbody>\n",
       "</table>\n",
       "</div>"
      ],
      "text/plain": [
       "            counts  probs\n",
       "degree          28  0.140\n",
       "none            39  0.195\n",
       "school          66  0.330\n",
       "vocational      67  0.335"
      ]
     },
     "execution_count": 131,
     "metadata": {},
     "output_type": "execute_result"
    }
   ],
   "source": [
    "qtab = surf[\"Qualification\"].value_counts().sort_index()\n",
    "qual_dist = pd.DataFrame({'counts':qtab, 'probs':qtab/sum(qtab)})\n",
    "qual_dist"
   ]
  },
  {
   "cell_type": "markdown",
   "metadata": {},
   "source": [
    "Probability of having no Qualification"
   ]
  },
  {
   "cell_type": "code",
   "execution_count": 132,
   "metadata": {},
   "outputs": [
    {
     "data": {
      "text/plain": [
       "0.195"
      ]
     },
     "execution_count": 132,
     "metadata": {},
     "output_type": "execute_result"
    }
   ],
   "source": [
    "qual_dist['probs']['none']"
   ]
  },
  {
   "cell_type": "markdown",
   "metadata": {},
   "source": [
    "Counts by Qualification and Gender:"
   ]
  },
  {
   "cell_type": "code",
   "execution_count": 133,
   "metadata": {},
   "outputs": [
    {
     "data": {
      "text/html": [
       "<div>\n",
       "<style scoped>\n",
       "    .dataframe tbody tr th:only-of-type {\n",
       "        vertical-align: middle;\n",
       "    }\n",
       "\n",
       "    .dataframe tbody tr th {\n",
       "        vertical-align: top;\n",
       "    }\n",
       "\n",
       "    .dataframe thead th {\n",
       "        text-align: right;\n",
       "    }\n",
       "</style>\n",
       "<table border=\"1\" class=\"dataframe\">\n",
       "  <thead>\n",
       "    <tr style=\"text-align: right;\">\n",
       "      <th>Qualification</th>\n",
       "      <th>degree</th>\n",
       "      <th>none</th>\n",
       "      <th>school</th>\n",
       "      <th>vocational</th>\n",
       "      <th>Total</th>\n",
       "    </tr>\n",
       "    <tr>\n",
       "      <th>Gender</th>\n",
       "      <th></th>\n",
       "      <th></th>\n",
       "      <th></th>\n",
       "      <th></th>\n",
       "      <th></th>\n",
       "    </tr>\n",
       "  </thead>\n",
       "  <tbody>\n",
       "    <tr>\n",
       "      <th>female</th>\n",
       "      <td>11</td>\n",
       "      <td>22</td>\n",
       "      <td>39</td>\n",
       "      <td>35</td>\n",
       "      <td>107</td>\n",
       "    </tr>\n",
       "    <tr>\n",
       "      <th>male</th>\n",
       "      <td>17</td>\n",
       "      <td>17</td>\n",
       "      <td>27</td>\n",
       "      <td>32</td>\n",
       "      <td>93</td>\n",
       "    </tr>\n",
       "    <tr>\n",
       "      <th>Total</th>\n",
       "      <td>28</td>\n",
       "      <td>39</td>\n",
       "      <td>66</td>\n",
       "      <td>67</td>\n",
       "      <td>200</td>\n",
       "    </tr>\n",
       "  </tbody>\n",
       "</table>\n",
       "</div>"
      ],
      "text/plain": [
       "Qualification  degree  none  school  vocational  Total\n",
       "Gender                                                \n",
       "female             11    22      39          35    107\n",
       "male               17    17      27          32     93\n",
       "Total              28    39      66          67    200"
      ]
     },
     "execution_count": 133,
     "metadata": {},
     "output_type": "execute_result"
    }
   ],
   "source": [
    "# Create counts in these categories\n",
    "pd.crosstab(surf['Gender'], surf['Qualification'], \n",
    "            margins=True, margins_name='Total')"
   ]
  },
  {
   "cell_type": "markdown",
   "metadata": {},
   "source": [
    "Joint probabilities by Qualification and Gender: use `normalise='all'`"
   ]
  },
  {
   "cell_type": "code",
   "execution_count": 134,
   "metadata": {},
   "outputs": [
    {
     "data": {
      "text/html": [
       "<div>\n",
       "<style scoped>\n",
       "    .dataframe tbody tr th:only-of-type {\n",
       "        vertical-align: middle;\n",
       "    }\n",
       "\n",
       "    .dataframe tbody tr th {\n",
       "        vertical-align: top;\n",
       "    }\n",
       "\n",
       "    .dataframe thead th {\n",
       "        text-align: right;\n",
       "    }\n",
       "</style>\n",
       "<table border=\"1\" class=\"dataframe\">\n",
       "  <thead>\n",
       "    <tr style=\"text-align: right;\">\n",
       "      <th>Qualification</th>\n",
       "      <th>degree</th>\n",
       "      <th>none</th>\n",
       "      <th>school</th>\n",
       "      <th>vocational</th>\n",
       "      <th>Total</th>\n",
       "    </tr>\n",
       "    <tr>\n",
       "      <th>Gender</th>\n",
       "      <th></th>\n",
       "      <th></th>\n",
       "      <th></th>\n",
       "      <th></th>\n",
       "      <th></th>\n",
       "    </tr>\n",
       "  </thead>\n",
       "  <tbody>\n",
       "    <tr>\n",
       "      <th>female</th>\n",
       "      <td>0.055</td>\n",
       "      <td>0.110</td>\n",
       "      <td>0.195</td>\n",
       "      <td>0.175</td>\n",
       "      <td>0.535</td>\n",
       "    </tr>\n",
       "    <tr>\n",
       "      <th>male</th>\n",
       "      <td>0.085</td>\n",
       "      <td>0.085</td>\n",
       "      <td>0.135</td>\n",
       "      <td>0.160</td>\n",
       "      <td>0.465</td>\n",
       "    </tr>\n",
       "    <tr>\n",
       "      <th>Total</th>\n",
       "      <td>0.140</td>\n",
       "      <td>0.195</td>\n",
       "      <td>0.330</td>\n",
       "      <td>0.335</td>\n",
       "      <td>1.000</td>\n",
       "    </tr>\n",
       "  </tbody>\n",
       "</table>\n",
       "</div>"
      ],
      "text/plain": [
       "Qualification  degree   none  school  vocational  Total\n",
       "Gender                                                 \n",
       "female          0.055  0.110   0.195       0.175  0.535\n",
       "male            0.085  0.085   0.135       0.160  0.465\n",
       "Total           0.140  0.195   0.330       0.335  1.000"
      ]
     },
     "execution_count": 134,
     "metadata": {},
     "output_type": "execute_result"
    }
   ],
   "source": [
    "# Create counts in these categories\n",
    "ctab = pd.crosstab(surf['Gender'], surf['Qualification'], \n",
    "                   margins=True, margins_name='Total', normalize='all')\n",
    "ctab"
   ]
  },
  {
   "cell_type": "markdown",
   "metadata": {},
   "source": [
    "The probability that a randomly chosen person is female **and** has a vocational qualification"
   ]
  },
  {
   "cell_type": "code",
   "execution_count": 135,
   "metadata": {},
   "outputs": [
    {
     "data": {
      "text/plain": [
       "0.175"
      ]
     },
     "execution_count": 135,
     "metadata": {},
     "output_type": "execute_result"
    }
   ],
   "source": [
    "ctab['vocational']['female']"
   ]
  },
  {
   "cell_type": "markdown",
   "metadata": {},
   "source": [
    "Conditional probabilities for Qualification **given** Gender: use `normalise='index'` (normalise across the rows)"
   ]
  },
  {
   "cell_type": "code",
   "execution_count": 136,
   "metadata": {},
   "outputs": [
    {
     "data": {
      "text/html": [
       "<div>\n",
       "<style scoped>\n",
       "    .dataframe tbody tr th:only-of-type {\n",
       "        vertical-align: middle;\n",
       "    }\n",
       "\n",
       "    .dataframe tbody tr th {\n",
       "        vertical-align: top;\n",
       "    }\n",
       "\n",
       "    .dataframe thead th {\n",
       "        text-align: right;\n",
       "    }\n",
       "</style>\n",
       "<table border=\"1\" class=\"dataframe\">\n",
       "  <thead>\n",
       "    <tr style=\"text-align: right;\">\n",
       "      <th>Qualification</th>\n",
       "      <th>degree</th>\n",
       "      <th>none</th>\n",
       "      <th>school</th>\n",
       "      <th>vocational</th>\n",
       "    </tr>\n",
       "    <tr>\n",
       "      <th>Gender</th>\n",
       "      <th></th>\n",
       "      <th></th>\n",
       "      <th></th>\n",
       "      <th></th>\n",
       "    </tr>\n",
       "  </thead>\n",
       "  <tbody>\n",
       "    <tr>\n",
       "      <th>female</th>\n",
       "      <td>0.102804</td>\n",
       "      <td>0.205607</td>\n",
       "      <td>0.364486</td>\n",
       "      <td>0.327103</td>\n",
       "    </tr>\n",
       "    <tr>\n",
       "      <th>male</th>\n",
       "      <td>0.182796</td>\n",
       "      <td>0.182796</td>\n",
       "      <td>0.290323</td>\n",
       "      <td>0.344086</td>\n",
       "    </tr>\n",
       "  </tbody>\n",
       "</table>\n",
       "</div>"
      ],
      "text/plain": [
       "Qualification    degree      none    school  vocational\n",
       "Gender                                                 \n",
       "female         0.102804  0.205607  0.364486    0.327103\n",
       "male           0.182796  0.182796  0.290323    0.344086"
      ]
     },
     "execution_count": 136,
     "metadata": {},
     "output_type": "execute_result"
    }
   ],
   "source": [
    "# Create counts in these categories\n",
    "ctab = pd.crosstab(surf['Gender'], surf['Qualification'], \n",
    "                   normalize='index')\n",
    "ctab"
   ]
  },
  {
   "cell_type": "markdown",
   "metadata": {},
   "source": [
    "The probability that a randomly chosen **female** person has a vocational qualification "
   ]
  },
  {
   "cell_type": "code",
   "execution_count": 137,
   "metadata": {},
   "outputs": [
    {
     "data": {
      "text/plain": [
       "0.327"
      ]
     },
     "execution_count": 137,
     "metadata": {},
     "output_type": "execute_result"
    }
   ],
   "source": [
    "round(ctab['vocational']['female'],3)"
   ]
  },
  {
   "cell_type": "markdown",
   "metadata": {},
   "source": [
    "Conditional probabilities for Gender **given** Qualification: use `normalise='columns'` (normalise down the columns)"
   ]
  },
  {
   "cell_type": "code",
   "execution_count": 138,
   "metadata": {},
   "outputs": [
    {
     "data": {
      "text/html": [
       "<div>\n",
       "<style scoped>\n",
       "    .dataframe tbody tr th:only-of-type {\n",
       "        vertical-align: middle;\n",
       "    }\n",
       "\n",
       "    .dataframe tbody tr th {\n",
       "        vertical-align: top;\n",
       "    }\n",
       "\n",
       "    .dataframe thead th {\n",
       "        text-align: right;\n",
       "    }\n",
       "</style>\n",
       "<table border=\"1\" class=\"dataframe\">\n",
       "  <thead>\n",
       "    <tr style=\"text-align: right;\">\n",
       "      <th>Qualification</th>\n",
       "      <th>degree</th>\n",
       "      <th>none</th>\n",
       "      <th>school</th>\n",
       "      <th>vocational</th>\n",
       "    </tr>\n",
       "    <tr>\n",
       "      <th>Gender</th>\n",
       "      <th></th>\n",
       "      <th></th>\n",
       "      <th></th>\n",
       "      <th></th>\n",
       "    </tr>\n",
       "  </thead>\n",
       "  <tbody>\n",
       "    <tr>\n",
       "      <th>female</th>\n",
       "      <td>0.392857</td>\n",
       "      <td>0.564103</td>\n",
       "      <td>0.590909</td>\n",
       "      <td>0.522388</td>\n",
       "    </tr>\n",
       "    <tr>\n",
       "      <th>male</th>\n",
       "      <td>0.607143</td>\n",
       "      <td>0.435897</td>\n",
       "      <td>0.409091</td>\n",
       "      <td>0.477612</td>\n",
       "    </tr>\n",
       "  </tbody>\n",
       "</table>\n",
       "</div>"
      ],
      "text/plain": [
       "Qualification    degree      none    school  vocational\n",
       "Gender                                                 \n",
       "female         0.392857  0.564103  0.590909    0.522388\n",
       "male           0.607143  0.435897  0.409091    0.477612"
      ]
     },
     "execution_count": 138,
     "metadata": {},
     "output_type": "execute_result"
    }
   ],
   "source": [
    "# Create counts in these categories\n",
    "ctab = pd.crosstab(surf['Gender'], surf['Qualification'], \n",
    "                   normalize='columns')\n",
    "ctab"
   ]
  },
  {
   "cell_type": "markdown",
   "metadata": {},
   "source": [
    "The probability that a randomly chosen person **with a vocational qualification** is female"
   ]
  },
  {
   "cell_type": "code",
   "execution_count": 139,
   "metadata": {},
   "outputs": [
    {
     "data": {
      "text/plain": [
       "0.522"
      ]
     },
     "execution_count": 139,
     "metadata": {},
     "output_type": "execute_result"
    }
   ],
   "source": [
    "round(ctab['vocational']['female'],3)"
   ]
  },
  {
   "cell_type": "markdown",
   "metadata": {},
   "source": [
    "### Exercises"
   ]
  },
  {
   "cell_type": "markdown",
   "metadata": {},
   "source": [
    "1. Read the data file 'titanic.csv' - a passenger list of the Titanic"
   ]
  },
  {
   "cell_type": "code",
   "execution_count": 140,
   "metadata": {
    "scrolled": true
   },
   "outputs": [
    {
     "data": {
      "text/html": [
       "<div>\n",
       "<style scoped>\n",
       "    .dataframe tbody tr th:only-of-type {\n",
       "        vertical-align: middle;\n",
       "    }\n",
       "\n",
       "    .dataframe tbody tr th {\n",
       "        vertical-align: top;\n",
       "    }\n",
       "\n",
       "    .dataframe thead th {\n",
       "        text-align: right;\n",
       "    }\n",
       "</style>\n",
       "<table border=\"1\" class=\"dataframe\">\n",
       "  <thead>\n",
       "    <tr style=\"text-align: right;\">\n",
       "      <th></th>\n",
       "      <th>passenger</th>\n",
       "      <th>pclass</th>\n",
       "      <th>survived</th>\n",
       "      <th>name</th>\n",
       "      <th>age</th>\n",
       "      <th>embarked</th>\n",
       "      <th>home.dest</th>\n",
       "      <th>room</th>\n",
       "      <th>ticket</th>\n",
       "      <th>boat</th>\n",
       "      <th>sex</th>\n",
       "    </tr>\n",
       "  </thead>\n",
       "  <tbody>\n",
       "    <tr>\n",
       "      <th>0</th>\n",
       "      <td>1</td>\n",
       "      <td>1st</td>\n",
       "      <td>Yes</td>\n",
       "      <td>Allen, Miss Elisabeth Walton                  ...</td>\n",
       "      <td>29</td>\n",
       "      <td>Southampton</td>\n",
       "      <td>St Louis, MO                                  ...</td>\n",
       "      <td>B-5</td>\n",
       "      <td>24160 L221</td>\n",
       "      <td>2</td>\n",
       "      <td>female</td>\n",
       "    </tr>\n",
       "    <tr>\n",
       "      <th>1</th>\n",
       "      <td>2</td>\n",
       "      <td>1st</td>\n",
       "      <td>No</td>\n",
       "      <td>Allison, Miss Helen Loraine                   ...</td>\n",
       "      <td>2</td>\n",
       "      <td>Southampton</td>\n",
       "      <td>Montreal, PQ / Chesterville, ON               ...</td>\n",
       "      <td>C26</td>\n",
       "      <td></td>\n",
       "      <td></td>\n",
       "      <td>female</td>\n",
       "    </tr>\n",
       "    <tr>\n",
       "      <th>2</th>\n",
       "      <td>3</td>\n",
       "      <td>1st</td>\n",
       "      <td>No</td>\n",
       "      <td>Allison, Mr Hudson Joshua Creighton           ...</td>\n",
       "      <td>30</td>\n",
       "      <td>Southampton</td>\n",
       "      <td>Montreal, PQ / Chesterville, ON               ...</td>\n",
       "      <td>C26</td>\n",
       "      <td></td>\n",
       "      <td>-135</td>\n",
       "      <td>male</td>\n",
       "    </tr>\n",
       "    <tr>\n",
       "      <th>3</th>\n",
       "      <td>4</td>\n",
       "      <td>1st</td>\n",
       "      <td>No</td>\n",
       "      <td>Allison, Mrs Hudson J.C. (Bessie Waldo Daniels...</td>\n",
       "      <td>25</td>\n",
       "      <td>Southampton</td>\n",
       "      <td>Montreal, PQ / Chesterville, ON               ...</td>\n",
       "      <td>C26</td>\n",
       "      <td></td>\n",
       "      <td></td>\n",
       "      <td>female</td>\n",
       "    </tr>\n",
       "    <tr>\n",
       "      <th>4</th>\n",
       "      <td>5</td>\n",
       "      <td>1st</td>\n",
       "      <td>Yes</td>\n",
       "      <td>Allison, Master Hudson Trevor                 ...</td>\n",
       "      <td>0.9167</td>\n",
       "      <td>Southampton</td>\n",
       "      <td>Montreal, PQ / Chesterville, ON               ...</td>\n",
       "      <td>C22</td>\n",
       "      <td></td>\n",
       "      <td>11</td>\n",
       "      <td>male</td>\n",
       "    </tr>\n",
       "  </tbody>\n",
       "</table>\n",
       "</div>"
      ],
      "text/plain": [
       "   passenger pclass survived  \\\n",
       "0          1    1st      Yes   \n",
       "1          2    1st      No    \n",
       "2          3    1st      No    \n",
       "3          4    1st      No    \n",
       "4          5    1st      Yes   \n",
       "\n",
       "                                                name     age     embarked  \\\n",
       "0  Allen, Miss Elisabeth Walton                  ...  29      Southampton   \n",
       "1  Allison, Miss Helen Loraine                   ...  2       Southampton   \n",
       "2  Allison, Mr Hudson Joshua Creighton           ...  30      Southampton   \n",
       "3  Allison, Mrs Hudson J.C. (Bessie Waldo Daniels...  25      Southampton   \n",
       "4  Allison, Master Hudson Trevor                 ...  0.9167  Southampton   \n",
       "\n",
       "                                           home.dest          room  \\\n",
       "0  St Louis, MO                                  ...  B-5            \n",
       "1  Montreal, PQ / Chesterville, ON               ...  C26            \n",
       "2  Montreal, PQ / Chesterville, ON               ...  C26            \n",
       "3  Montreal, PQ / Chesterville, ON               ...  C26            \n",
       "4  Montreal, PQ / Chesterville, ON               ...  C22            \n",
       "\n",
       "                 ticket   boat     sex  \n",
       "0  24160 L221            2      female  \n",
       "1                               female  \n",
       "2                        -135   male    \n",
       "3                               female  \n",
       "4                        11     male    "
      ]
     },
     "execution_count": 140,
     "metadata": {},
     "output_type": "execute_result"
    }
   ],
   "source": [
    "titanic = pd.read_csv(\"titanic.csv\")\n",
    "# plot its first few rows\n",
    "titanic.head()"
   ]
  },
  {
   "cell_type": "markdown",
   "metadata": {},
   "source": [
    "2. Calculate: (Here we write $X$ as the variable 'survived' and $S$ as the variable 'sex')\n",
    "\n",
    "   (a) the probability of survival $\\Pr(X=\\text{'Yes'})$\n",
    "   \n",
    "   (b) the probability of being both female and surviving $\\Pr(S=\\text{'female'},X=\\text{'Yes'})$\n",
    "   \n",
    "   (c) the probability that a female survives $\\Pr(X=\\text{'Yes'} | S=\\text{'female'})$\n",
    "   \n",
    "   (d) the probability that a survivor is female $\\Pr(S=\\text{'female'} | X=\\text{'Yes'})$"
   ]
  },
  {
   "cell_type": "code",
   "execution_count": 141,
   "metadata": {},
   "outputs": [
    {
     "name": "stdout",
     "output_type": "stream",
     "text": [
      "The probability of survival is: 0.342\n"
     ]
    }
   ],
   "source": [
    "# (a): Tabulate by survival\n",
    "probs = titanic['survived'].value_counts(normalize=True)\n",
    "print('The probability of survival is:',round(probs['Yes'],3))"
   ]
  },
  {
   "cell_type": "code",
   "execution_count": 142,
   "metadata": {
    "scrolled": true
   },
   "outputs": [
    {
     "data": {
      "text/html": [
       "<div>\n",
       "<style scoped>\n",
       "    .dataframe tbody tr th:only-of-type {\n",
       "        vertical-align: middle;\n",
       "    }\n",
       "\n",
       "    .dataframe tbody tr th {\n",
       "        vertical-align: top;\n",
       "    }\n",
       "\n",
       "    .dataframe thead th {\n",
       "        text-align: right;\n",
       "    }\n",
       "</style>\n",
       "<table border=\"1\" class=\"dataframe\">\n",
       "  <thead>\n",
       "    <tr style=\"text-align: right;\">\n",
       "      <th>sex</th>\n",
       "      <th>female</th>\n",
       "      <th>male</th>\n",
       "    </tr>\n",
       "    <tr>\n",
       "      <th>survived</th>\n",
       "      <th></th>\n",
       "      <th></th>\n",
       "    </tr>\n",
       "  </thead>\n",
       "  <tbody>\n",
       "    <tr>\n",
       "      <th>No</th>\n",
       "      <td>0.118812</td>\n",
       "      <td>0.539223</td>\n",
       "    </tr>\n",
       "    <tr>\n",
       "      <th>Yes</th>\n",
       "      <td>0.233816</td>\n",
       "      <td>0.108149</td>\n",
       "    </tr>\n",
       "  </tbody>\n",
       "</table>\n",
       "</div>"
      ],
      "text/plain": [
       "sex         female    male  \n",
       "survived                    \n",
       "No        0.118812  0.539223\n",
       "Yes       0.233816  0.108149"
      ]
     },
     "execution_count": 142,
     "metadata": {},
     "output_type": "execute_result"
    }
   ],
   "source": [
    "# (b): Cross tabulate and normalise the whole table\n",
    "ctab = pd.crosstab(titanic['survived'],titanic['sex'],normalize='all')\n",
    "ctab"
   ]
  },
  {
   "cell_type": "code",
   "execution_count": 143,
   "metadata": {},
   "outputs": [
    {
     "name": "stdout",
     "output_type": "stream",
     "text": [
      "P(X='Yes', S='female') = 0.234\n"
     ]
    }
   ],
   "source": [
    "# probability of being both female and surviving\n",
    "print(\"P(X='Yes', S='female') =\",round(ctab['female']['Yes'],3))"
   ]
  },
  {
   "cell_type": "code",
   "execution_count": 144,
   "metadata": {},
   "outputs": [
    {
     "data": {
      "text/html": [
       "<div>\n",
       "<style scoped>\n",
       "    .dataframe tbody tr th:only-of-type {\n",
       "        vertical-align: middle;\n",
       "    }\n",
       "\n",
       "    .dataframe tbody tr th {\n",
       "        vertical-align: top;\n",
       "    }\n",
       "\n",
       "    .dataframe thead th {\n",
       "        text-align: right;\n",
       "    }\n",
       "</style>\n",
       "<table border=\"1\" class=\"dataframe\">\n",
       "  <thead>\n",
       "    <tr style=\"text-align: right;\">\n",
       "      <th>sex</th>\n",
       "      <th>female</th>\n",
       "      <th>male</th>\n",
       "    </tr>\n",
       "    <tr>\n",
       "      <th>survived</th>\n",
       "      <th></th>\n",
       "      <th></th>\n",
       "    </tr>\n",
       "  </thead>\n",
       "  <tbody>\n",
       "    <tr>\n",
       "      <th>No</th>\n",
       "      <td>0.336933</td>\n",
       "      <td>0.832941</td>\n",
       "    </tr>\n",
       "    <tr>\n",
       "      <th>Yes</th>\n",
       "      <td>0.663067</td>\n",
       "      <td>0.167059</td>\n",
       "    </tr>\n",
       "  </tbody>\n",
       "</table>\n",
       "</div>"
      ],
      "text/plain": [
       "sex         female    male  \n",
       "survived                    \n",
       "No        0.336933  0.832941\n",
       "Yes       0.663067  0.167059"
      ]
     },
     "execution_count": 144,
     "metadata": {},
     "output_type": "execute_result"
    }
   ],
   "source": [
    "# (c): Cross tabulate and normalise the columns\n",
    "ctab = pd.crosstab(titanic['survived'],titanic['sex'],normalize='columns')\n",
    "ctab"
   ]
  },
  {
   "cell_type": "code",
   "execution_count": 145,
   "metadata": {},
   "outputs": [
    {
     "name": "stdout",
     "output_type": "stream",
     "text": [
      "The probability that a female survives: P(X='Yes' | S='female') = 0.663\n"
     ]
    }
   ],
   "source": [
    "print(\"The probability that a female survives: P(X='Yes' | S='female') =\",round(ctab['female']['Yes'],3))"
   ]
  },
  {
   "cell_type": "code",
   "execution_count": 146,
   "metadata": {},
   "outputs": [
    {
     "data": {
      "text/html": [
       "<div>\n",
       "<style scoped>\n",
       "    .dataframe tbody tr th:only-of-type {\n",
       "        vertical-align: middle;\n",
       "    }\n",
       "\n",
       "    .dataframe tbody tr th {\n",
       "        vertical-align: top;\n",
       "    }\n",
       "\n",
       "    .dataframe thead th {\n",
       "        text-align: right;\n",
       "    }\n",
       "</style>\n",
       "<table border=\"1\" class=\"dataframe\">\n",
       "  <thead>\n",
       "    <tr style=\"text-align: right;\">\n",
       "      <th>sex</th>\n",
       "      <th>female</th>\n",
       "      <th>male</th>\n",
       "    </tr>\n",
       "    <tr>\n",
       "      <th>survived</th>\n",
       "      <th></th>\n",
       "      <th></th>\n",
       "    </tr>\n",
       "  </thead>\n",
       "  <tbody>\n",
       "    <tr>\n",
       "      <th>No</th>\n",
       "      <td>0.180556</td>\n",
       "      <td>0.819444</td>\n",
       "    </tr>\n",
       "    <tr>\n",
       "      <th>Yes</th>\n",
       "      <td>0.683742</td>\n",
       "      <td>0.316258</td>\n",
       "    </tr>\n",
       "  </tbody>\n",
       "</table>\n",
       "</div>"
      ],
      "text/plain": [
       "sex         female    male  \n",
       "survived                    \n",
       "No        0.180556  0.819444\n",
       "Yes       0.683742  0.316258"
      ]
     },
     "execution_count": 146,
     "metadata": {},
     "output_type": "execute_result"
    }
   ],
   "source": [
    "# (d): Cross tabulate and normalise the rows\n",
    "ctab = pd.crosstab(titanic['survived'],titanic['sex'],normalize='index')\n",
    "ctab"
   ]
  },
  {
   "cell_type": "code",
   "execution_count": 147,
   "metadata": {},
   "outputs": [
    {
     "name": "stdout",
     "output_type": "stream",
     "text": [
      "The probability that a survivor is female: P(S='female' | X='Yes') = 0.684\n"
     ]
    }
   ],
   "source": [
    "print(\"The probability that a survivor is female: P(S='female' | X='Yes') =\",round(ctab['female']['Yes'],3))"
   ]
  },
  {
   "cell_type": "markdown",
   "metadata": {},
   "source": [
    "## Theoretical Probability Distributions"
   ]
  },
  {
   "cell_type": "markdown",
   "metadata": {},
   "source": [
    "1. Compute and plot the probabililty distribution of a Binomial(20,0.2) distribution - i.e. where there are 20 trials, each with a probability of success of 20% "
   ]
  },
  {
   "cell_type": "code",
   "execution_count": 148,
   "metadata": {},
   "outputs": [
    {
     "name": "stdout",
     "output_type": "stream",
     "text": [
      "[ 0  1  2  3  4  5  6  7  8  9 10 11 12 13 14 15 16 17 18 19 20]\n"
     ]
    }
   ],
   "source": [
    "# Set the parameters\n",
    "n, p = 20, 0.2\n",
    "# Generate an array from 0 to n\n",
    "x = np.arange(0, n+1)\n",
    "print(x)"
   ]
  },
  {
   "cell_type": "code",
   "execution_count": 149,
   "metadata": {
    "scrolled": true
   },
   "outputs": [
    {
     "name": "stdout",
     "output_type": "stream",
     "text": [
      "[1.15292150e-02 5.76460752e-02 1.36909429e-01 2.05364143e-01\n",
      " 2.18199402e-01 1.74559522e-01 1.09099701e-01 5.45498505e-02\n",
      " 2.21608768e-02 7.38695892e-03 2.03141370e-03 4.61684933e-04\n",
      " 8.65659248e-05 1.33178346e-05 1.66472932e-06 1.66472932e-07\n",
      " 1.30056978e-08 7.65041050e-10 3.18767104e-11 8.38860800e-13\n",
      " 1.04857600e-14]\n"
     ]
    }
   ],
   "source": [
    "# Evaluate the probability mass function at these locations\n",
    "probs = stats.binom.pmf(x, n, p)\n",
    "print(probs)"
   ]
  },
  {
   "cell_type": "code",
   "execution_count": 150,
   "metadata": {},
   "outputs": [
    {
     "data": {
      "image/png": "[encoded data removed]",
      "text/plain": [
       "<Figure size 432x288 with 1 Axes>"
      ]
     },
     "metadata": {
      "needs_background": "light"
     },
     "output_type": "display_data"
    }
   ],
   "source": [
    "# Plot these probabilities\n",
    "width = 0.70  # the width of the bars\n",
    "fig, ax = pl.subplots(1,1)\n",
    "rects = ax.bar(x - width/2, probs, width, color='SkyBlue')\n",
    "ax.set(xlabel='x', ylabel='Pr(X=x) ', title='Binomial(20,0.2) distribution');"
   ]
  },
  {
   "cell_type": "markdown",
   "metadata": {},
   "source": [
    "2. Compute and plot the probability distribution of a Gamma(3,4) distribution - shape=3 and rate=4 (scale=1/4).  (In most cases Gamma distributions are defined by shape+rate, but python uses shape+scale: scale is just 1/rate). Plot the distribution over the range 0 to 3. "
   ]
  },
  {
   "cell_type": "code",
   "execution_count": 151,
   "metadata": {},
   "outputs": [
    {
     "data": {
      "image/png": "[encoded data removed]",
      "text/plain": [
       "<Figure size 432x288 with 1 Axes>"
      ]
     },
     "metadata": {
      "needs_background": "light"
     },
     "output_type": "display_data"
    }
   ],
   "source": [
    "x = np.arange(0, 3, 0.01)\n",
    "probs = stats.gamma.pdf(x, a=3, scale=1/4)\n",
    "pl.plot(x, probs)\n",
    "ax.set(xlabel='x', ylabel='f(X=x) ', title='Gamma(3,4) distribution');"
   ]
  },
  {
   "cell_type": "markdown",
   "metadata": {},
   "source": [
    "3. If the length of time it takes for an unemployed person to find work is distributed as a Gamma distribution with shape=5 and rate=0.3, calculate the probability it takes between 10 and 20 days to find work. "
   ]
  },
  {
   "cell_type": "code",
   "execution_count": 152,
   "metadata": {},
   "outputs": [
    {
     "name": "stdout",
     "output_type": "stream",
     "text": [
      "0.530206744207141\n"
     ]
    }
   ],
   "source": [
    "shape = 5\n",
    "rate = 0.3\n",
    "problt10 = stats.gamma.cdf(10, a=shape, scale=1/rate)\n",
    "problt20 = stats.gamma.cdf(20, a=shape, scale=1/rate)\n",
    "print(problt20-problt10)"
   ]
  },
  {
   "cell_type": "markdown",
   "metadata": {},
   "source": [
    "4. There are three boxes on the table - the boxes are closed, and each contains two coins.  One box contains two silver coins (SS), one box contains two gold coins (GG), and the third contains one sliver and one gold coin (SG).  \n",
    "\n",
    "   (a) I choose a box at random.  The identity of the box X is one of SS, GG or GS.  What are the probabilities that I choose each of the boxes?  i.e. what are the probabilities P(X=SS), P(X=GG) and P(SG)?\n",
    "\n",
    "   (b) I put my hand in the box, and draw out a coin.  The type of coin Y is either S (silver) or G (gold).   What are the conditional probabilities of drawing a gold coin P(Y=G|X) for each of the three different box identities X?\n",
    "\n",
    "   (c) What is the probability that at the end of step (b) I am holding a gold coin?\n",
    "\n",
    "   (d) What is the probability that I have picked the GG box if I am holding a gold coin at the end of step (b)?"
   ]
  },
  {
   "cell_type": "code",
   "execution_count": 153,
   "metadata": {
    "scrolled": true
   },
   "outputs": [
    {
     "name": "stdout",
     "output_type": "stream",
     "text": [
      "0.3333333333333333 0.3333333333333333 0.3333333333333333\n"
     ]
    }
   ],
   "source": [
    "# (a)\n",
    "pXSS = 1/3\n",
    "pXGG = 1/3\n",
    "pXSG = 1/3\n",
    "print(pXSS, pXGG, pXSG)"
   ]
  },
  {
   "cell_type": "code",
   "execution_count": 154,
   "metadata": {
    "scrolled": true
   },
   "outputs": [
    {
     "name": "stdout",
     "output_type": "stream",
     "text": [
      "0\n",
      "1\n",
      "0.5\n"
     ]
    }
   ],
   "source": [
    "# (b)\n",
    "pYGgivenXSS = 0\n",
    "pYGgivenXGG = 1\n",
    "pYGgivenXSG = 0.5\n",
    "print(pYGgivenXSS)\n",
    "print(pYGgivenXGG)\n",
    "print(pYGgivenXSG)"
   ]
  },
  {
   "cell_type": "code",
   "execution_count": 155,
   "metadata": {},
   "outputs": [
    {
     "name": "stdout",
     "output_type": "stream",
     "text": [
      "0.5\n"
     ]
    }
   ],
   "source": [
    "# (c)\n",
    "pYG = pYGgivenXSS*pXSS + pYGgivenXGG*pXGG + pYGgivenXSG*pXSG\n",
    "print(pYG)"
   ]
  },
  {
   "cell_type": "code",
   "execution_count": 156,
   "metadata": {
    "scrolled": true
   },
   "outputs": [
    {
     "name": "stdout",
     "output_type": "stream",
     "text": [
      "0.6666666666666666\n"
     ]
    }
   ],
   "source": [
    "# (d) Bayes Rule\n",
    "pXGGgivenYG = pYGgivenXGG*pXGG/pYG\n",
    "print(pXGGgivenYG)"
   ]
  },
  {
   "cell_type": "markdown",
   "metadata": {},
   "source": [
    "## Model fitting\n",
    "\n",
    "Now we'll fit some regression models.  The function that's easiest to use for this is `ols()` from `statsmodels.formula.api`."
   ]
  },
  {
   "cell_type": "markdown",
   "metadata": {},
   "source": [
    "Read in the data set of Olympic 100m records from `Olympic100m.csv`"
   ]
  },
  {
   "cell_type": "code",
   "execution_count": 186,
   "metadata": {},
   "outputs": [
    {
     "data": {
      "text/html": [
       "<div>\n",
       "<style scoped>\n",
       "    .dataframe tbody tr th:only-of-type {\n",
       "        vertical-align: middle;\n",
       "    }\n",
       "\n",
       "    .dataframe tbody tr th {\n",
       "        vertical-align: top;\n",
       "    }\n",
       "\n",
       "    .dataframe thead th {\n",
       "        text-align: right;\n",
       "    }\n",
       "</style>\n",
       "<table border=\"1\" class=\"dataframe\">\n",
       "  <thead>\n",
       "    <tr style=\"text-align: right;\">\n",
       "      <th></th>\n",
       "      <th>YEAR</th>\n",
       "      <th>NAME</th>\n",
       "      <th>TIME</th>\n",
       "      <th>Country</th>\n",
       "      <th>Gender</th>\n",
       "    </tr>\n",
       "  </thead>\n",
       "  <tbody>\n",
       "    <tr>\n",
       "      <th>0</th>\n",
       "      <td>1896</td>\n",
       "      <td>Tom Burke</td>\n",
       "      <td>12.0</td>\n",
       "      <td>USA</td>\n",
       "      <td>male</td>\n",
       "    </tr>\n",
       "    <tr>\n",
       "      <th>1</th>\n",
       "      <td>1900</td>\n",
       "      <td>Frank Jarvis</td>\n",
       "      <td>11.0</td>\n",
       "      <td>USA</td>\n",
       "      <td>male</td>\n",
       "    </tr>\n",
       "    <tr>\n",
       "      <th>2</th>\n",
       "      <td>1904</td>\n",
       "      <td>Archie Hahn</td>\n",
       "      <td>11.0</td>\n",
       "      <td>USA</td>\n",
       "      <td>male</td>\n",
       "    </tr>\n",
       "    <tr>\n",
       "      <th>3</th>\n",
       "      <td>1906</td>\n",
       "      <td>Archie Hahn</td>\n",
       "      <td>11.2</td>\n",
       "      <td>USA</td>\n",
       "      <td>male</td>\n",
       "    </tr>\n",
       "    <tr>\n",
       "      <th>4</th>\n",
       "      <td>1908</td>\n",
       "      <td>Reggie Walker</td>\n",
       "      <td>10.8</td>\n",
       "      <td>SAF</td>\n",
       "      <td>male</td>\n",
       "    </tr>\n",
       "  </tbody>\n",
       "</table>\n",
       "</div>"
      ],
      "text/plain": [
       "   YEAR           NAME  TIME Country Gender\n",
       "0  1896      Tom Burke  12.0     USA   male\n",
       "1  1900   Frank Jarvis  11.0     USA   male\n",
       "2  1904    Archie Hahn  11.0     USA   male\n",
       "3  1906    Archie Hahn  11.2     USA   male\n",
       "4  1908  Reggie Walker  10.8     SAF   male"
      ]
     },
     "execution_count": 186,
     "metadata": {},
     "output_type": "execute_result"
    }
   ],
   "source": [
    "olympic = pd.read_csv('Olympic100m.csv')\n",
    "olympic.head()"
   ]
  },
  {
   "cell_type": "markdown",
   "metadata": {},
   "source": [
    "Draw a scatter plot of year and time, showing males and females as separate symbols"
   ]
  },
  {
   "cell_type": "code",
   "execution_count": 195,
   "metadata": {},
   "outputs": [
    {
     "data": {
      "image/png": "[encoded data removed]",
      "text/plain": [
       "<Figure size 432x288 with 1 Axes>"
      ]
     },
     "metadata": {
      "needs_background": "light"
     },
     "output_type": "display_data"
    }
   ],
   "source": [
    "cols = np.where(olympic['Gender']=='female','tab:blue','tab:red')\n",
    "fig, ax = pl.subplots(1,1)\n",
    "pl.scatter(olympic['YEAR'], olympic['TIME'], marker='o', c=cols);\n",
    "ax.set(xlabel='Year', ylabel='Time (sec)');"
   ]
  },
  {
   "cell_type": "markdown",
   "metadata": {},
   "source": [
    "Fit a linear regression model for the female data only"
   ]
  },
  {
   "cell_type": "code",
   "execution_count": 188,
   "metadata": {},
   "outputs": [
    {
     "data": {
      "text/html": [
       "<table class=\"simpletable\">\n",
       "<caption>OLS Regression Results</caption>\n",
       "<tr>\n",
       "  <th>Dep. Variable:</th>          <td>TIME</td>       <th>  R-squared:         </th> <td>   0.752</td>\n",
       "</tr>\n",
       "<tr>\n",
       "  <th>Model:</th>                   <td>OLS</td>       <th>  Adj. R-squared:    </th> <td>   0.739</td>\n",
       "</tr>\n",
       "<tr>\n",
       "  <th>Method:</th>             <td>Least Squares</td>  <th>  F-statistic:       </th> <td>   54.70</td>\n",
       "</tr>\n",
       "<tr>\n",
       "  <th>Date:</th>             <td>Thu, 09 Apr 2020</td> <th>  Prob (F-statistic):</th> <td>7.36e-07</td>\n",
       "</tr>\n",
       "<tr>\n",
       "  <th>Time:</th>                 <td>18:11:33</td>     <th>  Log-Likelihood:    </th> <td>  2.1966</td>\n",
       "</tr>\n",
       "<tr>\n",
       "  <th>No. Observations:</th>      <td>    20</td>      <th>  AIC:               </th> <td> -0.3933</td>\n",
       "</tr>\n",
       "<tr>\n",
       "  <th>Df Residuals:</th>          <td>    18</td>      <th>  BIC:               </th> <td>   1.598</td>\n",
       "</tr>\n",
       "<tr>\n",
       "  <th>Df Model:</th>              <td>     1</td>      <th>                     </th>     <td> </td>   \n",
       "</tr>\n",
       "<tr>\n",
       "  <th>Covariance Type:</th>      <td>nonrobust</td>    <th>                     </th>     <td> </td>   \n",
       "</tr>\n",
       "</table>\n",
       "<table class=\"simpletable\">\n",
       "<tr>\n",
       "      <td></td>         <th>coef</th>     <th>std err</th>      <th>t</th>      <th>P>|t|</th>  <th>[0.025</th>    <th>0.975]</th>  \n",
       "</tr>\n",
       "<tr>\n",
       "  <th>Intercept</th> <td>   39.1790</td> <td>    3.786</td> <td>   10.348</td> <td> 0.000</td> <td>   31.225</td> <td>   47.133</td>\n",
       "</tr>\n",
       "<tr>\n",
       "  <th>YEAR</th>      <td>   -0.0142</td> <td>    0.002</td> <td>   -7.396</td> <td> 0.000</td> <td>   -0.018</td> <td>   -0.010</td>\n",
       "</tr>\n",
       "</table>\n",
       "<table class=\"simpletable\">\n",
       "<tr>\n",
       "  <th>Omnibus:</th>       <td> 0.572</td> <th>  Durbin-Watson:     </th> <td>   1.640</td>\n",
       "</tr>\n",
       "<tr>\n",
       "  <th>Prob(Omnibus):</th> <td> 0.751</td> <th>  Jarque-Bera (JB):  </th> <td>   0.551</td>\n",
       "</tr>\n",
       "<tr>\n",
       "  <th>Skew:</th>          <td>-0.340</td> <th>  Prob(JB):          </th> <td>   0.759</td>\n",
       "</tr>\n",
       "<tr>\n",
       "  <th>Kurtosis:</th>      <td> 2.555</td> <th>  Cond. No.          </th> <td>1.46e+05</td>\n",
       "</tr>\n",
       "</table><br/><br/>Warnings:<br/>[1] Standard Errors assume that the covariance matrix of the errors is correctly specified.<br/>[2] The condition number is large, 1.46e+05. This might indicate that there are<br/>strong multicollinearity or other numerical problems."
      ],
      "text/plain": [
       "<class 'statsmodels.iolib.summary.Summary'>\n",
       "\"\"\"\n",
       "                            OLS Regression Results                            \n",
       "==============================================================================\n",
       "Dep. Variable:                   TIME   R-squared:                       0.752\n",
       "Model:                            OLS   Adj. R-squared:                  0.739\n",
       "Method:                 Least Squares   F-statistic:                     54.70\n",
       "Date:                Thu, 09 Apr 2020   Prob (F-statistic):           7.36e-07\n",
       "Time:                        18:11:33   Log-Likelihood:                 2.1966\n",
       "No. Observations:                  20   AIC:                           -0.3933\n",
       "Df Residuals:                      18   BIC:                             1.598\n",
       "Df Model:                           1                                         \n",
       "Covariance Type:            nonrobust                                         \n",
       "==============================================================================\n",
       "                 coef    std err          t      P>|t|      [0.025      0.975]\n",
       "------------------------------------------------------------------------------\n",
       "Intercept     39.1790      3.786     10.348      0.000      31.225      47.133\n",
       "YEAR          -0.0142      0.002     -7.396      0.000      -0.018      -0.010\n",
       "==============================================================================\n",
       "Omnibus:                        0.572   Durbin-Watson:                   1.640\n",
       "Prob(Omnibus):                  0.751   Jarque-Bera (JB):                0.551\n",
       "Skew:                          -0.340   Prob(JB):                        0.759\n",
       "Kurtosis:                       2.555   Cond. No.                     1.46e+05\n",
       "==============================================================================\n",
       "\n",
       "Warnings:\n",
       "[1] Standard Errors assume that the covariance matrix of the errors is correctly specified.\n",
       "[2] The condition number is large, 1.46e+05. This might indicate that there are\n",
       "strong multicollinearity or other numerical problems.\n",
       "\"\"\""
      ]
     },
     "execution_count": 188,
     "metadata": {},
     "output_type": "execute_result"
    }
   ],
   "source": [
    "fdata = olympic.loc[olympic['Gender']=='female']\n",
    "fittedmodel = smf.ols(formula=\"TIME ~ YEAR\", data=fdata).fit() \n",
    "predictions = fittedmodel.predict(fdata)\n",
    "residuals = fdata['TIME'] - predictions\n",
    "\n",
    "# Print out the statistics\n",
    "fittedmodel.summary()"
   ]
  },
  {
   "cell_type": "markdown",
   "metadata": {},
   "source": [
    "Plot a histogram of the residuals"
   ]
  },
  {
   "cell_type": "code",
   "execution_count": 189,
   "metadata": {
    "scrolled": true
   },
   "outputs": [
    {
     "data": {
      "image/png": "[encoded data removed]",
      "text/plain": [
       "<Figure size 432x288 with 1 Axes>"
      ]
     },
     "metadata": {
      "needs_background": "light"
     },
     "output_type": "display_data"
    }
   ],
   "source": [
    "fig, ax = pl.subplots(1,1)\n",
    "pl.hist(residuals);\n",
    "ax.set(xlabel='Residual', ylabel='Frequency');"
   ]
  },
  {
   "cell_type": "markdown",
   "metadata": {},
   "source": [
    "Plot the residuals against Year"
   ]
  },
  {
   "cell_type": "code",
   "execution_count": 197,
   "metadata": {},
   "outputs": [
    {
     "data": {
      "image/png": "[encoded data removed]",
      "text/plain": [
       "<Figure size 432x288 with 1 Axes>"
      ]
     },
     "metadata": {
      "needs_background": "light"
     },
     "output_type": "display_data"
    }
   ],
   "source": [
    "fig, ax = pl.subplots(1,1)\n",
    "pl.scatter(fdata['YEAR'], residuals, marker='o');\n",
    "ax.set(xlabel='Year', ylabel='Residual');\n",
    "xmin, xmax = ax.get_xbound() # get the plot bounds\n",
    "xp = [xmin,xmax] # store these as a vector\n",
    "yp = [0, 0]\n",
    "pl.plot(xp, yp, 'b-');"
   ]
  },
  {
   "cell_type": "markdown",
   "metadata": {},
   "source": [
    "Plot the fitted line with the data"
   ]
  },
  {
   "cell_type": "code",
   "execution_count": 198,
   "metadata": {},
   "outputs": [
    {
     "data": {
      "image/png": "[encoded data removed]",
      "text/plain": [
       "<Figure size 432x288 with 1 Axes>"
      ]
     },
     "metadata": {
      "needs_background": "light"
     },
     "output_type": "display_data"
    }
   ],
   "source": [
    "fig, ax = pl.subplots(1,1)\n",
    "pl.scatter(fdata['YEAR'], fdata['TIME'], marker='o');\n",
    "ax.set(xlabel='Year', ylabel='Time (sec)');\n",
    "xmin, xmax = ax.get_xbound() # get the plot bounds\n",
    "xp = np.linspace(xmin, xmax, 101)\n",
    "xpmat = pd.DataFrame({'YEAR':xp})\n",
    "yp = fittedmodel.predict(xpmat)\n",
    "pl.plot(xp, yp, 'b-');"
   ]
  },
  {
   "cell_type": "markdown",
   "metadata": {},
   "source": [
    "Plot outwards to the year 2800 ... assuming the current trend continues ..."
   ]
  },
  {
   "cell_type": "code",
   "execution_count": 205,
   "metadata": {},
   "outputs": [
    {
     "data": {
      "image/png": "[encoded data removed]",
      "text/plain": [
       "<Figure size 432x288 with 1 Axes>"
      ]
     },
     "metadata": {
      "needs_background": "light"
     },
     "output_type": "display_data"
    }
   ],
   "source": [
    "fig, ax = pl.subplots(1,1)\n",
    "pl.scatter(fdata['YEAR'], fdata['TIME'], marker='o');\n",
    "ax.set(xlabel='Year', ylabel='Time (sec)');\n",
    "xmin = 1920\n",
    "xmax = 2800\n",
    "xp = np.linspace(xmin, xmax, 101)\n",
    "xpmat = pd.DataFrame({'YEAR':xp})\n",
    "yp = fittedmodel.predict(xpmat)\n",
    "pl.plot(xp, yp, 'b-');"
   ]
  },
  {
   "cell_type": "markdown",
   "metadata": {},
   "source": [
    "### Exercises\n",
    "\n",
    "Read in the data set of fish lengths, weights and sexes from `fishdata.csv`, and remove any rows with missing weight values."
   ]
  },
  {
   "cell_type": "code",
   "execution_count": 157,
   "metadata": {},
   "outputs": [
    {
     "data": {
      "text/html": [
       "<div>\n",
       "<style scoped>\n",
       "    .dataframe tbody tr th:only-of-type {\n",
       "        vertical-align: middle;\n",
       "    }\n",
       "\n",
       "    .dataframe tbody tr th {\n",
       "        vertical-align: top;\n",
       "    }\n",
       "\n",
       "    .dataframe thead th {\n",
       "        text-align: right;\n",
       "    }\n",
       "</style>\n",
       "<table border=\"1\" class=\"dataframe\">\n",
       "  <thead>\n",
       "    <tr style=\"text-align: right;\">\n",
       "      <th></th>\n",
       "      <th>sex</th>\n",
       "      <th>lgth</th>\n",
       "      <th>weight</th>\n",
       "    </tr>\n",
       "  </thead>\n",
       "  <tbody>\n",
       "    <tr>\n",
       "      <th>0</th>\n",
       "      <td>1</td>\n",
       "      <td>46.0</td>\n",
       "      <td>510.0</td>\n",
       "    </tr>\n",
       "    <tr>\n",
       "      <th>1</th>\n",
       "      <td>2</td>\n",
       "      <td>55.8</td>\n",
       "      <td>900.0</td>\n",
       "    </tr>\n",
       "    <tr>\n",
       "      <th>2</th>\n",
       "      <td>1</td>\n",
       "      <td>52.7</td>\n",
       "      <td>820.0</td>\n",
       "    </tr>\n",
       "    <tr>\n",
       "      <th>3</th>\n",
       "      <td>2</td>\n",
       "      <td>69.2</td>\n",
       "      <td>2030.0</td>\n",
       "    </tr>\n",
       "    <tr>\n",
       "      <th>4</th>\n",
       "      <td>2</td>\n",
       "      <td>59.9</td>\n",
       "      <td>1080.0</td>\n",
       "    </tr>\n",
       "  </tbody>\n",
       "</table>\n",
       "</div>"
      ],
      "text/plain": [
       "   sex  lgth  weight\n",
       "0    1  46.0   510.0\n",
       "1    2  55.8   900.0\n",
       "2    1  52.7   820.0\n",
       "3    2  69.2  2030.0\n",
       "4    2  59.9  1080.0"
      ]
     },
     "execution_count": 157,
     "metadata": {},
     "output_type": "execute_result"
    }
   ],
   "source": [
    "fish = pd.read_csv('fishdata.csv')\n",
    "fish = fish.loc[-np.isnan(fish['weight'])]\n",
    "fish.head()"
   ]
  },
  {
   "cell_type": "code",
   "execution_count": 158,
   "metadata": {},
   "outputs": [
    {
     "name": "stdout",
     "output_type": "stream",
     "text": [
      "88\n"
     ]
    }
   ],
   "source": [
    "n = len(fish)\n",
    "print(n)"
   ]
  },
  {
   "cell_type": "markdown",
   "metadata": {},
   "source": [
    "1. Make a scatter plot of the data on the linear scale, and another plot on the log scale (take logs of the length and weight).  Use different plot symbols for the males (sex=1) and females (sex=2)"
   ]
  },
  {
   "cell_type": "code",
   "execution_count": 159,
   "metadata": {
    "scrolled": false
   },
   "outputs": [
    {
     "data": {
      "image/png": "[encoded data removed]",
      "text/plain": [
       "<Figure size 432x288 with 1 Axes>"
      ]
     },
     "metadata": {
      "needs_background": "light"
     },
     "output_type": "display_data"
    }
   ],
   "source": [
    "cols = np.where(fish['sex']==1,'tab:blue','tab:red')\n",
    "fig, ax = pl.subplots(1,1)\n",
    "pl.scatter(fish['lgth'], fish['weight'], marker='o', c=cols);\n",
    "ax.set(xlabel='length (cm)', ylabel='weight (g)');"
   ]
  },
  {
   "cell_type": "code",
   "execution_count": 160,
   "metadata": {
    "scrolled": true
   },
   "outputs": [
    {
     "data": {
      "image/png": "[encoded data removed]",
      "text/plain": [
       "<Figure size 432x288 with 1 Axes>"
      ]
     },
     "metadata": {
      "needs_background": "light"
     },
     "output_type": "display_data"
    }
   ],
   "source": [
    "fig, ax = pl.subplots(1,1)\n",
    "pl.scatter(np.log(fish['lgth']), np.log(fish['weight']), marker='o', c=cols);\n",
    "ax.set(xlabel='log(length)', ylabel='log(weight)');"
   ]
  },
  {
   "cell_type": "markdown",
   "metadata": {},
   "source": [
    "2. Compute Pearson's Correlation coefficient of the original and also the log transformed data using `stats.pearsonr`.  Comment on the two coefficient values, any differences between them, and how to interpret the associated p-values."
   ]
  },
  {
   "cell_type": "code",
   "execution_count": 161,
   "metadata": {},
   "outputs": [
    {
     "name": "stdout",
     "output_type": "stream",
     "text": [
      "(0.9292095779501954, 6.091940614443065e-39)\n"
     ]
    }
   ],
   "source": [
    "x = fish['lgth']\n",
    "y = fish['weight']\n",
    "\n",
    "print(stats.pearsonr(x,y))"
   ]
  },
  {
   "cell_type": "code",
   "execution_count": 162,
   "metadata": {},
   "outputs": [
    {
     "name": "stdout",
     "output_type": "stream",
     "text": [
      "(0.9852371378185529, 1.0471426498229211e-67)\n"
     ]
    }
   ],
   "source": [
    "x = np.log(fish['lgth'])\n",
    "y = np.log(fish['weight'])\n",
    "\n",
    "print(stats.pearsonr(x,y))"
   ]
  },
  {
   "cell_type": "markdown",
   "metadata": {},
   "source": [
    "*Answer* Both correlation coefficients are close to +1, indicating a strong, positive relationship between length and weight.  The log transformed data have a higher correlation coefficient becase the transformed data are closer to being a straight line.  Both p-values are tiny ($6\\times 10^{-39}$ and $1\\times 10^{-67}$), and are associated with a test $H_0: r=0$ of no association.  Clearly in both cases $H_0$ is rejected resoundingly.  "
   ]
  },
  {
   "cell_type": "markdown",
   "metadata": {},
   "source": [
    "3. Fit a simple linear regression model $y=\\alpha + \\beta x$ to the original (untransformed) data, and compute the fitted values and residuals.  \n",
    "\n",
    "   There are various ways to do this: I suggest the OLS() function in statsmodels.formula.api - but you can google around and find any method you like.   Make sure you work out how to include both an intercept and slope in the model."
   ]
  },
  {
   "cell_type": "code",
   "execution_count": 163,
   "metadata": {},
   "outputs": [
    {
     "data": {
      "text/html": [
       "<table class=\"simpletable\">\n",
       "<caption>OLS Regression Results</caption>\n",
       "<tr>\n",
       "  <th>Dep. Variable:</th>         <td>weight</td>      <th>  R-squared:         </th> <td>   0.863</td>\n",
       "</tr>\n",
       "<tr>\n",
       "  <th>Model:</th>                   <td>OLS</td>       <th>  Adj. R-squared:    </th> <td>   0.862</td>\n",
       "</tr>\n",
       "<tr>\n",
       "  <th>Method:</th>             <td>Least Squares</td>  <th>  F-statistic:       </th> <td>   543.7</td>\n",
       "</tr>\n",
       "<tr>\n",
       "  <th>Date:</th>             <td>Thu, 09 Apr 2020</td> <th>  Prob (F-statistic):</th> <td>6.09e-39</td>\n",
       "</tr>\n",
       "<tr>\n",
       "  <th>Time:</th>                 <td>16:33:55</td>     <th>  Log-Likelihood:    </th> <td> -602.81</td>\n",
       "</tr>\n",
       "<tr>\n",
       "  <th>No. Observations:</th>      <td>    88</td>      <th>  AIC:               </th> <td>   1210.</td>\n",
       "</tr>\n",
       "<tr>\n",
       "  <th>Df Residuals:</th>          <td>    86</td>      <th>  BIC:               </th> <td>   1215.</td>\n",
       "</tr>\n",
       "<tr>\n",
       "  <th>Df Model:</th>              <td>     1</td>      <th>                     </th>     <td> </td>   \n",
       "</tr>\n",
       "<tr>\n",
       "  <th>Covariance Type:</th>      <td>nonrobust</td>    <th>                     </th>     <td> </td>   \n",
       "</tr>\n",
       "</table>\n",
       "<table class=\"simpletable\">\n",
       "<tr>\n",
       "      <td></td>         <th>coef</th>     <th>std err</th>      <th>t</th>      <th>P>|t|</th>  <th>[0.025</th>    <th>0.975]</th>  \n",
       "</tr>\n",
       "<tr>\n",
       "  <th>Intercept</th> <td>-2006.1979</td> <td>  145.225</td> <td>  -13.814</td> <td> 0.000</td> <td>-2294.896</td> <td>-1717.499</td>\n",
       "</tr>\n",
       "<tr>\n",
       "  <th>lgth</th>      <td>   54.3307</td> <td>    2.330</td> <td>   23.318</td> <td> 0.000</td> <td>   49.699</td> <td>   58.963</td>\n",
       "</tr>\n",
       "</table>\n",
       "<table class=\"simpletable\">\n",
       "<tr>\n",
       "  <th>Omnibus:</th>       <td>15.364</td> <th>  Durbin-Watson:     </th> <td>   1.862</td>\n",
       "</tr>\n",
       "<tr>\n",
       "  <th>Prob(Omnibus):</th> <td> 0.000</td> <th>  Jarque-Bera (JB):  </th> <td>  17.213</td>\n",
       "</tr>\n",
       "<tr>\n",
       "  <th>Skew:</th>          <td> 0.989</td> <th>  Prob(JB):          </th> <td>0.000183</td>\n",
       "</tr>\n",
       "<tr>\n",
       "  <th>Kurtosis:</th>      <td> 3.885</td> <th>  Cond. No.          </th> <td>    368.</td>\n",
       "</tr>\n",
       "</table><br/><br/>Warnings:<br/>[1] Standard Errors assume that the covariance matrix of the errors is correctly specified."
      ],
      "text/plain": [
       "<class 'statsmodels.iolib.summary.Summary'>\n",
       "\"\"\"\n",
       "                            OLS Regression Results                            \n",
       "==============================================================================\n",
       "Dep. Variable:                 weight   R-squared:                       0.863\n",
       "Model:                            OLS   Adj. R-squared:                  0.862\n",
       "Method:                 Least Squares   F-statistic:                     543.7\n",
       "Date:                Thu, 09 Apr 2020   Prob (F-statistic):           6.09e-39\n",
       "Time:                        16:33:55   Log-Likelihood:                -602.81\n",
       "No. Observations:                  88   AIC:                             1210.\n",
       "Df Residuals:                      86   BIC:                             1215.\n",
       "Df Model:                           1                                         \n",
       "Covariance Type:            nonrobust                                         \n",
       "==============================================================================\n",
       "                 coef    std err          t      P>|t|      [0.025      0.975]\n",
       "------------------------------------------------------------------------------\n",
       "Intercept  -2006.1979    145.225    -13.814      0.000   -2294.896   -1717.499\n",
       "lgth          54.3307      2.330     23.318      0.000      49.699      58.963\n",
       "==============================================================================\n",
       "Omnibus:                       15.364   Durbin-Watson:                   1.862\n",
       "Prob(Omnibus):                  0.000   Jarque-Bera (JB):               17.213\n",
       "Skew:                           0.989   Prob(JB):                     0.000183\n",
       "Kurtosis:                       3.885   Cond. No.                         368.\n",
       "==============================================================================\n",
       "\n",
       "Warnings:\n",
       "[1] Standard Errors assume that the covariance matrix of the errors is correctly specified.\n",
       "\"\"\""
      ]
     },
     "execution_count": 163,
     "metadata": {},
     "output_type": "execute_result"
    }
   ],
   "source": [
    "x = fish['lgth']\n",
    "y = fish['weight']\n",
    "fittedmodel = smf.ols(formula=\"weight ~ lgth\", data=fish).fit() \n",
    "predictions = fittedmodel.predict(fish)\n",
    "residuals = y - predictions\n",
    "\n",
    "# Print out the statistics\n",
    "fittedmodel.summary()"
   ]
  },
  {
   "cell_type": "markdown",
   "metadata": {},
   "source": [
    "4. Plot the residuals - first as a histogram and then as a function of log(length), and comment on what the plots show."
   ]
  },
  {
   "cell_type": "code",
   "execution_count": 164,
   "metadata": {
    "scrolled": true
   },
   "outputs": [
    {
     "data": {
      "image/png": "[encoded data removed]",
      "text/plain": [
       "<Figure size 432x288 with 1 Axes>"
      ]
     },
     "metadata": {
      "needs_background": "light"
     },
     "output_type": "display_data"
    }
   ],
   "source": [
    "fig, ax = pl.subplots(1,1)\n",
    "pl.hist(residuals);\n",
    "ax.set(xlabel='Residual', ylabel='Frequency');"
   ]
  },
  {
   "cell_type": "markdown",
   "metadata": {},
   "source": [
    "*Answer*: The plot is unimodal, but has a somewhat asymmetric shape."
   ]
  },
  {
   "cell_type": "code",
   "execution_count": 165,
   "metadata": {},
   "outputs": [
    {
     "data": {
      "image/png": "[encoded data removed]",
      "text/plain": [
       "<Figure size 432x288 with 1 Axes>"
      ]
     },
     "metadata": {
      "needs_background": "light"
     },
     "output_type": "display_data"
    }
   ],
   "source": [
    "fig, ax = pl.subplots(1,1)\n",
    "pl.scatter(x, residuals, marker='o', c=cols);\n",
    "ax.set(xlabel='Length', ylabel='Residual');\n",
    "xmin, xmax = ax.get_xbound() # get the plot bounds\n",
    "xp = [xmin,xmax] # store these as a vector\n",
    "yp = [0, 0]\n",
    "pl.plot(xp, yp, 'b-');\n"
   ]
  },
  {
   "cell_type": "markdown",
   "metadata": {},
   "source": [
    "*Answer*: This is a disaster - we have curvature and non-constant variance.  The curvature is caused by the linear model being a very poor description of the data."
   ]
  },
  {
   "cell_type": "markdown",
   "metadata": {},
   "source": [
    "5. Plot the fitted linear model as a solid line on top of the original data"
   ]
  },
  {
   "cell_type": "code",
   "execution_count": 166,
   "metadata": {
    "scrolled": false
   },
   "outputs": [
    {
     "data": {
      "image/png": "[encoded data removed]",
      "text/plain": [
       "<Figure size 432x288 with 1 Axes>"
      ]
     },
     "metadata": {
      "needs_background": "light"
     },
     "output_type": "display_data"
    }
   ],
   "source": [
    "fig, ax = pl.subplots(1,1)\n",
    "pl.scatter(x, y, marker='o', c=cols);\n",
    "ax.set(xlabel='Length', ylabel='Weight');\n",
    "xmin, xmax = ax.get_xbound() # get the plot bounds\n",
    "xp = [xmin, xmax]\n",
    "xpmat = pd.DataFrame({'lgth':xp})\n",
    "yp = fittedmodel.predict(xpmat)\n",
    "pl.plot(xp, yp, 'b-');\n"
   ]
  },
  {
   "cell_type": "markdown",
   "metadata": {},
   "source": [
    "*Answer* The data are curved, so the straight line fit is hopeless."
   ]
  },
  {
   "cell_type": "markdown",
   "metadata": {},
   "source": [
    "6. Now fit a quadratic curve to the untransformed data, plot the residuals and the fitted curve."
   ]
  },
  {
   "cell_type": "code",
   "execution_count": 167,
   "metadata": {
    "scrolled": false
   },
   "outputs": [
    {
     "data": {
      "image/png": "[encoded data removed]",
      "text/plain": [
       "<Figure size 432x288 with 1 Axes>"
      ]
     },
     "metadata": {
      "needs_background": "light"
     },
     "output_type": "display_data"
    },
    {
     "data": {
      "image/png": "[encoded data removed]",
      "text/plain": [
       "<Figure size 432x288 with 1 Axes>"
      ]
     },
     "metadata": {
      "needs_background": "light"
     },
     "output_type": "display_data"
    },
    {
     "data": {
      "image/png": "[encoded data removed]",
      "text/plain": [
       "<Figure size 432x288 with 1 Axes>"
      ]
     },
     "metadata": {
      "needs_background": "light"
     },
     "output_type": "display_data"
    }
   ],
   "source": [
    "x = fish['lgth']\n",
    "y = fish['weight']\n",
    "fish['lgth2'] = fish['lgth']**2\n",
    "\n",
    "fittedmodel = smf.ols(formula=\"weight ~ lgth + lgth2\", data=fish).fit() \n",
    "predictions = fittedmodel.predict(fish)\n",
    "residuals = y - predictions\n",
    "\n",
    "fig, ax = pl.subplots(1,1)\n",
    "pl.hist(residuals);\n",
    "ax.set(xlabel='Residual', ylabel='Frequency');\n",
    "\n",
    "fig, ax = pl.subplots(1,1)\n",
    "pl.scatter(x, residuals, marker='o', c=cols);\n",
    "ax.set(xlabel='Length', ylabel='Residual');\n",
    "xmin, xmax = ax.get_xbound() # get the plot bounds\n",
    "xp = [xmin,xmax] # store these as a vector\n",
    "yp = [0, 0]\n",
    "pl.plot(xp, yp, 'b-');\n",
    "\n",
    "fig, ax = pl.subplots(1,1)\n",
    "pl.scatter(x, y, marker='o', c=cols);\n",
    "ax.set(xlabel='Length', ylabel='Weight');\n",
    "xmin, xmax = ax.get_xbound() # get the plot bounds\n",
    "xp = np.linspace(xmin, xmax, 101)\n",
    "xpmat = pd.DataFrame({'lgth':xp, 'lgth2':xp**2})\n",
    "yp = fittedmodel.predict(xpmat)\n",
    "pl.plot(xp, yp, 'b-');"
   ]
  },
  {
   "cell_type": "markdown",
   "metadata": {},
   "source": [
    "*Answer*: Things are looking a lot better, the residuals have a bell shaped (Normal looking) distribution, the line goes through the data nicely, but there is funnelling in the residuals, so not a good fit."
   ]
  },
  {
   "cell_type": "markdown",
   "metadata": {},
   "source": [
    "7. Refit the model, but this time just a linear model to the log transformed data.  Make plots of the fitted model on the linear and the log scale."
   ]
  },
  {
   "cell_type": "code",
   "execution_count": 168,
   "metadata": {},
   "outputs": [],
   "source": [
    "fish['logWeight'] = np.log(fish['weight'])\n",
    "fish['logLength'] = np.log(fish['lgth'])\n",
    "x = fish['logLength']\n",
    "y = fish['logWeight']\n",
    "\n",
    "fittedmodel = smf.ols(\"logWeight ~ logLength\", data=fish).fit()\n",
    "predictions = fittedmodel.predict(fish)\n",
    "residuals = y - predictions\n"
   ]
  },
  {
   "cell_type": "code",
   "execution_count": 169,
   "metadata": {
    "scrolled": true
   },
   "outputs": [
    {
     "data": {
      "image/png": "[encoded data removed]",
      "text/plain": [
       "<Figure size 432x288 with 1 Axes>"
      ]
     },
     "metadata": {
      "needs_background": "light"
     },
     "output_type": "display_data"
    },
    {
     "data": {
      "image/png": "[encoded data removed]",
      "text/plain": [
       "<Figure size 432x288 with 1 Axes>"
      ]
     },
     "metadata": {
      "needs_background": "light"
     },
     "output_type": "display_data"
    },
    {
     "data": {
      "image/png": "[encoded data removed]",
      "text/plain": [
       "<Figure size 432x288 with 1 Axes>"
      ]
     },
     "metadata": {
      "needs_background": "light"
     },
     "output_type": "display_data"
    },
    {
     "data": {
      "image/png": "[encoded data removed]",
      "text/plain": [
       "<Figure size 432x288 with 1 Axes>"
      ]
     },
     "metadata": {
      "needs_background": "light"
     },
     "output_type": "display_data"
    }
   ],
   "source": [
    "fish['logWeight'] = np.log(fish['weight'])\n",
    "fish['logLength'] = np.log(fish['lgth'])\n",
    "x = fish['logLength']\n",
    "y = fish['logWeight']\n",
    "\n",
    "fittedmodel = smf.ols(\"logWeight ~ logLength\", data=fish).fit()\n",
    "predictions = fittedmodel.predict(fish)\n",
    "residuals = y - predictions\n",
    "\n",
    "fig, ax = pl.subplots(1,1)\n",
    "pl.hist(residuals);\n",
    "ax.set(xlabel='Residual', ylabel='Frequency');\n",
    "\n",
    "fig, ax = pl.subplots(1,1)\n",
    "pl.scatter(x, residuals, marker='o', c=cols);\n",
    "ax.set(xlabel='log(length)', ylabel='Residual');\n",
    "xmin, xmax = ax.get_xbound() # get the plot bounds\n",
    "xp = [xmin,xmax] # store these as a vector\n",
    "yp = [0, 0]\n",
    "pl.plot(xp, yp, 'b-');\n",
    "\n",
    "fig, ax = pl.subplots(1,1)\n",
    "pl.scatter(x, y, marker='o', c=cols);\n",
    "ax.set(xlabel='log(length)', ylabel='log(weight)');\n",
    "xmin, xmax = ax.get_xbound() # get the plot bounds\n",
    "xp = np.linspace(xmin, xmax, 101)\n",
    "xpmat = pd.DataFrame({'logLength':xp})\n",
    "yp = fittedmodel.predict(xpmat)\n",
    "pl.plot(xp, yp, 'b-');\n",
    "\n",
    "fig, ax = pl.subplots(1,1)\n",
    "pl.scatter(np.exp(x), np.exp(y), marker='o', c=cols);\n",
    "ax.set(xlabel='length', ylabel='weight');\n",
    "xmin, xmax = ax.get_xbound() # get the plot bounds\n",
    "xp = np.linspace(xmin, xmax, 101)\n",
    "xp = np.linspace(xmin, xmax, 101)\n",
    "xpmat = pd.DataFrame({'logLength':np.log(xp)})\n",
    "yp = fittedmodel.predict(xpmat)\n",
    "pl.plot(xp, np.exp(yp), 'b-');\n"
   ]
  },
  {
   "cell_type": "markdown",
   "metadata": {},
   "source": [
    "*Amswer*: This looks much much better - no funnelling, and the residuals look roughly Normal"
   ]
  },
  {
   "cell_type": "markdown",
   "metadata": {},
   "source": [
    "8. Confirm the normality of the residuals."
   ]
  },
  {
   "cell_type": "code",
   "execution_count": 170,
   "metadata": {},
   "outputs": [
    {
     "data": {
      "text/plain": [
       "KstestResult(statistic=0.04717237098972127, pvalue=0.9895999467676754)"
      ]
     },
     "execution_count": 170,
     "metadata": {},
     "output_type": "execute_result"
    }
   ],
   "source": [
    "r = residuals/np.std(residuals)\n",
    "stats.kstest(r,'norm')"
   ]
  },
  {
   "cell_type": "markdown",
   "metadata": {},
   "source": [
    "*Answer*: The large p-value here suggests that the standardised residuals are consistent with a standard Normal distribution.  (We note that the K-S test is strictly only valid with the predicted values and the standard deviation are the true values, not using estimates from a model fit, but this test here is still a good enough indication that the modelling assumptions are met.)"
   ]
  },
  {
   "cell_type": "markdown",
   "metadata": {},
   "source": [
    "9. Now add sex as a covariate, and see if that improves the model"
   ]
  },
  {
   "cell_type": "code",
   "execution_count": 171,
   "metadata": {},
   "outputs": [
    {
     "data": {
      "text/html": [
       "<div>\n",
       "<style scoped>\n",
       "    .dataframe tbody tr th:only-of-type {\n",
       "        vertical-align: middle;\n",
       "    }\n",
       "\n",
       "    .dataframe tbody tr th {\n",
       "        vertical-align: top;\n",
       "    }\n",
       "\n",
       "    .dataframe thead th {\n",
       "        text-align: right;\n",
       "    }\n",
       "</style>\n",
       "<table border=\"1\" class=\"dataframe\">\n",
       "  <thead>\n",
       "    <tr style=\"text-align: right;\">\n",
       "      <th></th>\n",
       "      <th>sex</th>\n",
       "      <th>lgth</th>\n",
       "      <th>weight</th>\n",
       "      <th>lgth2</th>\n",
       "      <th>logWeight</th>\n",
       "      <th>logLength</th>\n",
       "    </tr>\n",
       "  </thead>\n",
       "  <tbody>\n",
       "    <tr>\n",
       "      <th>0</th>\n",
       "      <td>1</td>\n",
       "      <td>46.0</td>\n",
       "      <td>510.0</td>\n",
       "      <td>2116.00</td>\n",
       "      <td>6.234411</td>\n",
       "      <td>3.828641</td>\n",
       "    </tr>\n",
       "    <tr>\n",
       "      <th>1</th>\n",
       "      <td>2</td>\n",
       "      <td>55.8</td>\n",
       "      <td>900.0</td>\n",
       "      <td>3113.64</td>\n",
       "      <td>6.802395</td>\n",
       "      <td>4.021774</td>\n",
       "    </tr>\n",
       "    <tr>\n",
       "      <th>2</th>\n",
       "      <td>1</td>\n",
       "      <td>52.7</td>\n",
       "      <td>820.0</td>\n",
       "      <td>2777.29</td>\n",
       "      <td>6.709304</td>\n",
       "      <td>3.964615</td>\n",
       "    </tr>\n",
       "    <tr>\n",
       "      <th>3</th>\n",
       "      <td>2</td>\n",
       "      <td>69.2</td>\n",
       "      <td>2030.0</td>\n",
       "      <td>4788.64</td>\n",
       "      <td>7.615791</td>\n",
       "      <td>4.237001</td>\n",
       "    </tr>\n",
       "    <tr>\n",
       "      <th>4</th>\n",
       "      <td>2</td>\n",
       "      <td>59.9</td>\n",
       "      <td>1080.0</td>\n",
       "      <td>3588.01</td>\n",
       "      <td>6.984716</td>\n",
       "      <td>4.092677</td>\n",
       "    </tr>\n",
       "  </tbody>\n",
       "</table>\n",
       "</div>"
      ],
      "text/plain": [
       "   sex  lgth  weight    lgth2  logWeight  logLength\n",
       "0    1  46.0   510.0  2116.00   6.234411   3.828641\n",
       "1    2  55.8   900.0  3113.64   6.802395   4.021774\n",
       "2    1  52.7   820.0  2777.29   6.709304   3.964615\n",
       "3    2  69.2  2030.0  4788.64   7.615791   4.237001\n",
       "4    2  59.9  1080.0  3588.01   6.984716   4.092677"
      ]
     },
     "execution_count": 171,
     "metadata": {},
     "output_type": "execute_result"
    }
   ],
   "source": [
    "x = np.log(fish['lgth'])\n",
    "y = np.log(fish['weight'])\n",
    "fish.head()"
   ]
  },
  {
   "cell_type": "code",
   "execution_count": 172,
   "metadata": {
    "scrolled": true
   },
   "outputs": [
    {
     "data": {
      "text/html": [
       "<table class=\"simpletable\">\n",
       "<caption>OLS Regression Results</caption>\n",
       "<tr>\n",
       "  <th>Dep. Variable:</th>        <td>logWeight</td>    <th>  R-squared:         </th> <td>   0.974</td>\n",
       "</tr>\n",
       "<tr>\n",
       "  <th>Model:</th>                   <td>OLS</td>       <th>  Adj. R-squared:    </th> <td>   0.973</td>\n",
       "</tr>\n",
       "<tr>\n",
       "  <th>Method:</th>             <td>Least Squares</td>  <th>  F-statistic:       </th> <td>   1030.</td>\n",
       "</tr>\n",
       "<tr>\n",
       "  <th>Date:</th>             <td>Thu, 09 Apr 2020</td> <th>  Prob (F-statistic):</th> <td>4.16e-66</td>\n",
       "</tr>\n",
       "<tr>\n",
       "  <th>Time:</th>                 <td>16:33:57</td>     <th>  Log-Likelihood:    </th> <td>  77.576</td>\n",
       "</tr>\n",
       "<tr>\n",
       "  <th>No. Observations:</th>      <td>    88</td>      <th>  AIC:               </th> <td>  -147.2</td>\n",
       "</tr>\n",
       "<tr>\n",
       "  <th>Df Residuals:</th>          <td>    84</td>      <th>  BIC:               </th> <td>  -137.2</td>\n",
       "</tr>\n",
       "<tr>\n",
       "  <th>Df Model:</th>              <td>     3</td>      <th>                     </th>     <td> </td>   \n",
       "</tr>\n",
       "<tr>\n",
       "  <th>Covariance Type:</th>      <td>nonrobust</td>    <th>                     </th>     <td> </td>   \n",
       "</tr>\n",
       "</table>\n",
       "<table class=\"simpletable\">\n",
       "<tr>\n",
       "            <td></td>               <th>coef</th>     <th>std err</th>      <th>t</th>      <th>P>|t|</th>  <th>[0.025</th>    <th>0.975]</th>  \n",
       "</tr>\n",
       "<tr>\n",
       "  <th>Intercept</th>             <td>   -4.9409</td> <td>    0.388</td> <td>  -12.736</td> <td> 0.000</td> <td>   -5.712</td> <td>   -4.169</td>\n",
       "</tr>\n",
       "<tr>\n",
       "  <th>C(sex)[T.2]</th>           <td>   -0.7989</td> <td>    0.498</td> <td>   -1.606</td> <td> 0.112</td> <td>   -1.788</td> <td>    0.190</td>\n",
       "</tr>\n",
       "<tr>\n",
       "  <th>logLength</th>             <td>    2.9129</td> <td>    0.096</td> <td>   30.237</td> <td> 0.000</td> <td>    2.721</td> <td>    3.104</td>\n",
       "</tr>\n",
       "<tr>\n",
       "  <th>logLength:C(sex)[T.2]</th> <td>    0.2103</td> <td>    0.122</td> <td>    1.724</td> <td> 0.088</td> <td>   -0.032</td> <td>    0.453</td>\n",
       "</tr>\n",
       "</table>\n",
       "<table class=\"simpletable\">\n",
       "<tr>\n",
       "  <th>Omnibus:</th>       <td> 0.417</td> <th>  Durbin-Watson:     </th> <td>   1.555</td>\n",
       "</tr>\n",
       "<tr>\n",
       "  <th>Prob(Omnibus):</th> <td> 0.812</td> <th>  Jarque-Bera (JB):  </th> <td>   0.539</td>\n",
       "</tr>\n",
       "<tr>\n",
       "  <th>Skew:</th>          <td>-0.148</td> <th>  Prob(JB):          </th> <td>   0.764</td>\n",
       "</tr>\n",
       "<tr>\n",
       "  <th>Kurtosis:</th>      <td> 2.755</td> <th>  Cond. No.          </th> <td>    284.</td>\n",
       "</tr>\n",
       "</table><br/><br/>Warnings:<br/>[1] Standard Errors assume that the covariance matrix of the errors is correctly specified."
      ],
      "text/plain": [
       "<class 'statsmodels.iolib.summary.Summary'>\n",
       "\"\"\"\n",
       "                            OLS Regression Results                            \n",
       "==============================================================================\n",
       "Dep. Variable:              logWeight   R-squared:                       0.974\n",
       "Model:                            OLS   Adj. R-squared:                  0.973\n",
       "Method:                 Least Squares   F-statistic:                     1030.\n",
       "Date:                Thu, 09 Apr 2020   Prob (F-statistic):           4.16e-66\n",
       "Time:                        16:33:57   Log-Likelihood:                 77.576\n",
       "No. Observations:                  88   AIC:                            -147.2\n",
       "Df Residuals:                      84   BIC:                            -137.2\n",
       "Df Model:                           3                                         \n",
       "Covariance Type:            nonrobust                                         \n",
       "=========================================================================================\n",
       "                            coef    std err          t      P>|t|      [0.025      0.975]\n",
       "-----------------------------------------------------------------------------------------\n",
       "Intercept                -4.9409      0.388    -12.736      0.000      -5.712      -4.169\n",
       "C(sex)[T.2]              -0.7989      0.498     -1.606      0.112      -1.788       0.190\n",
       "logLength                 2.9129      0.096     30.237      0.000       2.721       3.104\n",
       "logLength:C(sex)[T.2]     0.2103      0.122      1.724      0.088      -0.032       0.453\n",
       "==============================================================================\n",
       "Omnibus:                        0.417   Durbin-Watson:                   1.555\n",
       "Prob(Omnibus):                  0.812   Jarque-Bera (JB):                0.539\n",
       "Skew:                          -0.148   Prob(JB):                        0.764\n",
       "Kurtosis:                       2.755   Cond. No.                         284.\n",
       "==============================================================================\n",
       "\n",
       "Warnings:\n",
       "[1] Standard Errors assume that the covariance matrix of the errors is correctly specified.\n",
       "\"\"\""
      ]
     },
     "execution_count": 172,
     "metadata": {},
     "output_type": "execute_result"
    }
   ],
   "source": [
    "fittedmodel = smf.ols(formula=\"logWeight ~ logLength*C(sex)\", data=fish).fit()\n",
    "fittedmodel.summary()"
   ]
  },
  {
   "cell_type": "markdown",
   "metadata": {},
   "source": [
    "*Answer*: Note that the p-values for the terms involving sex are not significant, so we don't need to include those terms: there is no evidence for a difference in growth patterns by sex."
   ]
  },
  {
   "cell_type": "code",
   "execution_count": 173,
   "metadata": {},
   "outputs": [
    {
     "data": {
      "image/png": "[encoded data removed]",
      "text/plain": [
       "<Figure size 432x288 with 1 Axes>"
      ]
     },
     "metadata": {
      "needs_background": "light"
     },
     "output_type": "display_data"
    },
    {
     "data": {
      "image/png": "[encoded data removed]",
      "text/plain": [
       "<Figure size 432x288 with 1 Axes>"
      ]
     },
     "metadata": {
      "needs_background": "light"
     },
     "output_type": "display_data"
    }
   ],
   "source": [
    "predictions = fittedmodel.predict(fish)\n",
    "residuals = fish['logWeight'] - predictions\n",
    "\n",
    "fig, ax = pl.subplots(1,1)\n",
    "pl.hist(residuals);\n",
    "ax.set(xlabel='Residual', ylabel='Frequency');\n",
    "\n",
    "fig, ax = pl.subplots(1,1)\n",
    "pl.scatter(fish['logLength'], residuals, marker='o', c=cols);\n",
    "ax.set(xlabel='log(length)', ylabel='Residual');\n",
    "xmin, xmax = ax.get_xbound() # get the plot bounds\n",
    "xp = [xmin,xmax] # store these as a vector\n",
    "yp = [0, 0]\n",
    "pl.plot(xp, yp, 'b-');"
   ]
  },
  {
   "cell_type": "code",
   "execution_count": 174,
   "metadata": {
    "scrolled": true
   },
   "outputs": [
    {
     "data": {
      "image/png": "[encoded data removed]",
      "text/plain": [
       "<Figure size 432x288 with 1 Axes>"
      ]
     },
     "metadata": {
      "needs_background": "light"
     },
     "output_type": "display_data"
    }
   ],
   "source": [
    "fig, ax = pl.subplots(1,1)\n",
    "pl.scatter(fish['logLength'], fish['logWeight'], marker='o', c=cols);\n",
    "ax.set(xlabel='log(length)', ylabel='log(weight)');\n",
    "xmin, xmax = ax.get_xbound() # get the plot bounds\n",
    "xp = np.linspace(xmin, xmax, 101)\n",
    "xpmat = pd.DataFrame({'logLength':xp})\n",
    "xpmat['sex'] = 1\n",
    "yp = fittedmodel.predict(xpmat)\n",
    "pl.plot(xp, yp, 'b-');\n",
    "xpmat['sex'] = 2\n",
    "yp = fittedmodel.predict(xpmat)\n",
    "pl.plot(xp, yp, 'r-');"
   ]
  },
  {
   "cell_type": "code",
   "execution_count": 175,
   "metadata": {},
   "outputs": [
    {
     "data": {
      "image/png": "[encoded data removed]",
      "text/plain": [
       "<Figure size 432x288 with 1 Axes>"
      ]
     },
     "metadata": {
      "needs_background": "light"
     },
     "output_type": "display_data"
    }
   ],
   "source": [
    "fig, ax = pl.subplots(1,1)\n",
    "pl.scatter(fish['lgth'], fish['weight'], marker='o', c=cols);\n",
    "ax.set(xlabel='length', ylabel='weight');\n",
    "xmin, xmax = ax.get_xbound() # get the plot bounds\n",
    "xp = np.linspace(xmin, xmax, 101)\n",
    "xpmat = pd.DataFrame({'logLength':np.log(xp)})\n",
    "xpmat['sex'] = 1\n",
    "yp = fittedmodel.predict(xpmat)\n",
    "pl.plot(xp, np.exp(yp), 'b-');\n",
    "xpmat['sex'] = 2\n",
    "yp = fittedmodel.predict(xpmat)\n",
    "pl.plot(xp, np.exp(yp), 'r-');"
   ]
  },
  {
   "cell_type": "markdown",
   "metadata": {},
   "source": [
    "# Another example to try\n",
    "\n",
    "Play around with this dataset of data on health, with variables\n",
    "- sbp = systolic blood pressure\n",
    "- tobacco = cumulative tobacco (kg)\n",
    "- ldl = low density lipoprotein cholesterol\n",
    "- adiposity\n",
    "- famhist = family history of heart disease (Present, Absent)\n",
    "- typea = type-A behavior\n",
    "- obesity\n",
    "- alcohol = current alcohol consumption\n",
    "- age = age at onset\n",
    "- chd = coronary heart disease (yes=1, no=0)\n",
    "\n",
    "A retrospective sample of males in a heart-disease high-risk region of the Western Cape, South Africa. There are roughly two controls per case of CHD. Many of the CHD positive men have undergone blood pressure reduction treatment and other programs to reduce their risk factors after their CHD event. In some cases the measurements were made after these treatments. These data are taken from a larger dataset, described in  Rousseauw et al, 1983, South African Medical Journal. "
   ]
  },
  {
   "cell_type": "code",
   "execution_count": 176,
   "metadata": {},
   "outputs": [
    {
     "data": {
      "text/html": [
       "<div>\n",
       "<style scoped>\n",
       "    .dataframe tbody tr th:only-of-type {\n",
       "        vertical-align: middle;\n",
       "    }\n",
       "\n",
       "    .dataframe tbody tr th {\n",
       "        vertical-align: top;\n",
       "    }\n",
       "\n",
       "    .dataframe thead th {\n",
       "        text-align: right;\n",
       "    }\n",
       "</style>\n",
       "<table border=\"1\" class=\"dataframe\">\n",
       "  <thead>\n",
       "    <tr style=\"text-align: right;\">\n",
       "      <th></th>\n",
       "      <th>sbp</th>\n",
       "      <th>tobacco</th>\n",
       "      <th>ldl</th>\n",
       "      <th>adiposity</th>\n",
       "      <th>famhist</th>\n",
       "      <th>typea</th>\n",
       "      <th>obesity</th>\n",
       "      <th>alcohol</th>\n",
       "      <th>age</th>\n",
       "      <th>chd</th>\n",
       "    </tr>\n",
       "    <tr>\n",
       "      <th>row.names</th>\n",
       "      <th></th>\n",
       "      <th></th>\n",
       "      <th></th>\n",
       "      <th></th>\n",
       "      <th></th>\n",
       "      <th></th>\n",
       "      <th></th>\n",
       "      <th></th>\n",
       "      <th></th>\n",
       "      <th></th>\n",
       "    </tr>\n",
       "  </thead>\n",
       "  <tbody>\n",
       "    <tr>\n",
       "      <th>1</th>\n",
       "      <td>160</td>\n",
       "      <td>12.00</td>\n",
       "      <td>5.73</td>\n",
       "      <td>23.11</td>\n",
       "      <td>Present</td>\n",
       "      <td>49</td>\n",
       "      <td>25.30</td>\n",
       "      <td>97.20</td>\n",
       "      <td>52</td>\n",
       "      <td>1</td>\n",
       "    </tr>\n",
       "    <tr>\n",
       "      <th>2</th>\n",
       "      <td>144</td>\n",
       "      <td>0.01</td>\n",
       "      <td>4.41</td>\n",
       "      <td>28.61</td>\n",
       "      <td>Absent</td>\n",
       "      <td>55</td>\n",
       "      <td>28.87</td>\n",
       "      <td>2.06</td>\n",
       "      <td>63</td>\n",
       "      <td>1</td>\n",
       "    </tr>\n",
       "    <tr>\n",
       "      <th>3</th>\n",
       "      <td>118</td>\n",
       "      <td>0.08</td>\n",
       "      <td>3.48</td>\n",
       "      <td>32.28</td>\n",
       "      <td>Present</td>\n",
       "      <td>52</td>\n",
       "      <td>29.14</td>\n",
       "      <td>3.81</td>\n",
       "      <td>46</td>\n",
       "      <td>0</td>\n",
       "    </tr>\n",
       "    <tr>\n",
       "      <th>4</th>\n",
       "      <td>170</td>\n",
       "      <td>7.50</td>\n",
       "      <td>6.41</td>\n",
       "      <td>38.03</td>\n",
       "      <td>Present</td>\n",
       "      <td>51</td>\n",
       "      <td>31.99</td>\n",
       "      <td>24.26</td>\n",
       "      <td>58</td>\n",
       "      <td>1</td>\n",
       "    </tr>\n",
       "    <tr>\n",
       "      <th>5</th>\n",
       "      <td>134</td>\n",
       "      <td>13.60</td>\n",
       "      <td>3.50</td>\n",
       "      <td>27.78</td>\n",
       "      <td>Present</td>\n",
       "      <td>60</td>\n",
       "      <td>25.99</td>\n",
       "      <td>57.34</td>\n",
       "      <td>49</td>\n",
       "      <td>1</td>\n",
       "    </tr>\n",
       "  </tbody>\n",
       "</table>\n",
       "</div>"
      ],
      "text/plain": [
       "           sbp  tobacco   ldl  adiposity  famhist  typea  obesity  alcohol  \\\n",
       "row.names                                                                    \n",
       "1          160    12.00  5.73      23.11  Present     49    25.30    97.20   \n",
       "2          144     0.01  4.41      28.61   Absent     55    28.87     2.06   \n",
       "3          118     0.08  3.48      32.28  Present     52    29.14     3.81   \n",
       "4          170     7.50  6.41      38.03  Present     51    31.99    24.26   \n",
       "5          134    13.60  3.50      27.78  Present     60    25.99    57.34   \n",
       "\n",
       "           age  chd  \n",
       "row.names            \n",
       "1           52    1  \n",
       "2           63    1  \n",
       "3           46    0  \n",
       "4           58    1  \n",
       "5           49    1  "
      ]
     },
     "execution_count": 176,
     "metadata": {},
     "output_type": "execute_result"
    }
   ],
   "source": [
    "df = pd.read_csv('SAheart.csv', index_col=0)\n",
    "df.head()"
   ]
  }
 ],
 "metadata": {
  "kernelspec": {
   "display_name": "Python 3",
   "language": "python",
   "name": "python3"
  },
  "language_info": {
   "codemirror_mode": {
    "name": "ipython",
    "version": 3
   },
   "file_extension": ".py",
   "mimetype": "text/x-python",
   "name": "python",
   "nbconvert_exporter": "python",
   "pygments_lexer": "ipython3",
   "version": "3.6.6"
  }
 },
 "nbformat": 4,
 "nbformat_minor": 2
}
