{
 "cells": [
  {
   "cell_type": "markdown",
   "metadata": {},
   "source": [
    "# Assignment 3 - Probability and Statistics, Ethics and privacy\n",
    "\n",
    "This assignment is worth 20% of your final grade.\n",
    "\n",
    "It is due at **6pm on Friday 15 May**, and should be submitted as a single Jupyter Notebook, through the usual online ECS submission system (https://apps.ecs.vuw.ac.nz/submit/DATA201) .\n",
    "\n",
    "The assignment makes use of the `scipy.stats` package and the `statsmodels.formula.api` package.  It draws on material from Weeks 4 and 5, lectured by Richard Arnold.  "
   ]
  },
  {
   "cell_type": "markdown",
   "metadata": {},
   "source": [
    "## Probability Distributions from data"
   ]
  },
  {
   "cell_type": "markdown",
   "metadata": {},
   "source": [
    "(12 Marks)\n",
    "\n",
    "Read the `EuropeanBirds.csv` data set of characteristics of 500 species of European Birds, which you can download from the course website.\n",
    "\n",
    "Note: you will need to specify `encoding='latin1'` when you read the file in.\n",
    "\n",
    "You will also need to consult the accompany information file `EuropeanBirds-Information.txt` in order to interpret the content of the data set.\n",
    "\n",
    "Sourced from: Storchová, Lenka; Hořák, David (2018), Data from: Life-history characteristics of European birds, Dryad, Dataset, https://datadryad.org/stash/dataset/doi:10.5061/dryad.n6k3n"
   ]
  },
  {
   "cell_type": "code",
   "execution_count": 1,
   "metadata": {},
   "outputs": [],
   "source": [
    "import pandas as pd"
   ]
  },
  {
   "cell_type": "code",
   "execution_count": 2,
   "metadata": {},
   "outputs": [
    {
     "data": {
      "text/html": [
       "<div>\n",
       "<style scoped>\n",
       "    .dataframe tbody tr th:only-of-type {\n",
       "        vertical-align: middle;\n",
       "    }\n",
       "\n",
       "    .dataframe tbody tr th {\n",
       "        vertical-align: top;\n",
       "    }\n",
       "\n",
       "    .dataframe thead th {\n",
       "        text-align: right;\n",
       "    }\n",
       "</style>\n",
       "<table border=\"1\" class=\"dataframe\">\n",
       "  <thead>\n",
       "    <tr style=\"text-align: right;\">\n",
       "      <th></th>\n",
       "      <th>ID</th>\n",
       "      <th>Order</th>\n",
       "      <th>Family</th>\n",
       "      <th>Species</th>\n",
       "      <th>LengthU_MEAN</th>\n",
       "      <th>WingU_MEAN</th>\n",
       "      <th>WingM_MEAN</th>\n",
       "      <th>WingF_MEAN</th>\n",
       "      <th>TailU_MEAN</th>\n",
       "      <th>TailM_MEAN</th>\n",
       "      <th>...</th>\n",
       "      <th>Folivore_B</th>\n",
       "      <th>Frugivore_B</th>\n",
       "      <th>Granivore_B</th>\n",
       "      <th>Arthropods_B</th>\n",
       "      <th>Other.invertebrates_B</th>\n",
       "      <th>Fish_B</th>\n",
       "      <th>Other.vertebrates_B</th>\n",
       "      <th>Carrion_B</th>\n",
       "      <th>Omnivore_B</th>\n",
       "      <th>Data.source</th>\n",
       "    </tr>\n",
       "  </thead>\n",
       "  <tbody>\n",
       "    <tr>\n",
       "      <th>0</th>\n",
       "      <td>1.0</td>\n",
       "      <td>Accipitriformes</td>\n",
       "      <td>Accipitridae</td>\n",
       "      <td>Accipiter brevipes</td>\n",
       "      <td>35.0</td>\n",
       "      <td>227.5</td>\n",
       "      <td>220.0</td>\n",
       "      <td>235.0</td>\n",
       "      <td>160.0</td>\n",
       "      <td>154.0</td>\n",
       "      <td>...</td>\n",
       "      <td>0.0</td>\n",
       "      <td>0.0</td>\n",
       "      <td>0.0</td>\n",
       "      <td>1.0</td>\n",
       "      <td>0.0</td>\n",
       "      <td>0.0</td>\n",
       "      <td>1.0</td>\n",
       "      <td>0.0</td>\n",
       "      <td>0.0</td>\n",
       "      <td>(1) Cramp, S. (2006) The Birds of the Western ...</td>\n",
       "    </tr>\n",
       "    <tr>\n",
       "      <th>1</th>\n",
       "      <td>2.0</td>\n",
       "      <td>Accipitriformes</td>\n",
       "      <td>Accipitridae</td>\n",
       "      <td>Accipiter gentilis</td>\n",
       "      <td>55.0</td>\n",
       "      <td>332.5</td>\n",
       "      <td>312.0</td>\n",
       "      <td>353.0</td>\n",
       "      <td>239.5</td>\n",
       "      <td>223.0</td>\n",
       "      <td>...</td>\n",
       "      <td>0.0</td>\n",
       "      <td>0.0</td>\n",
       "      <td>0.0</td>\n",
       "      <td>0.0</td>\n",
       "      <td>0.0</td>\n",
       "      <td>0.0</td>\n",
       "      <td>1.0</td>\n",
       "      <td>0.0</td>\n",
       "      <td>0.0</td>\n",
       "      <td>(1) Cramp, S. (2006) The Birds of the Western ...</td>\n",
       "    </tr>\n",
       "    <tr>\n",
       "      <th>2</th>\n",
       "      <td>3.0</td>\n",
       "      <td>Accipitriformes</td>\n",
       "      <td>Accipitridae</td>\n",
       "      <td>Accipiter nisus</td>\n",
       "      <td>33.0</td>\n",
       "      <td>221.5</td>\n",
       "      <td>203.0</td>\n",
       "      <td>240.0</td>\n",
       "      <td>164.5</td>\n",
       "      <td>149.0</td>\n",
       "      <td>...</td>\n",
       "      <td>0.0</td>\n",
       "      <td>0.0</td>\n",
       "      <td>0.0</td>\n",
       "      <td>0.0</td>\n",
       "      <td>0.0</td>\n",
       "      <td>0.0</td>\n",
       "      <td>1.0</td>\n",
       "      <td>0.0</td>\n",
       "      <td>0.0</td>\n",
       "      <td>(1) Cramp, S. (2006) The Birds of the Western ...</td>\n",
       "    </tr>\n",
       "    <tr>\n",
       "      <th>3</th>\n",
       "      <td>4.0</td>\n",
       "      <td>Accipitriformes</td>\n",
       "      <td>Accipitridae</td>\n",
       "      <td>Aegypius monachus</td>\n",
       "      <td>105.0</td>\n",
       "      <td>786.5</td>\n",
       "      <td>772.0</td>\n",
       "      <td>801.0</td>\n",
       "      <td>373.0</td>\n",
       "      <td>365.0</td>\n",
       "      <td>...</td>\n",
       "      <td>0.0</td>\n",
       "      <td>0.0</td>\n",
       "      <td>0.0</td>\n",
       "      <td>0.0</td>\n",
       "      <td>0.0</td>\n",
       "      <td>0.0</td>\n",
       "      <td>0.0</td>\n",
       "      <td>1.0</td>\n",
       "      <td>0.0</td>\n",
       "      <td>(1) Cramp, S. (2006) The Birds of the Western ...</td>\n",
       "    </tr>\n",
       "    <tr>\n",
       "      <th>4</th>\n",
       "      <td>5.0</td>\n",
       "      <td>Accipitriformes</td>\n",
       "      <td>Accipitridae</td>\n",
       "      <td>Aquila adalberti</td>\n",
       "      <td>80.0</td>\n",
       "      <td>610.5</td>\n",
       "      <td>600.0</td>\n",
       "      <td>621.0</td>\n",
       "      <td>298.5</td>\n",
       "      <td>291.0</td>\n",
       "      <td>...</td>\n",
       "      <td>0.0</td>\n",
       "      <td>0.0</td>\n",
       "      <td>0.0</td>\n",
       "      <td>0.0</td>\n",
       "      <td>0.0</td>\n",
       "      <td>0.0</td>\n",
       "      <td>1.0</td>\n",
       "      <td>0.0</td>\n",
       "      <td>0.0</td>\n",
       "      <td>(1) Cramp, S. (2006) The Birds of the Western ...</td>\n",
       "    </tr>\n",
       "  </tbody>\n",
       "</table>\n",
       "<p>5 rows × 86 columns</p>\n",
       "</div>"
      ],
      "text/plain": [
       "    ID            Order        Family             Species  LengthU_MEAN  \\\n",
       "0  1.0  Accipitriformes  Accipitridae  Accipiter brevipes          35.0   \n",
       "1  2.0  Accipitriformes  Accipitridae  Accipiter gentilis          55.0   \n",
       "2  3.0  Accipitriformes  Accipitridae     Accipiter nisus          33.0   \n",
       "3  4.0  Accipitriformes  Accipitridae   Aegypius monachus         105.0   \n",
       "4  5.0  Accipitriformes  Accipitridae    Aquila adalberti          80.0   \n",
       "\n",
       "   WingU_MEAN  WingM_MEAN  WingF_MEAN  TailU_MEAN  TailM_MEAN  ...  \\\n",
       "0       227.5       220.0       235.0       160.0       154.0  ...   \n",
       "1       332.5       312.0       353.0       239.5       223.0  ...   \n",
       "2       221.5       203.0       240.0       164.5       149.0  ...   \n",
       "3       786.5       772.0       801.0       373.0       365.0  ...   \n",
       "4       610.5       600.0       621.0       298.5       291.0  ...   \n",
       "\n",
       "   Folivore_B  Frugivore_B  Granivore_B  Arthropods_B  Other.invertebrates_B  \\\n",
       "0         0.0          0.0          0.0           1.0                    0.0   \n",
       "1         0.0          0.0          0.0           0.0                    0.0   \n",
       "2         0.0          0.0          0.0           0.0                    0.0   \n",
       "3         0.0          0.0          0.0           0.0                    0.0   \n",
       "4         0.0          0.0          0.0           0.0                    0.0   \n",
       "\n",
       "   Fish_B  Other.vertebrates_B  Carrion_B  Omnivore_B  \\\n",
       "0     0.0                  1.0        0.0         0.0   \n",
       "1     0.0                  1.0        0.0         0.0   \n",
       "2     0.0                  1.0        0.0         0.0   \n",
       "3     0.0                  0.0        1.0         0.0   \n",
       "4     0.0                  1.0        0.0         0.0   \n",
       "\n",
       "                                         Data.source  \n",
       "0  (1) Cramp, S. (2006) The Birds of the Western ...  \n",
       "1  (1) Cramp, S. (2006) The Birds of the Western ...  \n",
       "2  (1) Cramp, S. (2006) The Birds of the Western ...  \n",
       "3  (1) Cramp, S. (2006) The Birds of the Western ...  \n",
       "4  (1) Cramp, S. (2006) The Birds of the Western ...  \n",
       "\n",
       "[5 rows x 86 columns]"
      ]
     },
     "execution_count": 2,
     "metadata": {},
     "output_type": "execute_result"
    }
   ],
   "source": [
    "data = pd.read_csv('./EuropeanBirds.csv', encoding='latin1')\n",
    "data.head()"
   ]
  },
  {
   "cell_type": "markdown",
   "metadata": {},
   "source": [
    "1. Calculate the probabilities of the various types of nest building.  What is the probability that a male is involved in nest building?"
   ]
  },
  {
   "cell_type": "code",
   "execution_count": 3,
   "metadata": {},
   "outputs": [
    {
     "data": {
      "text/html": [
       "<div>\n",
       "<style scoped>\n",
       "    .dataframe tbody tr th:only-of-type {\n",
       "        vertical-align: middle;\n",
       "    }\n",
       "\n",
       "    .dataframe tbody tr th {\n",
       "        vertical-align: top;\n",
       "    }\n",
       "\n",
       "    .dataframe thead th {\n",
       "        text-align: right;\n",
       "    }\n",
       "</style>\n",
       "<table border=\"1\" class=\"dataframe\">\n",
       "  <thead>\n",
       "    <tr style=\"text-align: right;\">\n",
       "      <th></th>\n",
       "      <th>counts</th>\n",
       "      <th>probs</th>\n",
       "    </tr>\n",
       "  </thead>\n",
       "  <tbody>\n",
       "    <tr>\n",
       "      <th>B</th>\n",
       "      <td>207</td>\n",
       "      <td>0.417339</td>\n",
       "    </tr>\n",
       "    <tr>\n",
       "      <th>F</th>\n",
       "      <td>224</td>\n",
       "      <td>0.451613</td>\n",
       "    </tr>\n",
       "    <tr>\n",
       "      <th>M</th>\n",
       "      <td>27</td>\n",
       "      <td>0.054435</td>\n",
       "    </tr>\n",
       "    <tr>\n",
       "      <th>N</th>\n",
       "      <td>38</td>\n",
       "      <td>0.076613</td>\n",
       "    </tr>\n",
       "  </tbody>\n",
       "</table>\n",
       "</div>"
      ],
      "text/plain": [
       "   counts     probs\n",
       "B     207  0.417339\n",
       "F     224  0.451613\n",
       "M      27  0.054435\n",
       "N      38  0.076613"
      ]
     },
     "execution_count": 3,
     "metadata": {},
     "output_type": "execute_result"
    }
   ],
   "source": [
    "nestBuilding = data['Nest.building'].value_counts().sort_index()\n",
    "nestBuildingDest = pd.DataFrame({'counts': nestBuilding, 'probs': nestBuilding/sum(nestBuilding)})\n",
    "nestBuildingDest"
   ]
  },
  {
   "cell_type": "markdown",
   "metadata": {},
   "source": [
    "2. How many bird species have a solely monogamous mating system?"
   ]
  },
  {
   "cell_type": "code",
   "execution_count": 4,
   "metadata": {},
   "outputs": [
    {
     "data": {
      "text/plain": [
       "435"
      ]
     },
     "execution_count": 4,
     "metadata": {},
     "output_type": "execute_result"
    }
   ],
   "source": [
    "matingSystemCounts = data['Mating.system'].value_counts()\n",
    "matingSystemCounts['M']"
   ]
  },
  {
   "cell_type": "markdown",
   "metadata": {},
   "source": [
    "3. After monogamy only, what is the next most common mating system?"
   ]
  },
  {
   "cell_type": "code",
   "execution_count": 5,
   "metadata": {},
   "outputs": [
    {
     "data": {
      "text/plain": [
       "'M,PG'"
      ]
     },
     "execution_count": 5,
     "metadata": {},
     "output_type": "execute_result"
    }
   ],
   "source": [
    "matingSystemCounts.index.tolist()[1]"
   ]
  },
  {
   "cell_type": "markdown",
   "metadata": {},
   "source": [
    "4. What is the probability that a species is Sedentary (lives in the same area in both the breeding and non-breeding season)?"
   ]
  },
  {
   "cell_type": "code",
   "execution_count": 6,
   "metadata": {},
   "outputs": [
    {
     "data": {
      "text/html": [
       "<div>\n",
       "<style scoped>\n",
       "    .dataframe tbody tr th:only-of-type {\n",
       "        vertical-align: middle;\n",
       "    }\n",
       "\n",
       "    .dataframe tbody tr th {\n",
       "        vertical-align: top;\n",
       "    }\n",
       "\n",
       "    .dataframe thead th {\n",
       "        text-align: right;\n",
       "    }\n",
       "</style>\n",
       "<table border=\"1\" class=\"dataframe\">\n",
       "  <thead>\n",
       "    <tr style=\"text-align: right;\">\n",
       "      <th></th>\n",
       "      <th>counts</th>\n",
       "      <th>probs</th>\n",
       "    </tr>\n",
       "  </thead>\n",
       "  <tbody>\n",
       "    <tr>\n",
       "      <th>0.0</th>\n",
       "      <td>313</td>\n",
       "      <td>0.627255</td>\n",
       "    </tr>\n",
       "    <tr>\n",
       "      <th>1.0</th>\n",
       "      <td>186</td>\n",
       "      <td>0.372745</td>\n",
       "    </tr>\n",
       "  </tbody>\n",
       "</table>\n",
       "</div>"
      ],
      "text/plain": [
       "     counts     probs\n",
       "0.0     313  0.627255\n",
       "1.0     186  0.372745"
      ]
     },
     "execution_count": 6,
     "metadata": {},
     "output_type": "execute_result"
    }
   ],
   "source": [
    "isSedentaryCounts = data['Sedentary'].value_counts()\n",
    "pd.DataFrame({'counts': isSedentaryCounts, 'probs': isSedentaryCounts/sum(isSedentaryCounts)})\n",
    "\n",
    "# we can see from the result bellow that the probability is 0.372745"
   ]
  },
  {
   "cell_type": "markdown",
   "metadata": {},
   "source": [
    "5. What is the probability that a species is Sedentary **and** occupies human settlements in its breeding area?"
   ]
  },
  {
   "cell_type": "code",
   "execution_count": 7,
   "metadata": {},
   "outputs": [
    {
     "data": {
      "text/html": [
       "<div>\n",
       "<style scoped>\n",
       "    .dataframe tbody tr th:only-of-type {\n",
       "        vertical-align: middle;\n",
       "    }\n",
       "\n",
       "    .dataframe tbody tr th {\n",
       "        vertical-align: top;\n",
       "    }\n",
       "\n",
       "    .dataframe thead th {\n",
       "        text-align: right;\n",
       "    }\n",
       "</style>\n",
       "<table border=\"1\" class=\"dataframe\">\n",
       "  <thead>\n",
       "    <tr style=\"text-align: right;\">\n",
       "      <th>Human.settlements</th>\n",
       "      <th>0.0</th>\n",
       "      <th>1.0</th>\n",
       "      <th>Total</th>\n",
       "    </tr>\n",
       "    <tr>\n",
       "      <th>Sedentary</th>\n",
       "      <th></th>\n",
       "      <th></th>\n",
       "      <th></th>\n",
       "    </tr>\n",
       "  </thead>\n",
       "  <tbody>\n",
       "    <tr>\n",
       "      <th>0.0</th>\n",
       "      <td>0.599198</td>\n",
       "      <td>0.028056</td>\n",
       "      <td>0.627255</td>\n",
       "    </tr>\n",
       "    <tr>\n",
       "      <th>1.0</th>\n",
       "      <td>0.306613</td>\n",
       "      <td>0.066132</td>\n",
       "      <td>0.372745</td>\n",
       "    </tr>\n",
       "    <tr>\n",
       "      <th>Total</th>\n",
       "      <td>0.905812</td>\n",
       "      <td>0.094188</td>\n",
       "      <td>1.000000</td>\n",
       "    </tr>\n",
       "  </tbody>\n",
       "</table>\n",
       "</div>"
      ],
      "text/plain": [
       "Human.settlements       0.0       1.0     Total\n",
       "Sedentary                                      \n",
       "0.0                0.599198  0.028056  0.627255\n",
       "1.0                0.306613  0.066132  0.372745\n",
       "Total              0.905812  0.094188  1.000000"
      ]
     },
     "execution_count": 7,
     "metadata": {},
     "output_type": "execute_result"
    }
   ],
   "source": [
    "isSedentary = data['Sedentary']\n",
    "inHumanSettelmens = data['Human.settlements'].dropna()\n",
    "pd.crosstab(isSedentary, inHumanSettelmens, margins=True, margins_name='Total', normalize='all')\n",
    "\n",
    "# we can see from the result bellow that the probability is 0.066132"
   ]
  },
  {
   "cell_type": "markdown",
   "metadata": {},
   "source": [
    "6. What is the probability that a Sedentary species occupies human settlements in its breeding area?"
   ]
  },
  {
   "cell_type": "code",
   "execution_count": 8,
   "metadata": {},
   "outputs": [
    {
     "data": {
      "text/html": [
       "<div>\n",
       "<style scoped>\n",
       "    .dataframe tbody tr th:only-of-type {\n",
       "        vertical-align: middle;\n",
       "    }\n",
       "\n",
       "    .dataframe tbody tr th {\n",
       "        vertical-align: top;\n",
       "    }\n",
       "\n",
       "    .dataframe thead th {\n",
       "        text-align: right;\n",
       "    }\n",
       "</style>\n",
       "<table border=\"1\" class=\"dataframe\">\n",
       "  <thead>\n",
       "    <tr style=\"text-align: right;\">\n",
       "      <th>Human.settlements</th>\n",
       "      <th>0.0</th>\n",
       "      <th>1.0</th>\n",
       "    </tr>\n",
       "    <tr>\n",
       "      <th>Sedentary</th>\n",
       "      <th></th>\n",
       "      <th></th>\n",
       "    </tr>\n",
       "  </thead>\n",
       "  <tbody>\n",
       "    <tr>\n",
       "      <th>0.0</th>\n",
       "      <td>0.955272</td>\n",
       "      <td>0.044728</td>\n",
       "    </tr>\n",
       "    <tr>\n",
       "      <th>1.0</th>\n",
       "      <td>0.822581</td>\n",
       "      <td>0.177419</td>\n",
       "    </tr>\n",
       "    <tr>\n",
       "      <th>Total</th>\n",
       "      <td>0.905812</td>\n",
       "      <td>0.094188</td>\n",
       "    </tr>\n",
       "  </tbody>\n",
       "</table>\n",
       "</div>"
      ],
      "text/plain": [
       "Human.settlements       0.0       1.0\n",
       "Sedentary                            \n",
       "0.0                0.955272  0.044728\n",
       "1.0                0.822581  0.177419\n",
       "Total              0.905812  0.094188"
      ]
     },
     "execution_count": 8,
     "metadata": {},
     "output_type": "execute_result"
    }
   ],
   "source": [
    "pd.crosstab(isSedentary, inHumanSettelmens, margins=True, margins_name='Total', normalize='index')\n",
    "\n",
    "# we can see from the result bellow that the probability is 0.177419"
   ]
  },
  {
   "cell_type": "markdown",
   "metadata": {},
   "source": [
    "7. What is the probability that a species is Sedentary, given that it occupies human settlements in its breeding area?"
   ]
  },
  {
   "cell_type": "code",
   "execution_count": 9,
   "metadata": {},
   "outputs": [
    {
     "data": {
      "text/html": [
       "<div>\n",
       "<style scoped>\n",
       "    .dataframe tbody tr th:only-of-type {\n",
       "        vertical-align: middle;\n",
       "    }\n",
       "\n",
       "    .dataframe tbody tr th {\n",
       "        vertical-align: top;\n",
       "    }\n",
       "\n",
       "    .dataframe thead th {\n",
       "        text-align: right;\n",
       "    }\n",
       "</style>\n",
       "<table border=\"1\" class=\"dataframe\">\n",
       "  <thead>\n",
       "    <tr style=\"text-align: right;\">\n",
       "      <th>Human.settlements</th>\n",
       "      <th>0.0</th>\n",
       "      <th>1.0</th>\n",
       "      <th>Total</th>\n",
       "    </tr>\n",
       "    <tr>\n",
       "      <th>Sedentary</th>\n",
       "      <th></th>\n",
       "      <th></th>\n",
       "      <th></th>\n",
       "    </tr>\n",
       "  </thead>\n",
       "  <tbody>\n",
       "    <tr>\n",
       "      <th>0.0</th>\n",
       "      <td>0.661504</td>\n",
       "      <td>0.297872</td>\n",
       "      <td>0.627255</td>\n",
       "    </tr>\n",
       "    <tr>\n",
       "      <th>1.0</th>\n",
       "      <td>0.338496</td>\n",
       "      <td>0.702128</td>\n",
       "      <td>0.372745</td>\n",
       "    </tr>\n",
       "  </tbody>\n",
       "</table>\n",
       "</div>"
      ],
      "text/plain": [
       "Human.settlements       0.0       1.0     Total\n",
       "Sedentary                                      \n",
       "0.0                0.661504  0.297872  0.627255\n",
       "1.0                0.338496  0.702128  0.372745"
      ]
     },
     "execution_count": 9,
     "metadata": {},
     "output_type": "execute_result"
    }
   ],
   "source": [
    "pd.crosstab(isSedentary, inHumanSettelmens, margins=True, margins_name='Total', normalize='columns')\n",
    "\n",
    "# we can see from the result bellow that the probability is 0.702128"
   ]
  },
  {
   "cell_type": "markdown",
   "metadata": {},
   "source": [
    "8. A test for Coronavirus is 70% likely to detect the infection if it is present, and 99.1% likely to return a negative test if the infection is absent.   If the prevalence of the disease (the proportion of people who have the disease) is 0.1%, then what is the probability that a person who tests positive actually has the disease?"
   ]
  },
  {
   "cell_type": "code",
   "execution_count": 10,
   "metadata": {
    "scrolled": true
   },
   "outputs": [
    {
     "data": {
      "text/plain": [
       "0.07223196780518001"
      ]
     },
     "execution_count": 10,
     "metadata": {},
     "output_type": "execute_result"
    }
   ],
   "source": [
    "positiveDetection_present = 0.70\n",
    "negativeDetection_notPresent = 0.991\n",
    "prevalence = 0.001\n",
    "healthy = 1 - prevalence\n",
    "\n",
    "# probability of a person havong the disease and testing positive\n",
    "hasDisease_positive = prevalence * positiveDetection_present\n",
    "# probability of a person havong the disease and testing false positive\n",
    "noDisease_positive = healthy * (1 - negativeDetection_notPresent)\n",
    "\n",
    "# percentage of people who actually have the disease, and test positive\n",
    "res = hasDisease_positive / (hasDisease_positive + noDisease_positive)\n",
    "res"
   ]
  },
  {
   "cell_type": "markdown",
   "metadata": {},
   "source": [
    "9. How would your answer above change if the probability of a false positive test was zero?"
   ]
  },
  {
   "cell_type": "code",
   "execution_count": 11,
   "metadata": {},
   "outputs": [
    {
     "data": {
      "text/plain": [
       "1.0"
      ]
     },
     "execution_count": 11,
     "metadata": {},
     "output_type": "execute_result"
    }
   ],
   "source": [
    "res = hasDisease_positive / (hasDisease_positive + 0)\n",
    "res"
   ]
  },
  {
   "cell_type": "markdown",
   "metadata": {},
   "source": [
    "## Theoretical Probability Distributions"
   ]
  },
  {
   "cell_type": "markdown",
   "metadata": {},
   "source": [
    "(5 Marks)\n",
    "\n",
    "10. A Poisson random variable is often used to model counts of customer arrivals in a shop.  Assume that the number of customers to arrive in a particular hour follows a Poisson(5) distribution.  Compute and plot the probabililty distribution of a Poisson(5) distribution.  (Plot the distribution over the range 0 to 15.)"
   ]
  },
  {
   "cell_type": "code",
   "execution_count": 12,
   "metadata": {
    "scrolled": false
   },
   "outputs": [
    {
     "data": {
      "text/plain": [
       "(array([6., 2., 1., 1., 1., 1., 0., 1., 1., 2.]),\n",
       " array([1.57245434e-04, 1.76882579e-02, 3.52192703e-02, 5.27502827e-02,\n",
       "        7.02812952e-02, 8.78123076e-02, 1.05343320e-01, 1.22874332e-01,\n",
       "        1.40405345e-01, 1.57936357e-01, 1.75467370e-01]),\n",
       " <a list of 10 Patch objects>)"
      ]
     },
     "execution_count": 12,
     "metadata": {},
     "output_type": "execute_result"
    },
    {
     "data": {
      "image/png": "[encoded data removed]",
      "text/plain": [
       "<Figure size 432x288 with 1 Axes>"
      ]
     },
     "metadata": {
      "needs_background": "light"
     },
     "output_type": "display_data"
    }
   ],
   "source": [
    "from numpy import random\n",
    "import matplotlib.pyplot as plt\n",
    "from scipy.stats import poisson\n",
    "import numpy as np\n",
    "\n",
    "random.seed(0)\n",
    "p = poisson(5)\n",
    "n = np.arange(0, 16)\n",
    "x = p.pmf(n)\n",
    "plt.hist(x)"
   ]
  },
  {
   "cell_type": "markdown",
   "metadata": {},
   "source": [
    "11. Find out\n",
    "\n",
    "  (a) The mean and variance of the distribution\n",
    "  \n",
    "  (b) The probability that two customers arrive in a particular hour\n",
    "  \n",
    "  (c) The probability fewer than 10 arrive\n",
    "  \n",
    "  (d) The probability that no more than 10 arrive\n",
    "  \n",
    "  (e) The probability that more than 15 arrive"
   ]
  },
  {
   "cell_type": "code",
   "execution_count": 13,
   "metadata": {
    "scrolled": false
   },
   "outputs": [
    {
     "name": "stdout",
     "output_type": "stream",
     "text": [
      "mean: 0.06249568698488399\n",
      "variance: 0.004083872515948625\n"
     ]
    }
   ],
   "source": [
    "# a\n",
    "print(\"mean: \" + str(np.mean(x)))\n",
    "print(\"variance: \" + str(np.var(x)))"
   ]
  },
  {
   "cell_type": "code",
   "execution_count": 14,
   "metadata": {},
   "outputs": [
    {
     "data": {
      "text/plain": [
       "0.08422433748856832"
      ]
     },
     "execution_count": 14,
     "metadata": {},
     "output_type": "execute_result"
    }
   ],
   "source": [
    "# b\n",
    "p.pmf(2)"
   ]
  },
  {
   "cell_type": "code",
   "execution_count": 15,
   "metadata": {},
   "outputs": [
    {
     "data": {
      "text/plain": [
       "0.9681719426937951"
      ]
     },
     "execution_count": 15,
     "metadata": {},
     "output_type": "execute_result"
    }
   ],
   "source": [
    "# c\n",
    "p.cdf(9)"
   ]
  },
  {
   "cell_type": "code",
   "execution_count": 16,
   "metadata": {},
   "outputs": [
    {
     "data": {
      "text/plain": [
       "0.9863047314016171"
      ]
     },
     "execution_count": 16,
     "metadata": {},
     "output_type": "execute_result"
    }
   ],
   "source": [
    "# d\n",
    "p.cdf(10)"
   ]
  },
  {
   "cell_type": "code",
   "execution_count": 27,
   "metadata": {},
   "outputs": [
    {
     "data": {
      "text/plain": [
       "0.0001"
      ]
     },
     "execution_count": 27,
     "metadata": {},
     "output_type": "execute_result"
    }
   ],
   "source": [
    "# e\n",
    "round(1 - p.cdf(15), 4)"
   ]
  },
  {
   "cell_type": "markdown",
   "metadata": {},
   "source": [
    "## Model fitting\n",
    "\n",
    "(9 Marks)\n",
    "\n",
    "Use the European Birds data set from above.  before you start, ensure that you rename the column `Sexual.Dimorphism` as `SexualDimorphism` - since the '.' in its name causes a problem for the ols fitting command.  Use the `rename()` command to do this."
   ]
  },
  {
   "cell_type": "code",
   "execution_count": 18,
   "metadata": {},
   "outputs": [],
   "source": [
    "data.rename(columns={'Sexual.dimorphism': 'SexualDimorphism'}, inplace=True)"
   ]
  },
  {
   "cell_type": "markdown",
   "metadata": {},
   "source": [
    "12. Draw a scatter plot of the log of female bill length against the log of female breeding weight.  Distinguish using a plot symbol species that are or are not sexually dimorphic (with a difference between males and females in size/colour)."
   ]
  },
  {
   "cell_type": "code",
   "execution_count": 19,
   "metadata": {},
   "outputs": [
    {
     "data": {
      "text/plain": [
       "<matplotlib.legend.Legend at 0x210c303e780>"
      ]
     },
     "execution_count": 19,
     "metadata": {},
     "output_type": "execute_result"
    },
    {
     "data": {
      "image/png": "[encoded data removed]",
      "text/plain": [
       "<Figure size 432x288 with 1 Axes>"
      ]
     },
     "metadata": {
      "needs_background": "light"
     },
     "output_type": "display_data"
    }
   ],
   "source": [
    "data['logFBillLen'] = np.log(data['BillF_MEAN'])\n",
    "data['logFBreedWeight'] = np.log(data['WeightF_MEAN'])\n",
    "sexualDimorphism = list(data['SexualDimorphism'] > 0)\n",
    "\n",
    "plt.plot(data['logFBillLen'], marker = '.' if sexualDimorphism else 'x')\n",
    "plt.plot(data['logFBreedWeight'], marker= '.' if sexualDimorphism else 'x')\n",
    "plt.legend(['log(BillF_MEAN)', 'log(WeightF_MEAN)'])"
   ]
  },
  {
   "cell_type": "markdown",
   "metadata": {},
   "source": [
    "13. Fit a regression model for log female bill length as predicted by log female breeding weight.  \n",
    "\n",
    "  (a) Print out a summary of the model fit\n",
    "  \n",
    "  (b) Plot the fitted curve onto the data\n",
    "  \n",
    "  (c) Draw a scatter plot of the residuals and comment on them"
   ]
  },
  {
   "cell_type": "code",
   "execution_count": 20,
   "metadata": {},
   "outputs": [
    {
     "data": {
      "text/html": [
       "<table class=\"simpletable\">\n",
       "<caption>OLS Regression Results</caption>\n",
       "<tr>\n",
       "  <th>Dep. Variable:</th>       <td>logFBillLen</td>   <th>  R-squared:         </th> <td>   0.557</td>\n",
       "</tr>\n",
       "<tr>\n",
       "  <th>Model:</th>                   <td>OLS</td>       <th>  Adj. R-squared:    </th> <td>   0.556</td>\n",
       "</tr>\n",
       "<tr>\n",
       "  <th>Method:</th>             <td>Least Squares</td>  <th>  F-statistic:       </th> <td>   620.5</td>\n",
       "</tr>\n",
       "<tr>\n",
       "  <th>Date:</th>             <td>Wed, 13 May 2020</td> <th>  Prob (F-statistic):</th> <td>2.51e-89</td>\n",
       "</tr>\n",
       "<tr>\n",
       "  <th>Time:</th>                 <td>12:22:36</td>     <th>  Log-Likelihood:    </th> <td> -281.26</td>\n",
       "</tr>\n",
       "<tr>\n",
       "  <th>No. Observations:</th>      <td>   496</td>      <th>  AIC:               </th> <td>   566.5</td>\n",
       "</tr>\n",
       "<tr>\n",
       "  <th>Df Residuals:</th>          <td>   494</td>      <th>  BIC:               </th> <td>   574.9</td>\n",
       "</tr>\n",
       "<tr>\n",
       "  <th>Df Model:</th>              <td>     1</td>      <th>                     </th>     <td> </td>   \n",
       "</tr>\n",
       "<tr>\n",
       "  <th>Covariance Type:</th>      <td>nonrobust</td>    <th>                     </th>     <td> </td>   \n",
       "</tr>\n",
       "</table>\n",
       "<table class=\"simpletable\">\n",
       "<tr>\n",
       "         <td></td>            <th>coef</th>     <th>std err</th>      <th>t</th>      <th>P>|t|</th>  <th>[0.025</th>    <th>0.975]</th>  \n",
       "</tr>\n",
       "<tr>\n",
       "  <th>Intercept</th>       <td>    1.9272</td> <td>    0.054</td> <td>   35.584</td> <td> 0.000</td> <td>    1.821</td> <td>    2.034</td>\n",
       "</tr>\n",
       "<tr>\n",
       "  <th>logFBreedWeight</th> <td>    0.2609</td> <td>    0.010</td> <td>   24.911</td> <td> 0.000</td> <td>    0.240</td> <td>    0.281</td>\n",
       "</tr>\n",
       "</table>\n",
       "<table class=\"simpletable\">\n",
       "<tr>\n",
       "  <th>Omnibus:</th>       <td>22.890</td> <th>  Durbin-Watson:     </th> <td>   0.546</td>\n",
       "</tr>\n",
       "<tr>\n",
       "  <th>Prob(Omnibus):</th> <td> 0.000</td> <th>  Jarque-Bera (JB):  </th> <td>  45.270</td>\n",
       "</tr>\n",
       "<tr>\n",
       "  <th>Skew:</th>          <td> 0.264</td> <th>  Prob(JB):          </th> <td>1.48e-10</td>\n",
       "</tr>\n",
       "<tr>\n",
       "  <th>Kurtosis:</th>      <td> 4.383</td> <th>  Cond. No.          </th> <td>    15.1</td>\n",
       "</tr>\n",
       "</table><br/><br/>Warnings:<br/>[1] Standard Errors assume that the covariance matrix of the errors is correctly specified."
      ],
      "text/plain": [
       "<class 'statsmodels.iolib.summary.Summary'>\n",
       "\"\"\"\n",
       "                            OLS Regression Results                            \n",
       "==============================================================================\n",
       "Dep. Variable:            logFBillLen   R-squared:                       0.557\n",
       "Model:                            OLS   Adj. R-squared:                  0.556\n",
       "Method:                 Least Squares   F-statistic:                     620.5\n",
       "Date:                Wed, 13 May 2020   Prob (F-statistic):           2.51e-89\n",
       "Time:                        12:22:36   Log-Likelihood:                -281.26\n",
       "No. Observations:                 496   AIC:                             566.5\n",
       "Df Residuals:                     494   BIC:                             574.9\n",
       "Df Model:                           1                                         \n",
       "Covariance Type:            nonrobust                                         \n",
       "===================================================================================\n",
       "                      coef    std err          t      P>|t|      [0.025      0.975]\n",
       "-----------------------------------------------------------------------------------\n",
       "Intercept           1.9272      0.054     35.584      0.000       1.821       2.034\n",
       "logFBreedWeight     0.2609      0.010     24.911      0.000       0.240       0.281\n",
       "==============================================================================\n",
       "Omnibus:                       22.890   Durbin-Watson:                   0.546\n",
       "Prob(Omnibus):                  0.000   Jarque-Bera (JB):               45.270\n",
       "Skew:                           0.264   Prob(JB):                     1.48e-10\n",
       "Kurtosis:                       4.383   Cond. No.                         15.1\n",
       "==============================================================================\n",
       "\n",
       "Warnings:\n",
       "[1] Standard Errors assume that the covariance matrix of the errors is correctly specified.\n",
       "\"\"\""
      ]
     },
     "execution_count": 20,
     "metadata": {},
     "output_type": "execute_result"
    }
   ],
   "source": [
    "# a\n",
    "\n",
    "import statsmodels.formula.api as smf\n",
    "\n",
    "fittedModel = smf.ols(formula='logFBillLen ~ logFBreedWeight', data=data).fit()\n",
    "predictions = fittedModel.predict(data)\n",
    "residuals = data['logFBillLen'] - predictions\n",
    "\n",
    "fittedModel.summary()"
   ]
  },
  {
   "cell_type": "code",
   "execution_count": 21,
   "metadata": {
    "scrolled": true
   },
   "outputs": [
    {
     "data": {
      "image/png": "[encoded data removed]",
      "text/plain": [
       "<Figure size 432x288 with 1 Axes>"
      ]
     },
     "metadata": {
      "needs_background": "light"
     },
     "output_type": "display_data"
    }
   ],
   "source": [
    "# b\n",
    "\n",
    "plt.plot(data['logFBillLen'], 'x')\n",
    "plt.plot(predictions, '.')\n",
    "plt.legend(['data', 'fitted'])\n",
    "plt.show()"
   ]
  },
  {
   "cell_type": "code",
   "execution_count": 22,
   "metadata": {},
   "outputs": [
    {
     "data": {
      "text/plain": [
       "<matplotlib.collections.PathCollection at 0x210c34ab390>"
      ]
     },
     "execution_count": 22,
     "metadata": {},
     "output_type": "execute_result"
    },
    {
     "data": {
      "image/png": "[encoded data removed]",
      "text/plain": [
       "<Figure size 432x288 with 1 Axes>"
      ]
     },
     "metadata": {
      "needs_background": "light"
     },
     "output_type": "display_data"
    }
   ],
   "source": [
    "# c\n",
    "x = data['logFBillLen']\n",
    "y = residuals\n",
    "\n",
    "cols = np.where(sexualDimorphism, 'tab:red', 'tab:blue')\n",
    "fig, ax = plt.subplots(1,1)\n",
    "plt.scatter(x, y, marker='o', c=cols)\n",
    "\n",
    "# the data seems to be too scattered around, hence, it seems like we need to add a covariate to fix it"
   ]
  },
  {
   "cell_type": "markdown",
   "metadata": {},
   "source": [
    "14. Now add Sexual Dimorphism as a covariate, and see if that improves the model by inspecting the residual scatter plot."
   ]
  },
  {
   "cell_type": "code",
   "execution_count": 23,
   "metadata": {},
   "outputs": [
    {
     "data": {
      "text/plain": [
       "<matplotlib.collections.PathCollection at 0x210c30c7828>"
      ]
     },
     "execution_count": 23,
     "metadata": {},
     "output_type": "execute_result"
    },
    {
     "data": {
      "image/png": "[encoded data removed]",
      "text/plain": [
       "<Figure size 432x288 with 1 Axes>"
      ]
     },
     "metadata": {
      "needs_background": "light"
     },
     "output_type": "display_data"
    }
   ],
   "source": [
    "fittedModel = smf.ols(formula='logFBillLen ~ logFBreedWeight*C(SexualDimorphism)', data=data).fit()\n",
    "predictions = fittedModel.predict(data)\n",
    "residuals = data['logFBillLen'] - predictions\n",
    "\n",
    "fig, ax = plt.subplots(1,1)\n",
    "plt.scatter(data['logFBillLen'], residuals, marker='o', c=cols)"
   ]
  },
  {
   "cell_type": "markdown",
   "metadata": {},
   "source": [
    "## Ethical and privacy issues\n",
    "\n",
    "(5 Marks)\n",
    "\n",
    "15.  During the Coronavirus pandemic, many countries are investigating the electronic collection of contact data as a means of identifying close contacts of people who are diagnosed with Covid-19.   One possibility is an app on a smartphone which broadcasts an identifier which other devices record when in close proximity.  If a person is identified as a case, then the data from their app is used to identify the personal devices to which they have been close in the previous weeks.  \n",
    "<br>Write a short discussion, of about 250-300 words, about the issues of **privacy**, **security** and **confidentiality** that you see with a plan of this sort."
   ]
  },
  {
   "cell_type": "markdown",
   "metadata": {},
   "source": [
    "There are some issues that may arise from this approach. For example, the app could be considered as invasive, since, it would be tracking users' activities for twenty four hours, every day for a prolonged period of time, hence, invading on people's privacy. Another problem with this idea is security, as the app is supposed to broadcast an identifier whenever an individual gets in close contact with another person. This can present a security issue, where if a hacker manages to read the signal, they would be able to access people's private information. Moreover, since the app assigns each person a unique identification number, it would mean that there is no confidentiality when using software, because, identification numbers can be used to represent each user individually. Furthermore, assuming that the recorded data is stored on people's devices, it would be a high security risk to use such method, because, this would mean that anyone can view other people's identifiers, that are supposed to be confidential; thus, making it easier for intruders to use this information to access users' data. Finally, the app proposes another issue, which is that if a government requires every person with a mobile phone to install the app by law, it is highly likely that some individuals will be \"forced\" to download it regardless whether they consent to having their personal data shared with other members of the population or not. Hence, this would be considered as another ethical problem."
   ]
  }
 ],
 "metadata": {
  "kernelspec": {
   "display_name": "Python 3",
   "language": "python",
   "name": "python3"
  },
  "language_info": {
   "codemirror_mode": {
    "name": "ipython",
    "version": 3
   },
   "file_extension": ".py",
   "mimetype": "text/x-python",
   "name": "python",
   "nbconvert_exporter": "python",
   "pygments_lexer": "ipython3",
   "version": "3.6.6"
  }
 },
 "nbformat": 4,
 "nbformat_minor": 2
}
