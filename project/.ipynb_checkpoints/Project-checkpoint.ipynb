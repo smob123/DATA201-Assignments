{
 "cells": [
  {
   "cell_type": "markdown",
   "metadata": {},
   "source": [
    "1- Load all three files into Python and take a look at them. Ensure that you understand what is\n",
    "recorded in each. Compare the geographic locations of data collected, and the years. Create\n",
    "new dataframes that contain only the data for matched years and locations where appropriate.\n",
    "Deal appropriately with NaN datapoints. (3 marks)"
   ]
  },
  {
   "cell_type": "code",
   "execution_count": 1,
   "metadata": {},
   "outputs": [],
   "source": [
    "import pandas as pd\n",
    "import numpy as np\n",
    "import matplotlib.pyplot as pl\n",
    "import datetime\n",
    "\n",
    "%matplotlib inline"
   ]
  },
  {
   "cell_type": "markdown",
   "metadata": {},
   "source": [
    "#### first, we read and clean the data"
   ]
  },
  {
   "cell_type": "code",
   "execution_count": 2,
   "metadata": {
    "scrolled": true
   },
   "outputs": [
    {
     "data": {
      "text/html": [
       "<div>\n",
       "<style scoped>\n",
       "    .dataframe tbody tr th:only-of-type {\n",
       "        vertical-align: middle;\n",
       "    }\n",
       "\n",
       "    .dataframe tbody tr th {\n",
       "        vertical-align: top;\n",
       "    }\n",
       "\n",
       "    .dataframe thead th {\n",
       "        text-align: right;\n",
       "    }\n",
       "</style>\n",
       "<table border=\"1\" class=\"dataframe\">\n",
       "  <thead>\n",
       "    <tr style=\"text-align: right;\">\n",
       "      <th></th>\n",
       "      <th>Year</th>\n",
       "      <th>series</th>\n",
       "      <th>station</th>\n",
       "      <th>data</th>\n",
       "      <th>value</th>\n",
       "    </tr>\n",
       "  </thead>\n",
       "  <tbody>\n",
       "    <tr>\n",
       "      <th>0</th>\n",
       "      <td>1909</td>\n",
       "      <td>national_7_stn_temp_data</td>\n",
       "      <td>Auckland</td>\n",
       "      <td>Temp</td>\n",
       "      <td>NaN</td>\n",
       "    </tr>\n",
       "    <tr>\n",
       "      <th>1</th>\n",
       "      <td>1910</td>\n",
       "      <td>national_7_stn_temp_data</td>\n",
       "      <td>Auckland</td>\n",
       "      <td>Temp</td>\n",
       "      <td>14.97</td>\n",
       "    </tr>\n",
       "    <tr>\n",
       "      <th>2</th>\n",
       "      <td>1911</td>\n",
       "      <td>national_7_stn_temp_data</td>\n",
       "      <td>Auckland</td>\n",
       "      <td>Temp</td>\n",
       "      <td>14.33</td>\n",
       "    </tr>\n",
       "    <tr>\n",
       "      <th>3</th>\n",
       "      <td>1912</td>\n",
       "      <td>national_7_stn_temp_data</td>\n",
       "      <td>Auckland</td>\n",
       "      <td>Temp</td>\n",
       "      <td>13.54</td>\n",
       "    </tr>\n",
       "    <tr>\n",
       "      <th>4</th>\n",
       "      <td>1913</td>\n",
       "      <td>national_7_stn_temp_data</td>\n",
       "      <td>Auckland</td>\n",
       "      <td>Temp</td>\n",
       "      <td>13.76</td>\n",
       "    </tr>\n",
       "  </tbody>\n",
       "</table>\n",
       "</div>"
      ],
      "text/plain": [
       "   Year                    series   station  data  value\n",
       "0  1909  national_7_stn_temp_data  Auckland  Temp    NaN\n",
       "1  1910  national_7_stn_temp_data  Auckland  Temp  14.97\n",
       "2  1911  national_7_stn_temp_data  Auckland  Temp  14.33\n",
       "3  1912  national_7_stn_temp_data  Auckland  Temp  13.54\n",
       "4  1913  national_7_stn_temp_data  Auckland  Temp  13.76"
      ]
     },
     "execution_count": 2,
     "metadata": {},
     "output_type": "execute_result"
    }
   ],
   "source": [
    "annual_avg_temp_df = pd.read_csv('annual-average-temperature-anomaly-19092013.csv', sep=',')\n",
    "annual_avg_temp_df.head()"
   ]
  },
  {
   "cell_type": "code",
   "execution_count": 3,
   "metadata": {},
   "outputs": [
    {
     "name": "stdout",
     "output_type": "stream",
     "text": [
      "Year        0\n",
      "series      0\n",
      "station     0\n",
      "data        0\n",
      "value      16\n",
      "dtype: int64\n"
     ]
    }
   ],
   "source": [
    "print(np.sum(annual_avg_temp_df.isna()))\n",
    "\n",
    "# we can safely drop na values, since there are only 16 of them\n",
    "annual_avg_temp_df = annual_avg_temp_df.dropna()"
   ]
  },
  {
   "cell_type": "code",
   "execution_count": 4,
   "metadata": {},
   "outputs": [
    {
     "name": "stdout",
     "output_type": "stream",
     "text": [
      "['national_7_stn_temp_data']\n"
     ]
    }
   ],
   "source": [
    "print(annual_avg_temp_df.series.unique())\n",
    "# we can safely drop the series column, since it only has one value\n",
    "annual_avg_temp_df = annual_avg_temp_df.drop(['series'], axis=1)"
   ]
  },
  {
   "cell_type": "code",
   "execution_count": 5,
   "metadata": {},
   "outputs": [
    {
     "name": "stdout",
     "output_type": "stream",
     "text": [
      "['Temp' '5_yr_mean' 'Anomaly' 'average_temp']\n"
     ]
    }
   ],
   "source": [
    "print(annual_avg_temp_df.data.unique())\n",
    "# we can drop all the values in the data column except temp, because that is what we need to examine\n",
    "annual_avg_temp_df = annual_avg_temp_df[annual_avg_temp_df.data == 'Temp']"
   ]
  },
  {
   "cell_type": "code",
   "execution_count": 6,
   "metadata": {
    "scrolled": true
   },
   "outputs": [
    {
     "name": "stdout",
     "output_type": "stream",
     "text": [
      "['Auckland' 'Masterton' 'Wellington' 'Hokitika' 'Nelson' 'Lincoln'\n",
      " 'Dunedin' '7_Stn_Composite']\n"
     ]
    }
   ],
   "source": [
    "print(annual_avg_temp_df.station.unique())\n",
    "# we can drop rows containing 7_Stn_Composite, since it is not a city name\n",
    "annual_avg_temp_df = annual_avg_temp_df[annual_avg_temp_df.station != '7_Stn_Composite']"
   ]
  },
  {
   "cell_type": "code",
   "execution_count": 7,
   "metadata": {},
   "outputs": [
    {
     "name": "stdout",
     "output_type": "stream",
     "text": [
      "['Temp']\n"
     ]
    }
   ],
   "source": [
    "print(annual_avg_temp_df.data.unique())\n",
    "# we can safely drop the data column, since it only has one value\n",
    "annual_avg_temp_df = annual_avg_temp_df.drop(['data'], axis=1)"
   ]
  },
  {
   "cell_type": "code",
   "execution_count": 8,
   "metadata": {},
   "outputs": [
    {
     "data": {
      "text/html": [
       "<div>\n",
       "<style scoped>\n",
       "    .dataframe tbody tr th:only-of-type {\n",
       "        vertical-align: middle;\n",
       "    }\n",
       "\n",
       "    .dataframe tbody tr th {\n",
       "        vertical-align: top;\n",
       "    }\n",
       "\n",
       "    .dataframe thead th {\n",
       "        text-align: right;\n",
       "    }\n",
       "</style>\n",
       "<table border=\"1\" class=\"dataframe\">\n",
       "  <thead>\n",
       "    <tr style=\"text-align: right;\">\n",
       "      <th></th>\n",
       "      <th>temp</th>\n",
       "      <th>city</th>\n",
       "    </tr>\n",
       "    <tr>\n",
       "      <th>Year</th>\n",
       "      <th></th>\n",
       "      <th></th>\n",
       "    </tr>\n",
       "  </thead>\n",
       "  <tbody>\n",
       "    <tr>\n",
       "      <th>1909</th>\n",
       "      <td>11.10</td>\n",
       "      <td>Dunedin</td>\n",
       "    </tr>\n",
       "    <tr>\n",
       "      <th>1909</th>\n",
       "      <td>11.44</td>\n",
       "      <td>Lincoln</td>\n",
       "    </tr>\n",
       "    <tr>\n",
       "      <th>1909</th>\n",
       "      <td>12.52</td>\n",
       "      <td>Nelson</td>\n",
       "    </tr>\n",
       "    <tr>\n",
       "      <th>1909</th>\n",
       "      <td>12.59</td>\n",
       "      <td>Wellington</td>\n",
       "    </tr>\n",
       "    <tr>\n",
       "      <th>1910</th>\n",
       "      <td>14.97</td>\n",
       "      <td>Auckland</td>\n",
       "    </tr>\n",
       "  </tbody>\n",
       "</table>\n",
       "</div>"
      ],
      "text/plain": [
       "       temp        city\n",
       "Year                   \n",
       "1909  11.10     Dunedin\n",
       "1909  11.44     Lincoln\n",
       "1909  12.52      Nelson\n",
       "1909  12.59  Wellington\n",
       "1910  14.97    Auckland"
      ]
     },
     "execution_count": 8,
     "metadata": {},
     "output_type": "execute_result"
    }
   ],
   "source": [
    "# change the value of year to an int\n",
    "annual_avg_temp_df.Year = annual_avg_temp_df.Year.astype('int64')\n",
    "# rename columns\n",
    "annual_avg_temp_df.rename(columns = {'value': 'temp', 'station': 'city'}, inplace=True)\n",
    "# group the data by city, and year\n",
    "annual_avg_temp_df = annual_avg_temp_df.groupby(['Year', 'city']).mean()\n",
    "# readd the year, and city as columns\n",
    "annual_avg_temp_df['Year'] = [x[0] for x in annual_avg_temp_df.index]\n",
    "annual_avg_temp_df['city'] = [x[1] for x in annual_avg_temp_df.index]\n",
    "# set the year as the index\n",
    "annual_avg_temp_df = annual_avg_temp_df.set_index('Year')\n",
    "annual_avg_temp_df.head()"
   ]
  },
  {
   "cell_type": "code",
   "execution_count": 9,
   "metadata": {},
   "outputs": [],
   "source": [
    "# divide the dataset by city\n",
    "auckTemp = annual_avg_temp_df[annual_avg_temp_df.city == 'Auckland']\n",
    "mastTemp = annual_avg_temp_df[annual_avg_temp_df.city == 'Masterton']\n",
    "WellTemp = annual_avg_temp_df[annual_avg_temp_df.city == 'Wellington']\n",
    "hokiTemp = annual_avg_temp_df[annual_avg_temp_df.city == 'Hokitika']\n",
    "nelsTemp = annual_avg_temp_df[annual_avg_temp_df.city == 'Nelson']\n",
    "duneTemp = annual_avg_temp_df[annual_avg_temp_df.city == 'Dunedin']"
   ]
  },
  {
   "cell_type": "code",
   "execution_count": 10,
   "metadata": {
    "scrolled": false
   },
   "outputs": [
    {
     "data": {
      "text/html": [
       "<div>\n",
       "<style scoped>\n",
       "    .dataframe tbody tr th:only-of-type {\n",
       "        vertical-align: middle;\n",
       "    }\n",
       "\n",
       "    .dataframe tbody tr th {\n",
       "        vertical-align: top;\n",
       "    }\n",
       "\n",
       "    .dataframe thead th {\n",
       "        text-align: right;\n",
       "    }\n",
       "</style>\n",
       "<table border=\"1\" class=\"dataframe\">\n",
       "  <thead>\n",
       "    <tr style=\"text-align: right;\">\n",
       "      <th></th>\n",
       "      <th>Month_year</th>\n",
       "      <th>Southern_oscillation_index</th>\n",
       "    </tr>\n",
       "  </thead>\n",
       "  <tbody>\n",
       "    <tr>\n",
       "      <th>0</th>\n",
       "      <td>Jan-86</td>\n",
       "      <td>1.0</td>\n",
       "    </tr>\n",
       "    <tr>\n",
       "      <th>1</th>\n",
       "      <td>Feb-86</td>\n",
       "      <td>-1.0</td>\n",
       "    </tr>\n",
       "    <tr>\n",
       "      <th>2</th>\n",
       "      <td>Mar-86</td>\n",
       "      <td>0.5</td>\n",
       "    </tr>\n",
       "    <tr>\n",
       "      <th>3</th>\n",
       "      <td>Apr-86</td>\n",
       "      <td>0.3</td>\n",
       "    </tr>\n",
       "    <tr>\n",
       "      <th>4</th>\n",
       "      <td>May-86</td>\n",
       "      <td>-0.2</td>\n",
       "    </tr>\n",
       "  </tbody>\n",
       "</table>\n",
       "</div>"
      ],
      "text/plain": [
       "  Month_year  Southern_oscillation_index\n",
       "0     Jan-86                         1.0\n",
       "1     Feb-86                        -1.0\n",
       "2     Mar-86                         0.5\n",
       "3     Apr-86                         0.3\n",
       "4     May-86                        -0.2"
      ]
     },
     "execution_count": 10,
     "metadata": {},
     "output_type": "execute_result"
    }
   ],
   "source": [
    "ENSO_df = pd.read_csv('monthly-el-nino-southern-oscillation-index-19862016.csv', sep=',')\n",
    "ENSO_df.head()"
   ]
  },
  {
   "cell_type": "code",
   "execution_count": 11,
   "metadata": {},
   "outputs": [
    {
     "data": {
      "text/plain": [
       "Month_year                    0\n",
       "Southern_oscillation_index    0\n",
       "dtype: int64"
      ]
     },
     "execution_count": 11,
     "metadata": {},
     "output_type": "execute_result"
    }
   ],
   "source": [
    "np.sum(ENSO_df.isna())\n",
    "# there are no na values, so we don't have to drop anything"
   ]
  },
  {
   "cell_type": "code",
   "execution_count": 12,
   "metadata": {},
   "outputs": [
    {
     "data": {
      "text/html": [
       "<div>\n",
       "<style scoped>\n",
       "    .dataframe tbody tr th:only-of-type {\n",
       "        vertical-align: middle;\n",
       "    }\n",
       "\n",
       "    .dataframe tbody tr th {\n",
       "        vertical-align: top;\n",
       "    }\n",
       "\n",
       "    .dataframe thead th {\n",
       "        text-align: right;\n",
       "    }\n",
       "</style>\n",
       "<table border=\"1\" class=\"dataframe\">\n",
       "  <thead>\n",
       "    <tr style=\"text-align: right;\">\n",
       "      <th></th>\n",
       "      <th>osc</th>\n",
       "      <th>Month</th>\n",
       "      <th>Month_year</th>\n",
       "    </tr>\n",
       "    <tr>\n",
       "      <th>Year</th>\n",
       "      <th></th>\n",
       "      <th></th>\n",
       "      <th></th>\n",
       "    </tr>\n",
       "  </thead>\n",
       "  <tbody>\n",
       "    <tr>\n",
       "      <th>1986</th>\n",
       "      <td>1.0</td>\n",
       "      <td>1</td>\n",
       "      <td>Jan-86</td>\n",
       "    </tr>\n",
       "    <tr>\n",
       "      <th>1986</th>\n",
       "      <td>-1.0</td>\n",
       "      <td>2</td>\n",
       "      <td>Feb-86</td>\n",
       "    </tr>\n",
       "    <tr>\n",
       "      <th>1986</th>\n",
       "      <td>0.5</td>\n",
       "      <td>3</td>\n",
       "      <td>Mar-86</td>\n",
       "    </tr>\n",
       "    <tr>\n",
       "      <th>1986</th>\n",
       "      <td>0.3</td>\n",
       "      <td>4</td>\n",
       "      <td>Apr-86</td>\n",
       "    </tr>\n",
       "    <tr>\n",
       "      <th>1986</th>\n",
       "      <td>-0.2</td>\n",
       "      <td>5</td>\n",
       "      <td>May-86</td>\n",
       "    </tr>\n",
       "  </tbody>\n",
       "</table>\n",
       "</div>"
      ],
      "text/plain": [
       "      osc  Month Month_year\n",
       "Year                       \n",
       "1986  1.0      1     Jan-86\n",
       "1986 -1.0      2     Feb-86\n",
       "1986  0.5      3     Mar-86\n",
       "1986  0.3      4     Apr-86\n",
       "1986 -0.2      5     May-86"
      ]
     },
     "execution_count": 12,
     "metadata": {},
     "output_type": "execute_result"
    }
   ],
   "source": [
    "months = list()\n",
    "years = list()\n",
    "\n",
    "# parse the Month_year column as a date, and split it into two new columns\n",
    "monthYear = ENSO_df['Month_year'].unique()\n",
    "for date in monthYear:\n",
    "    parsedDate = datetime.datetime.strptime(date, '%b-%y')\n",
    "    months.append(parsedDate.month)\n",
    "    years.append(parsedDate.year)\n",
    "    \n",
    "ENSO_df['Month'] = months\n",
    "ENSO_df['Year'] = years\n",
    "# group the data by year, and month\n",
    "ENSO_df = ENSO_df.groupby(['Year', 'Month']).mean()\n",
    "# readd the month, and year as columns\n",
    "ENSO_df['Month'] = months\n",
    "ENSO_df['Year'] = years\n",
    "ENSO_df['Month_year'] = monthYear\n",
    "# set the year as the index\n",
    "ENSO_df = ENSO_df.set_index('Year')\n",
    "# rename columns\n",
    "ENSO_df.rename(columns={'Southern_oscillation_index': 'osc'}, inplace=True)\n",
    "\n",
    "ENSO_df.head()"
   ]
  },
  {
   "cell_type": "code",
   "execution_count": 13,
   "metadata": {
    "scrolled": false
   },
   "outputs": [
    {
     "data": {
      "text/html": [
       "<div>\n",
       "<style scoped>\n",
       "    .dataframe tbody tr th:only-of-type {\n",
       "        vertical-align: middle;\n",
       "    }\n",
       "\n",
       "    .dataframe tbody tr th {\n",
       "        vertical-align: top;\n",
       "    }\n",
       "\n",
       "    .dataframe thead th {\n",
       "        text-align: right;\n",
       "    }\n",
       "</style>\n",
       "<table border=\"1\" class=\"dataframe\">\n",
       "  <thead>\n",
       "    <tr style=\"text-align: right;\">\n",
       "      <th></th>\n",
       "      <th>Date</th>\n",
       "      <th>Rainfall_mm</th>\n",
       "      <th>site</th>\n",
       "    </tr>\n",
       "  </thead>\n",
       "  <tbody>\n",
       "    <tr>\n",
       "      <th>0</th>\n",
       "      <td>1/05/1962</td>\n",
       "      <td>0.0</td>\n",
       "      <td>Auckland</td>\n",
       "    </tr>\n",
       "    <tr>\n",
       "      <th>1</th>\n",
       "      <td>2/05/1962</td>\n",
       "      <td>0.0</td>\n",
       "      <td>Auckland</td>\n",
       "    </tr>\n",
       "    <tr>\n",
       "      <th>2</th>\n",
       "      <td>3/05/1962</td>\n",
       "      <td>38.1</td>\n",
       "      <td>Auckland</td>\n",
       "    </tr>\n",
       "    <tr>\n",
       "      <th>3</th>\n",
       "      <td>4/05/1962</td>\n",
       "      <td>3.8</td>\n",
       "      <td>Auckland</td>\n",
       "    </tr>\n",
       "    <tr>\n",
       "      <th>4</th>\n",
       "      <td>5/05/1962</td>\n",
       "      <td>0.0</td>\n",
       "      <td>Auckland</td>\n",
       "    </tr>\n",
       "  </tbody>\n",
       "</table>\n",
       "</div>"
      ],
      "text/plain": [
       "        Date  Rainfall_mm      site\n",
       "0  1/05/1962          0.0  Auckland\n",
       "1  2/05/1962          0.0  Auckland\n",
       "2  3/05/1962         38.1  Auckland\n",
       "3  4/05/1962          3.8  Auckland\n",
       "4  5/05/1962          0.0  Auckland"
      ]
     },
     "execution_count": 13,
     "metadata": {},
     "output_type": "execute_result"
    }
   ],
   "source": [
    "rainfall_df = pd.read_csv('rainfall-19602016.csv', sep=',')\n",
    "rainfall_df.head()"
   ]
  },
  {
   "cell_type": "code",
   "execution_count": 14,
   "metadata": {},
   "outputs": [
    {
     "name": "stdout",
     "output_type": "stream",
     "text": [
      "617808\n",
      "\n",
      "\n",
      "Date           40151\n",
      "Rainfall_mm    40151\n",
      "site               0\n",
      "dtype: int64\n",
      "\n",
      "\n",
      "       Date  Rainfall_mm          site\n",
      "19969   NaN          NaN      Auckland\n",
      "19970   NaN          NaN      Auckland\n",
      "19971   NaN          NaN      Auckland\n",
      "19972   NaN          NaN      Auckland\n",
      "19973   NaN          NaN      Auckland\n",
      "...     ...          ...           ...\n",
      "596983  NaN          NaN  Whangaparaoa\n",
      "596984  NaN          NaN  Whangaparaoa\n",
      "596985  NaN          NaN  Whangaparaoa\n",
      "596986  NaN          NaN  Whangaparaoa\n",
      "596987  NaN          NaN  Whangaparaoa\n",
      "\n",
      "[40151 rows x 3 columns]\n"
     ]
    }
   ],
   "source": [
    "print(len(rainfall_df))\n",
    "print('\\n')\n",
    "print(np.sum(rainfall_df.isna()))\n",
    "print('\\n')\n",
    "print(rainfall_df[rainfall_df.Date.isna()])\n",
    "\n",
    "# we can probably drop na values since they are missing both Date, and Rainfall_mm\n",
    "rainfall_df = rainfall_df.dropna()"
   ]
  },
  {
   "cell_type": "code",
   "execution_count": 15,
   "metadata": {
    "scrolled": true
   },
   "outputs": [
    {
     "data": {
      "text/html": [
       "<div>\n",
       "<style scoped>\n",
       "    .dataframe tbody tr th:only-of-type {\n",
       "        vertical-align: middle;\n",
       "    }\n",
       "\n",
       "    .dataframe tbody tr th {\n",
       "        vertical-align: top;\n",
       "    }\n",
       "\n",
       "    .dataframe thead th {\n",
       "        text-align: right;\n",
       "    }\n",
       "</style>\n",
       "<table border=\"1\" class=\"dataframe\">\n",
       "  <thead>\n",
       "    <tr style=\"text-align: right;\">\n",
       "      <th></th>\n",
       "      <th>Rainfall_mm</th>\n",
       "      <th>city</th>\n",
       "      <th>Month</th>\n",
       "    </tr>\n",
       "    <tr>\n",
       "      <th>Year</th>\n",
       "      <th></th>\n",
       "      <th></th>\n",
       "      <th></th>\n",
       "    </tr>\n",
       "  </thead>\n",
       "  <tbody>\n",
       "    <tr>\n",
       "      <th>1962</th>\n",
       "      <td>9.662500</td>\n",
       "      <td>Auckland</td>\n",
       "      <td>1</td>\n",
       "    </tr>\n",
       "    <tr>\n",
       "      <th>1962</th>\n",
       "      <td>5.437500</td>\n",
       "      <td>Auckland</td>\n",
       "      <td>2</td>\n",
       "    </tr>\n",
       "    <tr>\n",
       "      <th>1962</th>\n",
       "      <td>8.662500</td>\n",
       "      <td>Auckland</td>\n",
       "      <td>3</td>\n",
       "    </tr>\n",
       "    <tr>\n",
       "      <th>1962</th>\n",
       "      <td>4.837500</td>\n",
       "      <td>Auckland</td>\n",
       "      <td>4</td>\n",
       "    </tr>\n",
       "    <tr>\n",
       "      <th>1962</th>\n",
       "      <td>5.937037</td>\n",
       "      <td>Auckland</td>\n",
       "      <td>5</td>\n",
       "    </tr>\n",
       "  </tbody>\n",
       "</table>\n",
       "</div>"
      ],
      "text/plain": [
       "      Rainfall_mm      city  Month\n",
       "Year                              \n",
       "1962     9.662500  Auckland      1\n",
       "1962     5.437500  Auckland      2\n",
       "1962     8.662500  Auckland      3\n",
       "1962     4.837500  Auckland      4\n",
       "1962     5.937037  Auckland      5"
      ]
     },
     "execution_count": 15,
     "metadata": {},
     "output_type": "execute_result"
    }
   ],
   "source": [
    "months = list()\n",
    "years = list()\n",
    "\n",
    "# change the type of date to datetime\n",
    "rainfall_df['Date'] = pd.to_datetime(rainfall_df['Date'])\n",
    "\n",
    "# split the date into month, and year\n",
    "for date in rainfall_df.Date:\n",
    "    months.append(date.month)\n",
    "    years.append(date.year)\n",
    "\n",
    "# rename columns\n",
    "rainfall_df.rename(columns={'site': 'city'}, inplace=True)\n",
    "# add new columns for month, and year\n",
    "rainfall_df['Month'] = months\n",
    "rainfall_df['Year'] = years\n",
    "# group the data by city, year, and month\n",
    "rainfall_df = rainfall_df.groupby(['city', 'Year', 'Month']).mean()\n",
    "# readd the indexes as columns\n",
    "rainfall_df['city'] = [x[0] for x in rainfall_df.index]\n",
    "rainfall_df['Year'] = [x[1] for x in rainfall_df.index]\n",
    "rainfall_df['Month'] = [x[2] for x in rainfall_df.index]\n",
    "\n",
    "# set the year as the index of the dataset\n",
    "rainfall_df = rainfall_df.set_index('Year')\n",
    "rainfall_df.head()"
   ]
  },
  {
   "cell_type": "code",
   "execution_count": 16,
   "metadata": {},
   "outputs": [],
   "source": [
    "# split the data by city\n",
    "auckRain = rainfall_df[rainfall_df.city == 'Auckland']\n",
    "mastRain = rainfall_df[rainfall_df.city == 'Masterton']\n",
    "WellRain = rainfall_df[rainfall_df.city == 'Wellington']\n",
    "hokiRain = rainfall_df[rainfall_df.city == 'Hokitika']\n",
    "nelsRain = rainfall_df[rainfall_df.city == 'Nelson']\n",
    "duneRain = rainfall_df[rainfall_df.city == 'Dunedin']"
   ]
  },
  {
   "cell_type": "markdown",
   "metadata": {},
   "source": [
    "#### Now we join the values by city, and date"
   ]
  },
  {
   "cell_type": "code",
   "execution_count": 17,
   "metadata": {
    "scrolled": true
   },
   "outputs": [
    {
     "data": {
      "text/html": [
       "<div>\n",
       "<style scoped>\n",
       "    .dataframe tbody tr th:only-of-type {\n",
       "        vertical-align: middle;\n",
       "    }\n",
       "\n",
       "    .dataframe tbody tr th {\n",
       "        vertical-align: top;\n",
       "    }\n",
       "\n",
       "    .dataframe thead th {\n",
       "        text-align: right;\n",
       "    }\n",
       "</style>\n",
       "<table border=\"1\" class=\"dataframe\">\n",
       "  <thead>\n",
       "    <tr style=\"text-align: right;\">\n",
       "      <th></th>\n",
       "      <th>Rainfall_mm</th>\n",
       "      <th>temp</th>\n",
       "      <th>osc</th>\n",
       "      <th>Month_year</th>\n",
       "      <th>city</th>\n",
       "      <th>Month</th>\n",
       "    </tr>\n",
       "    <tr>\n",
       "      <th>Year</th>\n",
       "      <th></th>\n",
       "      <th></th>\n",
       "      <th></th>\n",
       "      <th></th>\n",
       "      <th></th>\n",
       "      <th></th>\n",
       "    </tr>\n",
       "  </thead>\n",
       "  <tbody>\n",
       "    <tr>\n",
       "      <th>1986</th>\n",
       "      <td>3.209677</td>\n",
       "      <td>15.36</td>\n",
       "      <td>1.0</td>\n",
       "      <td>Jan-86</td>\n",
       "      <td>Auckland</td>\n",
       "      <td>1</td>\n",
       "    </tr>\n",
       "    <tr>\n",
       "      <th>1986</th>\n",
       "      <td>3.209677</td>\n",
       "      <td>15.36</td>\n",
       "      <td>-1.0</td>\n",
       "      <td>Feb-86</td>\n",
       "      <td>Auckland</td>\n",
       "      <td>1</td>\n",
       "    </tr>\n",
       "    <tr>\n",
       "      <th>1986</th>\n",
       "      <td>3.209677</td>\n",
       "      <td>15.36</td>\n",
       "      <td>0.5</td>\n",
       "      <td>Mar-86</td>\n",
       "      <td>Auckland</td>\n",
       "      <td>1</td>\n",
       "    </tr>\n",
       "    <tr>\n",
       "      <th>1986</th>\n",
       "      <td>3.209677</td>\n",
       "      <td>15.36</td>\n",
       "      <td>0.3</td>\n",
       "      <td>Apr-86</td>\n",
       "      <td>Auckland</td>\n",
       "      <td>1</td>\n",
       "    </tr>\n",
       "    <tr>\n",
       "      <th>1986</th>\n",
       "      <td>3.209677</td>\n",
       "      <td>15.36</td>\n",
       "      <td>-0.2</td>\n",
       "      <td>May-86</td>\n",
       "      <td>Auckland</td>\n",
       "      <td>1</td>\n",
       "    </tr>\n",
       "    <tr>\n",
       "      <th>...</th>\n",
       "      <td>...</td>\n",
       "      <td>...</td>\n",
       "      <td>...</td>\n",
       "      <td>...</td>\n",
       "      <td>...</td>\n",
       "      <td>...</td>\n",
       "    </tr>\n",
       "    <tr>\n",
       "      <th>2013</th>\n",
       "      <td>1.812903</td>\n",
       "      <td>16.09</td>\n",
       "      <td>0.2</td>\n",
       "      <td>Aug-13</td>\n",
       "      <td>Auckland</td>\n",
       "      <td>12</td>\n",
       "    </tr>\n",
       "    <tr>\n",
       "      <th>2013</th>\n",
       "      <td>1.812903</td>\n",
       "      <td>16.09</td>\n",
       "      <td>0.3</td>\n",
       "      <td>Sep-13</td>\n",
       "      <td>Auckland</td>\n",
       "      <td>12</td>\n",
       "    </tr>\n",
       "    <tr>\n",
       "      <th>2013</th>\n",
       "      <td>1.812903</td>\n",
       "      <td>16.09</td>\n",
       "      <td>-0.1</td>\n",
       "      <td>Oct-13</td>\n",
       "      <td>Auckland</td>\n",
       "      <td>12</td>\n",
       "    </tr>\n",
       "    <tr>\n",
       "      <th>2013</th>\n",
       "      <td>1.812903</td>\n",
       "      <td>16.09</td>\n",
       "      <td>0.7</td>\n",
       "      <td>Nov-13</td>\n",
       "      <td>Auckland</td>\n",
       "      <td>12</td>\n",
       "    </tr>\n",
       "    <tr>\n",
       "      <th>2013</th>\n",
       "      <td>1.812903</td>\n",
       "      <td>16.09</td>\n",
       "      <td>0.1</td>\n",
       "      <td>Dec-13</td>\n",
       "      <td>Auckland</td>\n",
       "      <td>12</td>\n",
       "    </tr>\n",
       "  </tbody>\n",
       "</table>\n",
       "<p>4032 rows × 6 columns</p>\n",
       "</div>"
      ],
      "text/plain": [
       "      Rainfall_mm   temp  osc Month_year      city  Month\n",
       "Year                                                     \n",
       "1986     3.209677  15.36  1.0     Jan-86  Auckland      1\n",
       "1986     3.209677  15.36 -1.0     Feb-86  Auckland      1\n",
       "1986     3.209677  15.36  0.5     Mar-86  Auckland      1\n",
       "1986     3.209677  15.36  0.3     Apr-86  Auckland      1\n",
       "1986     3.209677  15.36 -0.2     May-86  Auckland      1\n",
       "...           ...    ...  ...        ...       ...    ...\n",
       "2013     1.812903  16.09  0.2     Aug-13  Auckland     12\n",
       "2013     1.812903  16.09  0.3     Sep-13  Auckland     12\n",
       "2013     1.812903  16.09 -0.1     Oct-13  Auckland     12\n",
       "2013     1.812903  16.09  0.7     Nov-13  Auckland     12\n",
       "2013     1.812903  16.09  0.1     Dec-13  Auckland     12\n",
       "\n",
       "[4032 rows x 6 columns]"
      ]
     },
     "execution_count": 17,
     "metadata": {},
     "output_type": "execute_result"
    }
   ],
   "source": [
    "auckData = auckRain.join([auckTemp, ENSO_df], how='inner')\n",
    "auckData['city'] = auckData['city_x']\n",
    "auckData['Month'] = auckData['Month_x']\n",
    "auckData = auckData.drop(['city_x', 'city_y', 'Month_x', 'Month_y'], axis=1)\n",
    "auckData"
   ]
  },
  {
   "cell_type": "code",
   "execution_count": 18,
   "metadata": {},
   "outputs": [
    {
     "data": {
      "text/html": [
       "<div>\n",
       "<style scoped>\n",
       "    .dataframe tbody tr th:only-of-type {\n",
       "        vertical-align: middle;\n",
       "    }\n",
       "\n",
       "    .dataframe tbody tr th {\n",
       "        vertical-align: top;\n",
       "    }\n",
       "\n",
       "    .dataframe thead th {\n",
       "        text-align: right;\n",
       "    }\n",
       "</style>\n",
       "<table border=\"1\" class=\"dataframe\">\n",
       "  <thead>\n",
       "    <tr style=\"text-align: right;\">\n",
       "      <th></th>\n",
       "      <th>Rainfall_mm</th>\n",
       "      <th>temp</th>\n",
       "      <th>osc</th>\n",
       "      <th>Month_year</th>\n",
       "      <th>city</th>\n",
       "      <th>Month</th>\n",
       "    </tr>\n",
       "    <tr>\n",
       "      <th>Year</th>\n",
       "      <th></th>\n",
       "      <th></th>\n",
       "      <th></th>\n",
       "      <th></th>\n",
       "      <th></th>\n",
       "      <th></th>\n",
       "    </tr>\n",
       "  </thead>\n",
       "  <tbody>\n",
       "    <tr>\n",
       "      <th>1992</th>\n",
       "      <td>1.100000</td>\n",
       "      <td>11.20</td>\n",
       "      <td>-2.9</td>\n",
       "      <td>Jan-92</td>\n",
       "      <td>Masterton</td>\n",
       "      <td>1</td>\n",
       "    </tr>\n",
       "    <tr>\n",
       "      <th>1992</th>\n",
       "      <td>1.100000</td>\n",
       "      <td>11.20</td>\n",
       "      <td>-0.9</td>\n",
       "      <td>Feb-92</td>\n",
       "      <td>Masterton</td>\n",
       "      <td>1</td>\n",
       "    </tr>\n",
       "    <tr>\n",
       "      <th>1992</th>\n",
       "      <td>1.100000</td>\n",
       "      <td>11.20</td>\n",
       "      <td>-2.0</td>\n",
       "      <td>Mar-92</td>\n",
       "      <td>Masterton</td>\n",
       "      <td>1</td>\n",
       "    </tr>\n",
       "    <tr>\n",
       "      <th>1992</th>\n",
       "      <td>1.100000</td>\n",
       "      <td>11.20</td>\n",
       "      <td>-1.0</td>\n",
       "      <td>Apr-92</td>\n",
       "      <td>Masterton</td>\n",
       "      <td>1</td>\n",
       "    </tr>\n",
       "    <tr>\n",
       "      <th>1992</th>\n",
       "      <td>1.100000</td>\n",
       "      <td>11.20</td>\n",
       "      <td>0.3</td>\n",
       "      <td>May-92</td>\n",
       "      <td>Masterton</td>\n",
       "      <td>1</td>\n",
       "    </tr>\n",
       "    <tr>\n",
       "      <th>...</th>\n",
       "      <td>...</td>\n",
       "      <td>...</td>\n",
       "      <td>...</td>\n",
       "      <td>...</td>\n",
       "      <td>...</td>\n",
       "      <td>...</td>\n",
       "    </tr>\n",
       "    <tr>\n",
       "      <th>2013</th>\n",
       "      <td>1.341935</td>\n",
       "      <td>13.28</td>\n",
       "      <td>0.2</td>\n",
       "      <td>Aug-13</td>\n",
       "      <td>Masterton</td>\n",
       "      <td>12</td>\n",
       "    </tr>\n",
       "    <tr>\n",
       "      <th>2013</th>\n",
       "      <td>1.341935</td>\n",
       "      <td>13.28</td>\n",
       "      <td>0.3</td>\n",
       "      <td>Sep-13</td>\n",
       "      <td>Masterton</td>\n",
       "      <td>12</td>\n",
       "    </tr>\n",
       "    <tr>\n",
       "      <th>2013</th>\n",
       "      <td>1.341935</td>\n",
       "      <td>13.28</td>\n",
       "      <td>-0.1</td>\n",
       "      <td>Oct-13</td>\n",
       "      <td>Masterton</td>\n",
       "      <td>12</td>\n",
       "    </tr>\n",
       "    <tr>\n",
       "      <th>2013</th>\n",
       "      <td>1.341935</td>\n",
       "      <td>13.28</td>\n",
       "      <td>0.7</td>\n",
       "      <td>Nov-13</td>\n",
       "      <td>Masterton</td>\n",
       "      <td>12</td>\n",
       "    </tr>\n",
       "    <tr>\n",
       "      <th>2013</th>\n",
       "      <td>1.341935</td>\n",
       "      <td>13.28</td>\n",
       "      <td>0.1</td>\n",
       "      <td>Dec-13</td>\n",
       "      <td>Masterton</td>\n",
       "      <td>12</td>\n",
       "    </tr>\n",
       "  </tbody>\n",
       "</table>\n",
       "<p>3168 rows × 6 columns</p>\n",
       "</div>"
      ],
      "text/plain": [
       "      Rainfall_mm   temp  osc Month_year       city  Month\n",
       "Year                                                      \n",
       "1992     1.100000  11.20 -2.9     Jan-92  Masterton      1\n",
       "1992     1.100000  11.20 -0.9     Feb-92  Masterton      1\n",
       "1992     1.100000  11.20 -2.0     Mar-92  Masterton      1\n",
       "1992     1.100000  11.20 -1.0     Apr-92  Masterton      1\n",
       "1992     1.100000  11.20  0.3     May-92  Masterton      1\n",
       "...           ...    ...  ...        ...        ...    ...\n",
       "2013     1.341935  13.28  0.2     Aug-13  Masterton     12\n",
       "2013     1.341935  13.28  0.3     Sep-13  Masterton     12\n",
       "2013     1.341935  13.28 -0.1     Oct-13  Masterton     12\n",
       "2013     1.341935  13.28  0.7     Nov-13  Masterton     12\n",
       "2013     1.341935  13.28  0.1     Dec-13  Masterton     12\n",
       "\n",
       "[3168 rows x 6 columns]"
      ]
     },
     "execution_count": 18,
     "metadata": {},
     "output_type": "execute_result"
    }
   ],
   "source": [
    "mastData = mastRain.join([mastTemp, ENSO_df], how='inner')\n",
    "mastData['city'] = mastData['city_x']\n",
    "mastData['Month'] = mastData['Month_x']\n",
    "mastData = mastData.drop(['city_x', 'city_y', 'Month_x', 'Month_y'], axis=1)\n",
    "mastData"
   ]
  },
  {
   "cell_type": "code",
   "execution_count": 19,
   "metadata": {},
   "outputs": [
    {
     "data": {
      "text/html": [
       "<div>\n",
       "<style scoped>\n",
       "    .dataframe tbody tr th:only-of-type {\n",
       "        vertical-align: middle;\n",
       "    }\n",
       "\n",
       "    .dataframe tbody tr th {\n",
       "        vertical-align: top;\n",
       "    }\n",
       "\n",
       "    .dataframe thead th {\n",
       "        text-align: right;\n",
       "    }\n",
       "</style>\n",
       "<table border=\"1\" class=\"dataframe\">\n",
       "  <thead>\n",
       "    <tr style=\"text-align: right;\">\n",
       "      <th></th>\n",
       "      <th>Rainfall_mm</th>\n",
       "      <th>temp</th>\n",
       "      <th>osc</th>\n",
       "      <th>Month_year</th>\n",
       "      <th>city</th>\n",
       "      <th>Month</th>\n",
       "    </tr>\n",
       "    <tr>\n",
       "      <th>Year</th>\n",
       "      <th></th>\n",
       "      <th></th>\n",
       "      <th></th>\n",
       "      <th></th>\n",
       "      <th></th>\n",
       "      <th></th>\n",
       "    </tr>\n",
       "  </thead>\n",
       "  <tbody>\n",
       "    <tr>\n",
       "      <th>1986</th>\n",
       "      <td>3.434093</td>\n",
       "      <td>13.07</td>\n",
       "      <td>1.0</td>\n",
       "      <td>Jan-86</td>\n",
       "      <td>Wellington</td>\n",
       "      <td>1</td>\n",
       "    </tr>\n",
       "    <tr>\n",
       "      <th>1986</th>\n",
       "      <td>3.434093</td>\n",
       "      <td>13.07</td>\n",
       "      <td>-1.0</td>\n",
       "      <td>Feb-86</td>\n",
       "      <td>Wellington</td>\n",
       "      <td>1</td>\n",
       "    </tr>\n",
       "    <tr>\n",
       "      <th>1986</th>\n",
       "      <td>3.434093</td>\n",
       "      <td>13.07</td>\n",
       "      <td>0.5</td>\n",
       "      <td>Mar-86</td>\n",
       "      <td>Wellington</td>\n",
       "      <td>1</td>\n",
       "    </tr>\n",
       "    <tr>\n",
       "      <th>1986</th>\n",
       "      <td>3.434093</td>\n",
       "      <td>13.07</td>\n",
       "      <td>0.3</td>\n",
       "      <td>Apr-86</td>\n",
       "      <td>Wellington</td>\n",
       "      <td>1</td>\n",
       "    </tr>\n",
       "    <tr>\n",
       "      <th>1986</th>\n",
       "      <td>3.434093</td>\n",
       "      <td>13.07</td>\n",
       "      <td>-0.2</td>\n",
       "      <td>May-86</td>\n",
       "      <td>Wellington</td>\n",
       "      <td>1</td>\n",
       "    </tr>\n",
       "    <tr>\n",
       "      <th>...</th>\n",
       "      <td>...</td>\n",
       "      <td>...</td>\n",
       "      <td>...</td>\n",
       "      <td>...</td>\n",
       "      <td>...</td>\n",
       "      <td>...</td>\n",
       "    </tr>\n",
       "    <tr>\n",
       "      <th>2013</th>\n",
       "      <td>1.677419</td>\n",
       "      <td>13.64</td>\n",
       "      <td>0.2</td>\n",
       "      <td>Aug-13</td>\n",
       "      <td>Wellington</td>\n",
       "      <td>12</td>\n",
       "    </tr>\n",
       "    <tr>\n",
       "      <th>2013</th>\n",
       "      <td>1.677419</td>\n",
       "      <td>13.64</td>\n",
       "      <td>0.3</td>\n",
       "      <td>Sep-13</td>\n",
       "      <td>Wellington</td>\n",
       "      <td>12</td>\n",
       "    </tr>\n",
       "    <tr>\n",
       "      <th>2013</th>\n",
       "      <td>1.677419</td>\n",
       "      <td>13.64</td>\n",
       "      <td>-0.1</td>\n",
       "      <td>Oct-13</td>\n",
       "      <td>Wellington</td>\n",
       "      <td>12</td>\n",
       "    </tr>\n",
       "    <tr>\n",
       "      <th>2013</th>\n",
       "      <td>1.677419</td>\n",
       "      <td>13.64</td>\n",
       "      <td>0.7</td>\n",
       "      <td>Nov-13</td>\n",
       "      <td>Wellington</td>\n",
       "      <td>12</td>\n",
       "    </tr>\n",
       "    <tr>\n",
       "      <th>2013</th>\n",
       "      <td>1.677419</td>\n",
       "      <td>13.64</td>\n",
       "      <td>0.1</td>\n",
       "      <td>Dec-13</td>\n",
       "      <td>Wellington</td>\n",
       "      <td>12</td>\n",
       "    </tr>\n",
       "  </tbody>\n",
       "</table>\n",
       "<p>4032 rows × 6 columns</p>\n",
       "</div>"
      ],
      "text/plain": [
       "      Rainfall_mm   temp  osc Month_year        city  Month\n",
       "Year                                                       \n",
       "1986     3.434093  13.07  1.0     Jan-86  Wellington      1\n",
       "1986     3.434093  13.07 -1.0     Feb-86  Wellington      1\n",
       "1986     3.434093  13.07  0.5     Mar-86  Wellington      1\n",
       "1986     3.434093  13.07  0.3     Apr-86  Wellington      1\n",
       "1986     3.434093  13.07 -0.2     May-86  Wellington      1\n",
       "...           ...    ...  ...        ...         ...    ...\n",
       "2013     1.677419  13.64  0.2     Aug-13  Wellington     12\n",
       "2013     1.677419  13.64  0.3     Sep-13  Wellington     12\n",
       "2013     1.677419  13.64 -0.1     Oct-13  Wellington     12\n",
       "2013     1.677419  13.64  0.7     Nov-13  Wellington     12\n",
       "2013     1.677419  13.64  0.1     Dec-13  Wellington     12\n",
       "\n",
       "[4032 rows x 6 columns]"
      ]
     },
     "execution_count": 19,
     "metadata": {},
     "output_type": "execute_result"
    }
   ],
   "source": [
    "wellData = WellRain.join([WellTemp, ENSO_df], how='inner')\n",
    "wellData['city'] = wellData['city_x']\n",
    "wellData['Month'] = wellData['Month_x']\n",
    "wellData = wellData.drop(['city_x', 'city_y', 'Month_x', 'Month_y'], axis=1)\n",
    "wellData"
   ]
  },
  {
   "cell_type": "code",
   "execution_count": 20,
   "metadata": {},
   "outputs": [
    {
     "data": {
      "text/html": [
       "<div>\n",
       "<style scoped>\n",
       "    .dataframe tbody tr th:only-of-type {\n",
       "        vertical-align: middle;\n",
       "    }\n",
       "\n",
       "    .dataframe tbody tr th {\n",
       "        vertical-align: top;\n",
       "    }\n",
       "\n",
       "    .dataframe thead th {\n",
       "        text-align: right;\n",
       "    }\n",
       "</style>\n",
       "<table border=\"1\" class=\"dataframe\">\n",
       "  <thead>\n",
       "    <tr style=\"text-align: right;\">\n",
       "      <th></th>\n",
       "      <th>Rainfall_mm</th>\n",
       "      <th>temp</th>\n",
       "      <th>osc</th>\n",
       "      <th>Month_year</th>\n",
       "      <th>city</th>\n",
       "      <th>Month</th>\n",
       "    </tr>\n",
       "    <tr>\n",
       "      <th>Year</th>\n",
       "      <th></th>\n",
       "      <th></th>\n",
       "      <th></th>\n",
       "      <th></th>\n",
       "      <th></th>\n",
       "      <th></th>\n",
       "    </tr>\n",
       "  </thead>\n",
       "  <tbody>\n",
       "    <tr>\n",
       "      <th>1986</th>\n",
       "      <td>4.687097</td>\n",
       "      <td>11.96</td>\n",
       "      <td>1.0</td>\n",
       "      <td>Jan-86</td>\n",
       "      <td>Hokitika</td>\n",
       "      <td>1</td>\n",
       "    </tr>\n",
       "    <tr>\n",
       "      <th>1986</th>\n",
       "      <td>4.687097</td>\n",
       "      <td>11.96</td>\n",
       "      <td>-1.0</td>\n",
       "      <td>Feb-86</td>\n",
       "      <td>Hokitika</td>\n",
       "      <td>1</td>\n",
       "    </tr>\n",
       "    <tr>\n",
       "      <th>1986</th>\n",
       "      <td>4.687097</td>\n",
       "      <td>11.96</td>\n",
       "      <td>0.5</td>\n",
       "      <td>Mar-86</td>\n",
       "      <td>Hokitika</td>\n",
       "      <td>1</td>\n",
       "    </tr>\n",
       "    <tr>\n",
       "      <th>1986</th>\n",
       "      <td>4.687097</td>\n",
       "      <td>11.96</td>\n",
       "      <td>0.3</td>\n",
       "      <td>Apr-86</td>\n",
       "      <td>Hokitika</td>\n",
       "      <td>1</td>\n",
       "    </tr>\n",
       "    <tr>\n",
       "      <th>1986</th>\n",
       "      <td>4.687097</td>\n",
       "      <td>11.96</td>\n",
       "      <td>-0.2</td>\n",
       "      <td>May-86</td>\n",
       "      <td>Hokitika</td>\n",
       "      <td>1</td>\n",
       "    </tr>\n",
       "    <tr>\n",
       "      <th>...</th>\n",
       "      <td>...</td>\n",
       "      <td>...</td>\n",
       "      <td>...</td>\n",
       "      <td>...</td>\n",
       "      <td>...</td>\n",
       "      <td>...</td>\n",
       "    </tr>\n",
       "    <tr>\n",
       "      <th>2013</th>\n",
       "      <td>5.316129</td>\n",
       "      <td>12.44</td>\n",
       "      <td>0.2</td>\n",
       "      <td>Aug-13</td>\n",
       "      <td>Hokitika</td>\n",
       "      <td>12</td>\n",
       "    </tr>\n",
       "    <tr>\n",
       "      <th>2013</th>\n",
       "      <td>5.316129</td>\n",
       "      <td>12.44</td>\n",
       "      <td>0.3</td>\n",
       "      <td>Sep-13</td>\n",
       "      <td>Hokitika</td>\n",
       "      <td>12</td>\n",
       "    </tr>\n",
       "    <tr>\n",
       "      <th>2013</th>\n",
       "      <td>5.316129</td>\n",
       "      <td>12.44</td>\n",
       "      <td>-0.1</td>\n",
       "      <td>Oct-13</td>\n",
       "      <td>Hokitika</td>\n",
       "      <td>12</td>\n",
       "    </tr>\n",
       "    <tr>\n",
       "      <th>2013</th>\n",
       "      <td>5.316129</td>\n",
       "      <td>12.44</td>\n",
       "      <td>0.7</td>\n",
       "      <td>Nov-13</td>\n",
       "      <td>Hokitika</td>\n",
       "      <td>12</td>\n",
       "    </tr>\n",
       "    <tr>\n",
       "      <th>2013</th>\n",
       "      <td>5.316129</td>\n",
       "      <td>12.44</td>\n",
       "      <td>0.1</td>\n",
       "      <td>Dec-13</td>\n",
       "      <td>Hokitika</td>\n",
       "      <td>12</td>\n",
       "    </tr>\n",
       "  </tbody>\n",
       "</table>\n",
       "<p>4032 rows × 6 columns</p>\n",
       "</div>"
      ],
      "text/plain": [
       "      Rainfall_mm   temp  osc Month_year      city  Month\n",
       "Year                                                     \n",
       "1986     4.687097  11.96  1.0     Jan-86  Hokitika      1\n",
       "1986     4.687097  11.96 -1.0     Feb-86  Hokitika      1\n",
       "1986     4.687097  11.96  0.5     Mar-86  Hokitika      1\n",
       "1986     4.687097  11.96  0.3     Apr-86  Hokitika      1\n",
       "1986     4.687097  11.96 -0.2     May-86  Hokitika      1\n",
       "...           ...    ...  ...        ...       ...    ...\n",
       "2013     5.316129  12.44  0.2     Aug-13  Hokitika     12\n",
       "2013     5.316129  12.44  0.3     Sep-13  Hokitika     12\n",
       "2013     5.316129  12.44 -0.1     Oct-13  Hokitika     12\n",
       "2013     5.316129  12.44  0.7     Nov-13  Hokitika     12\n",
       "2013     5.316129  12.44  0.1     Dec-13  Hokitika     12\n",
       "\n",
       "[4032 rows x 6 columns]"
      ]
     },
     "execution_count": 20,
     "metadata": {},
     "output_type": "execute_result"
    }
   ],
   "source": [
    "hokiData = hokiRain.join([hokiTemp, ENSO_df], how='inner')\n",
    "hokiData['city'] = hokiData['city_x']\n",
    "hokiData['Month'] = hokiData['Month_x']\n",
    "hokiData = hokiData.drop(['city_x', 'city_y', 'Month_x', 'Month_y'], axis=1)\n",
    "hokiData"
   ]
  },
  {
   "cell_type": "code",
   "execution_count": 21,
   "metadata": {},
   "outputs": [
    {
     "data": {
      "text/html": [
       "<div>\n",
       "<style scoped>\n",
       "    .dataframe tbody tr th:only-of-type {\n",
       "        vertical-align: middle;\n",
       "    }\n",
       "\n",
       "    .dataframe tbody tr th {\n",
       "        vertical-align: top;\n",
       "    }\n",
       "\n",
       "    .dataframe thead th {\n",
       "        text-align: right;\n",
       "    }\n",
       "</style>\n",
       "<table border=\"1\" class=\"dataframe\">\n",
       "  <thead>\n",
       "    <tr style=\"text-align: right;\">\n",
       "      <th></th>\n",
       "      <th>Rainfall_mm</th>\n",
       "      <th>temp</th>\n",
       "      <th>osc</th>\n",
       "      <th>Month_year</th>\n",
       "      <th>city</th>\n",
       "      <th>Month</th>\n",
       "    </tr>\n",
       "    <tr>\n",
       "      <th>Year</th>\n",
       "      <th></th>\n",
       "      <th></th>\n",
       "      <th></th>\n",
       "      <th></th>\n",
       "      <th></th>\n",
       "      <th></th>\n",
       "    </tr>\n",
       "  </thead>\n",
       "  <tbody>\n",
       "    <tr>\n",
       "      <th>1986</th>\n",
       "      <td>5.554839</td>\n",
       "      <td>12.68</td>\n",
       "      <td>1.0</td>\n",
       "      <td>Jan-86</td>\n",
       "      <td>Nelson</td>\n",
       "      <td>1</td>\n",
       "    </tr>\n",
       "    <tr>\n",
       "      <th>1986</th>\n",
       "      <td>5.554839</td>\n",
       "      <td>12.68</td>\n",
       "      <td>-1.0</td>\n",
       "      <td>Feb-86</td>\n",
       "      <td>Nelson</td>\n",
       "      <td>1</td>\n",
       "    </tr>\n",
       "    <tr>\n",
       "      <th>1986</th>\n",
       "      <td>5.554839</td>\n",
       "      <td>12.68</td>\n",
       "      <td>0.5</td>\n",
       "      <td>Mar-86</td>\n",
       "      <td>Nelson</td>\n",
       "      <td>1</td>\n",
       "    </tr>\n",
       "    <tr>\n",
       "      <th>1986</th>\n",
       "      <td>5.554839</td>\n",
       "      <td>12.68</td>\n",
       "      <td>0.3</td>\n",
       "      <td>Apr-86</td>\n",
       "      <td>Nelson</td>\n",
       "      <td>1</td>\n",
       "    </tr>\n",
       "    <tr>\n",
       "      <th>1986</th>\n",
       "      <td>5.554839</td>\n",
       "      <td>12.68</td>\n",
       "      <td>-0.2</td>\n",
       "      <td>May-86</td>\n",
       "      <td>Nelson</td>\n",
       "      <td>1</td>\n",
       "    </tr>\n",
       "    <tr>\n",
       "      <th>...</th>\n",
       "      <td>...</td>\n",
       "      <td>...</td>\n",
       "      <td>...</td>\n",
       "      <td>...</td>\n",
       "      <td>...</td>\n",
       "      <td>...</td>\n",
       "    </tr>\n",
       "    <tr>\n",
       "      <th>2013</th>\n",
       "      <td>1.654839</td>\n",
       "      <td>13.70</td>\n",
       "      <td>0.2</td>\n",
       "      <td>Aug-13</td>\n",
       "      <td>Nelson</td>\n",
       "      <td>12</td>\n",
       "    </tr>\n",
       "    <tr>\n",
       "      <th>2013</th>\n",
       "      <td>1.654839</td>\n",
       "      <td>13.70</td>\n",
       "      <td>0.3</td>\n",
       "      <td>Sep-13</td>\n",
       "      <td>Nelson</td>\n",
       "      <td>12</td>\n",
       "    </tr>\n",
       "    <tr>\n",
       "      <th>2013</th>\n",
       "      <td>1.654839</td>\n",
       "      <td>13.70</td>\n",
       "      <td>-0.1</td>\n",
       "      <td>Oct-13</td>\n",
       "      <td>Nelson</td>\n",
       "      <td>12</td>\n",
       "    </tr>\n",
       "    <tr>\n",
       "      <th>2013</th>\n",
       "      <td>1.654839</td>\n",
       "      <td>13.70</td>\n",
       "      <td>0.7</td>\n",
       "      <td>Nov-13</td>\n",
       "      <td>Nelson</td>\n",
       "      <td>12</td>\n",
       "    </tr>\n",
       "    <tr>\n",
       "      <th>2013</th>\n",
       "      <td>1.654839</td>\n",
       "      <td>13.70</td>\n",
       "      <td>0.1</td>\n",
       "      <td>Dec-13</td>\n",
       "      <td>Nelson</td>\n",
       "      <td>12</td>\n",
       "    </tr>\n",
       "  </tbody>\n",
       "</table>\n",
       "<p>4032 rows × 6 columns</p>\n",
       "</div>"
      ],
      "text/plain": [
       "      Rainfall_mm   temp  osc Month_year    city  Month\n",
       "Year                                                   \n",
       "1986     5.554839  12.68  1.0     Jan-86  Nelson      1\n",
       "1986     5.554839  12.68 -1.0     Feb-86  Nelson      1\n",
       "1986     5.554839  12.68  0.5     Mar-86  Nelson      1\n",
       "1986     5.554839  12.68  0.3     Apr-86  Nelson      1\n",
       "1986     5.554839  12.68 -0.2     May-86  Nelson      1\n",
       "...           ...    ...  ...        ...     ...    ...\n",
       "2013     1.654839  13.70  0.2     Aug-13  Nelson     12\n",
       "2013     1.654839  13.70  0.3     Sep-13  Nelson     12\n",
       "2013     1.654839  13.70 -0.1     Oct-13  Nelson     12\n",
       "2013     1.654839  13.70  0.7     Nov-13  Nelson     12\n",
       "2013     1.654839  13.70  0.1     Dec-13  Nelson     12\n",
       "\n",
       "[4032 rows x 6 columns]"
      ]
     },
     "execution_count": 21,
     "metadata": {},
     "output_type": "execute_result"
    }
   ],
   "source": [
    "nelsData = nelsRain.join([nelsTemp, ENSO_df], how='inner')\n",
    "nelsData['city'] = nelsData['city_x']\n",
    "nelsData['Month'] = nelsData['Month_x']\n",
    "nelsData = nelsData.drop(['city_x', 'city_y', 'Month_x', 'Month_y'], axis=1)\n",
    "nelsData"
   ]
  },
  {
   "cell_type": "code",
   "execution_count": 22,
   "metadata": {
    "scrolled": false
   },
   "outputs": [
    {
     "data": {
      "text/html": [
       "<div>\n",
       "<style scoped>\n",
       "    .dataframe tbody tr th:only-of-type {\n",
       "        vertical-align: middle;\n",
       "    }\n",
       "\n",
       "    .dataframe tbody tr th {\n",
       "        vertical-align: top;\n",
       "    }\n",
       "\n",
       "    .dataframe thead th {\n",
       "        text-align: right;\n",
       "    }\n",
       "</style>\n",
       "<table border=\"1\" class=\"dataframe\">\n",
       "  <thead>\n",
       "    <tr style=\"text-align: right;\">\n",
       "      <th></th>\n",
       "      <th>Rainfall_mm</th>\n",
       "      <th>temp</th>\n",
       "      <th>osc</th>\n",
       "      <th>Month_year</th>\n",
       "      <th>city</th>\n",
       "      <th>Month</th>\n",
       "    </tr>\n",
       "    <tr>\n",
       "      <th>Year</th>\n",
       "      <th></th>\n",
       "      <th></th>\n",
       "      <th></th>\n",
       "      <th></th>\n",
       "      <th></th>\n",
       "      <th></th>\n",
       "    </tr>\n",
       "  </thead>\n",
       "  <tbody>\n",
       "    <tr>\n",
       "      <th>1986</th>\n",
       "      <td>1.510545</td>\n",
       "      <td>11.40</td>\n",
       "      <td>1.0</td>\n",
       "      <td>Jan-86</td>\n",
       "      <td>Dunedin</td>\n",
       "      <td>1</td>\n",
       "    </tr>\n",
       "    <tr>\n",
       "      <th>1986</th>\n",
       "      <td>1.510545</td>\n",
       "      <td>11.40</td>\n",
       "      <td>-1.0</td>\n",
       "      <td>Feb-86</td>\n",
       "      <td>Dunedin</td>\n",
       "      <td>1</td>\n",
       "    </tr>\n",
       "    <tr>\n",
       "      <th>1986</th>\n",
       "      <td>1.510545</td>\n",
       "      <td>11.40</td>\n",
       "      <td>0.5</td>\n",
       "      <td>Mar-86</td>\n",
       "      <td>Dunedin</td>\n",
       "      <td>1</td>\n",
       "    </tr>\n",
       "    <tr>\n",
       "      <th>1986</th>\n",
       "      <td>1.510545</td>\n",
       "      <td>11.40</td>\n",
       "      <td>0.3</td>\n",
       "      <td>Apr-86</td>\n",
       "      <td>Dunedin</td>\n",
       "      <td>1</td>\n",
       "    </tr>\n",
       "    <tr>\n",
       "      <th>1986</th>\n",
       "      <td>1.510545</td>\n",
       "      <td>11.40</td>\n",
       "      <td>-0.2</td>\n",
       "      <td>May-86</td>\n",
       "      <td>Dunedin</td>\n",
       "      <td>1</td>\n",
       "    </tr>\n",
       "    <tr>\n",
       "      <th>...</th>\n",
       "      <td>...</td>\n",
       "      <td>...</td>\n",
       "      <td>...</td>\n",
       "      <td>...</td>\n",
       "      <td>...</td>\n",
       "      <td>...</td>\n",
       "    </tr>\n",
       "    <tr>\n",
       "      <th>2013</th>\n",
       "      <td>3.690323</td>\n",
       "      <td>11.76</td>\n",
       "      <td>0.2</td>\n",
       "      <td>Aug-13</td>\n",
       "      <td>Dunedin</td>\n",
       "      <td>12</td>\n",
       "    </tr>\n",
       "    <tr>\n",
       "      <th>2013</th>\n",
       "      <td>3.690323</td>\n",
       "      <td>11.76</td>\n",
       "      <td>0.3</td>\n",
       "      <td>Sep-13</td>\n",
       "      <td>Dunedin</td>\n",
       "      <td>12</td>\n",
       "    </tr>\n",
       "    <tr>\n",
       "      <th>2013</th>\n",
       "      <td>3.690323</td>\n",
       "      <td>11.76</td>\n",
       "      <td>-0.1</td>\n",
       "      <td>Oct-13</td>\n",
       "      <td>Dunedin</td>\n",
       "      <td>12</td>\n",
       "    </tr>\n",
       "    <tr>\n",
       "      <th>2013</th>\n",
       "      <td>3.690323</td>\n",
       "      <td>11.76</td>\n",
       "      <td>0.7</td>\n",
       "      <td>Nov-13</td>\n",
       "      <td>Dunedin</td>\n",
       "      <td>12</td>\n",
       "    </tr>\n",
       "    <tr>\n",
       "      <th>2013</th>\n",
       "      <td>3.690323</td>\n",
       "      <td>11.76</td>\n",
       "      <td>0.1</td>\n",
       "      <td>Dec-13</td>\n",
       "      <td>Dunedin</td>\n",
       "      <td>12</td>\n",
       "    </tr>\n",
       "  </tbody>\n",
       "</table>\n",
       "<p>4032 rows × 6 columns</p>\n",
       "</div>"
      ],
      "text/plain": [
       "      Rainfall_mm   temp  osc Month_year     city  Month\n",
       "Year                                                    \n",
       "1986     1.510545  11.40  1.0     Jan-86  Dunedin      1\n",
       "1986     1.510545  11.40 -1.0     Feb-86  Dunedin      1\n",
       "1986     1.510545  11.40  0.5     Mar-86  Dunedin      1\n",
       "1986     1.510545  11.40  0.3     Apr-86  Dunedin      1\n",
       "1986     1.510545  11.40 -0.2     May-86  Dunedin      1\n",
       "...           ...    ...  ...        ...      ...    ...\n",
       "2013     3.690323  11.76  0.2     Aug-13  Dunedin     12\n",
       "2013     3.690323  11.76  0.3     Sep-13  Dunedin     12\n",
       "2013     3.690323  11.76 -0.1     Oct-13  Dunedin     12\n",
       "2013     3.690323  11.76  0.7     Nov-13  Dunedin     12\n",
       "2013     3.690323  11.76  0.1     Dec-13  Dunedin     12\n",
       "\n",
       "[4032 rows x 6 columns]"
      ]
     },
     "execution_count": 22,
     "metadata": {},
     "output_type": "execute_result"
    }
   ],
   "source": [
    "duneData = duneRain.join([duneTemp, ENSO_df], how='inner')\n",
    "duneData['city'] = duneData['city_x']\n",
    "duneData['Month'] = duneData['Month_x']\n",
    "duneData = duneData.drop(['city_x', 'city_y', 'Month_x', 'Month_y'], axis=1)\n",
    "duneData"
   ]
  },
  {
   "cell_type": "markdown",
   "metadata": {},
   "source": [
    "2- Make plots of the various timeseries and check if you can see the expected temporal pattern\n",
    "in the ENSO index. (3 marks)"
   ]
  },
  {
   "cell_type": "code",
   "execution_count": 23,
   "metadata": {},
   "outputs": [
    {
     "data": {
      "text/plain": [
       "[<matplotlib.lines.Line2D at 0xb805700>]"
      ]
     },
     "execution_count": 23,
     "metadata": {},
     "output_type": "execute_result"
    },
    {
     "data": {
      "image/png": "[encoded data removed]",
      "text/plain": [
       "<Figure size 432x288 with 1 Axes>"
      ]
     },
     "metadata": {
      "needs_background": "light"
     },
     "output_type": "display_data"
    }
   ],
   "source": [
    "pl.plot(ENSO_df['osc'])\n",
    "\n",
    "# the plot looks too hard to read, we will have to smooth it"
   ]
  },
  {
   "cell_type": "code",
   "execution_count": 24,
   "metadata": {},
   "outputs": [
    {
     "data": {
      "text/plain": [
       "[<matplotlib.lines.Line2D at 0xcb32838>]"
      ]
     },
     "execution_count": 24,
     "metadata": {},
     "output_type": "execute_result"
    },
    {
     "data": {
      "image/png": "[encoded data removed]",
      "text/plain": [
       "<Figure size 432x288 with 1 Axes>"
      ]
     },
     "metadata": {
      "needs_background": "light"
     },
     "output_type": "display_data"
    }
   ],
   "source": [
    "# plotting the yearly average osc\n",
    "avgOsc = list()\n",
    "years = ENSO_df.index.unique()\n",
    "\n",
    "for year in years:\n",
    "    yearAvg = np.mean(ENSO_df.osc[ENSO_df.index == year])\n",
    "    avgOsc.append(yearAvg)\n",
    "    \n",
    "pl.plot(years, avgOsc)\n",
    "\n",
    "# now we can see that the graph changes drastically every two to five years"
   ]
  },
  {
   "cell_type": "code",
   "execution_count": 25,
   "metadata": {},
   "outputs": [],
   "source": [
    "# calculate the average yearly, tempreture and rainfall\n",
    "avgTemps = list()\n",
    "avgRain = list()\n",
    "\n",
    "for year in years:\n",
    "    tempYearAvg = np.mean(annual_avg_temp_df.temp[annual_avg_temp_df.index == year])\n",
    "    avgTemps.append(tempYearAvg)\n",
    "    rainYearAvg = np.mean(rainfall_df.Rainfall_mm[rainfall_df.index == year])\n",
    "    avgRain.append(rainYearAvg)"
   ]
  },
  {
   "cell_type": "code",
   "execution_count": 26,
   "metadata": {},
   "outputs": [
    {
     "data": {
      "image/png": "[encoded data removed]",
      "text/plain": [
       "<Figure size 432x288 with 3 Axes>"
      ]
     },
     "metadata": {
      "needs_background": "light"
     },
     "output_type": "display_data"
    }
   ],
   "source": [
    "fig, ax1 = pl.subplots()\n",
    "\n",
    "ax1.plot(years, avgOsc, color='b')\n",
    "\n",
    "ax2 = ax1.twinx()\n",
    "ax2.plot(years, avgRain, color='r')\n",
    "\n",
    "ax3 = ax2.twinx()\n",
    "pl.plot(years, avgTemps, color='g')\n",
    "\n",
    "fig.tight_layout()\n",
    "\n",
    "# there seems to be a temporal pattern here, but the plot seems hard to read, we'll need to seperate the datasets to get a \n",
    "# better result"
   ]
  },
  {
   "cell_type": "code",
   "execution_count": 27,
   "metadata": {},
   "outputs": [
    {
     "data": {
      "image/png": "[encoded data removed]",
      "text/plain": [
       "<Figure size 432x288 with 2 Axes>"
      ]
     },
     "metadata": {
      "needs_background": "light"
     },
     "output_type": "display_data"
    }
   ],
   "source": [
    "# plot average yealy osc, and tempreture\n",
    "fig, ax1 = pl.subplots()\n",
    "\n",
    "ax1.plot(years, avgOsc, color='b')\n",
    "\n",
    "ax2 = ax1.twinx()\n",
    "\n",
    "ax2.plot(years, avgTemps, color='r')\n",
    "\n",
    "fig.tight_layout()\n",
    "\n",
    "# this is a little it better, and it also tells us , that there seems to be a slight correlation between the tempreture, and osc\n",
    "# since they change similarly"
   ]
  },
  {
   "cell_type": "code",
   "execution_count": 28,
   "metadata": {},
   "outputs": [
    {
     "data": {
      "image/png": "[encoded data removed]",
      "text/plain": [
       "<Figure size 432x288 with 2 Axes>"
      ]
     },
     "metadata": {
      "needs_background": "light"
     },
     "output_type": "display_data"
    }
   ],
   "source": [
    "# plot average yearly osc, and rainfall\n",
    "\n",
    "fig, ax1 = pl.subplots()\n",
    "\n",
    "ax1.plot(years, avgOsc, color='b')\n",
    "\n",
    "ax2 = ax1.twinx()\n",
    "ax2.plot(years, avgRain, color='r')\n",
    "\n",
    "fig.tight_layout()\n",
    "\n",
    "# this is a little bit better, and it also tells us, that there is a slight correlation between the yearly osc and rainfall"
   ]
  },
  {
   "cell_type": "code",
   "execution_count": 29,
   "metadata": {},
   "outputs": [
    {
     "data": {
      "image/png": "[encoded data removed]",
      "text/plain": [
       "<Figure size 432x288 with 2 Axes>"
      ]
     },
     "metadata": {
      "needs_background": "light"
     },
     "output_type": "display_data"
    }
   ],
   "source": [
    "# plot the average monthly osc, and rainfall\n",
    "\n",
    "avgMonthlyOsc = list()\n",
    "avgMonthlyRain = list()\n",
    "months = ENSO_df.Month.unique()\n",
    "for year in years:\n",
    "    rainfallYearsTruthTable = np.ones(len(rainfall_df.index))\n",
    "    rainfallYearsTruthTable = rainfallYearsTruthTable * rainfall_df.index == year\n",
    "    oscYearsTruthTable = np.ones(len(ENSO_df.index))\n",
    "    oscYearsTruthTable = oscYearsTruthTable * ENSO_df.index == year\n",
    "    for month in months:\n",
    "        rainfallMonthsTruthTable = np.ones(len(rainfall_df.Month))\n",
    "        rainfallMonthsTruthTable = rainfallMonthsTruthTable * rainfall_df.Month == month\n",
    "        oscMonthsTruthTable = np.ones(len(ENSO_df.Month))\n",
    "        oscMonthsTruthTable = oscMonthsTruthTable * ENSO_df.Month == month\n",
    "        monthAvg = np.mean(rainfall_df.Rainfall_mm[rainfallYearsTruthTable & rainfallMonthsTruthTable])\n",
    "        avgMonthlyRain.append(monthAvg)\n",
    "        monthAvg = np.mean(ENSO_df.osc[oscMonthsTruthTable & oscYearsTruthTable])\n",
    "        avgMonthlyOsc.append(monthAvg)\n",
    "\n",
    "fig, ax1 = pl.subplots()\n",
    "\n",
    "ax1.plot(ENSO_df['Month_year'], avgMonthlyOsc, color='b')\n",
    "\n",
    "ax2 = ax1.twinx()\n",
    "\n",
    "ax2.plot(ENSO_df['Month_year'], avgMonthlyRain, color='r')\n",
    "\n",
    "fig.tight_layout()\n",
    "\n",
    "# this one also seems hard to read, so we'll need to make another plot"
   ]
  },
  {
   "cell_type": "code",
   "execution_count": 30,
   "metadata": {
    "scrolled": true
   },
   "outputs": [
    {
     "data": {
      "image/png": "[encoded data removed]",
      "text/plain": [
       "<Figure size 432x288 with 2 Axes>"
      ]
     },
     "metadata": {
      "needs_background": "light"
     },
     "output_type": "display_data"
    }
   ],
   "source": [
    "# plot the average of all the months\n",
    "\n",
    "allMonthsAvgOsc = list()\n",
    "allMonthsAvgRain = list()\n",
    "\n",
    "for month in ENSO_df.Month.unique():\n",
    "    allMonthsAvgOsc.append(np.mean(ENSO_df.osc[ENSO_df.Month == month]))\n",
    "    allMonthsAvgRain.append(np.mean(rainfall_df.Rainfall_mm[rainfall_df.Month == month]))\n",
    "    \n",
    "fig, ax1 = pl.subplots()\n",
    "    \n",
    "ax1.plot(ENSO_df.Month.unique(), allMonthsAvgOsc, color='b')\n",
    "\n",
    "ax2 = ax1.twinx()\n",
    "\n",
    "ax2.plot(ENSO_df.Month.unique(), allMonthsAvgRain, color='r')\n",
    "\n",
    "fig.tight_layout()\n",
    "\n",
    "# here we can see that the ENSO data has the expected temporal pattern, as it changes, by either starting to increase or \n",
    "# decrease, between every two to seven months"
   ]
  },
  {
   "cell_type": "markdown",
   "metadata": {},
   "source": [
    "3- Test whether or not there is a correlation between the rainfall and temperature and the index.\n",
    "(4 marks)"
   ]
  },
  {
   "cell_type": "code",
   "execution_count": 31,
   "metadata": {},
   "outputs": [
    {
     "data": {
      "text/html": [
       "<div>\n",
       "<style scoped>\n",
       "    .dataframe tbody tr th:only-of-type {\n",
       "        vertical-align: middle;\n",
       "    }\n",
       "\n",
       "    .dataframe tbody tr th {\n",
       "        vertical-align: top;\n",
       "    }\n",
       "\n",
       "    .dataframe thead th {\n",
       "        text-align: right;\n",
       "    }\n",
       "</style>\n",
       "<table border=\"1\" class=\"dataframe\">\n",
       "  <thead>\n",
       "    <tr style=\"text-align: right;\">\n",
       "      <th></th>\n",
       "      <th>temp</th>\n",
       "      <th>rain</th>\n",
       "      <th>osc</th>\n",
       "    </tr>\n",
       "  </thead>\n",
       "  <tbody>\n",
       "    <tr>\n",
       "      <th>temp</th>\n",
       "      <td>1.000000</td>\n",
       "      <td>-0.176658</td>\n",
       "      <td>-0.093095</td>\n",
       "    </tr>\n",
       "    <tr>\n",
       "      <th>rain</th>\n",
       "      <td>-0.176658</td>\n",
       "      <td>1.000000</td>\n",
       "      <td>-0.233555</td>\n",
       "    </tr>\n",
       "    <tr>\n",
       "      <th>osc</th>\n",
       "      <td>-0.093095</td>\n",
       "      <td>-0.233555</td>\n",
       "      <td>1.000000</td>\n",
       "    </tr>\n",
       "  </tbody>\n",
       "</table>\n",
       "</div>"
      ],
      "text/plain": [
       "          temp      rain       osc\n",
       "temp  1.000000 -0.176658 -0.093095\n",
       "rain -0.176658  1.000000 -0.233555\n",
       "osc  -0.093095 -0.233555  1.000000"
      ]
     },
     "execution_count": 31,
     "metadata": {},
     "output_type": "execute_result"
    }
   ],
   "source": [
    "# combine the datasets of all the cities, and calculate the averages of their data\n",
    "\n",
    "cityData = [auckData, mastData, hokiData, wellData, nelsData, duneData]\n",
    "cityTempAvg = list()\n",
    "cityRainfallAvg = list()\n",
    "cityOscAvg = list()\n",
    "\n",
    "for i in range(len(cityData)):\n",
    "    cityTempAvg.append(np.mean(cityData[i].temp))\n",
    "    cityRainfallAvg.append(np.mean(cityData[i].Rainfall_mm))\n",
    "    cityOscAvg.append(np.mean(cityData[i].osc))\n",
    "    \n",
    "df = pd.DataFrame({'temp': cityTempAvg, 'rain': cityRainfallAvg, 'osc': cityOscAvg})\n",
    "df.corr()\n",
    "\n",
    "# it seems that the data is too noisy, so we need to split it"
   ]
  },
  {
   "cell_type": "code",
   "execution_count": 32,
   "metadata": {},
   "outputs": [
    {
     "data": {
      "text/html": [
       "<div>\n",
       "<style scoped>\n",
       "    .dataframe tbody tr th:only-of-type {\n",
       "        vertical-align: middle;\n",
       "    }\n",
       "\n",
       "    .dataframe tbody tr th {\n",
       "        vertical-align: top;\n",
       "    }\n",
       "\n",
       "    .dataframe thead th {\n",
       "        text-align: right;\n",
       "    }\n",
       "</style>\n",
       "<table border=\"1\" class=\"dataframe\">\n",
       "  <thead>\n",
       "    <tr style=\"text-align: right;\">\n",
       "      <th></th>\n",
       "      <th>rain</th>\n",
       "      <th>osc</th>\n",
       "    </tr>\n",
       "  </thead>\n",
       "  <tbody>\n",
       "    <tr>\n",
       "      <th>rain</th>\n",
       "      <td>1.000000</td>\n",
       "      <td>0.098655</td>\n",
       "    </tr>\n",
       "    <tr>\n",
       "      <th>osc</th>\n",
       "      <td>0.098655</td>\n",
       "      <td>1.000000</td>\n",
       "    </tr>\n",
       "  </tbody>\n",
       "</table>\n",
       "</div>"
      ],
      "text/plain": [
       "          rain       osc\n",
       "rain  1.000000  0.098655\n",
       "osc   0.098655  1.000000"
      ]
     },
     "execution_count": 32,
     "metadata": {},
     "output_type": "execute_result"
    }
   ],
   "source": [
    "df = pd.DataFrame({'rain': avgMonthlyRain, 'osc': avgMonthlyOsc})\n",
    "df.corr()\n",
    "\n",
    "# looks like that there is a correlation between the average montly rainfall, and osc"
   ]
  },
  {
   "cell_type": "code",
   "execution_count": 33,
   "metadata": {},
   "outputs": [
    {
     "data": {
      "text/html": [
       "<div>\n",
       "<style scoped>\n",
       "    .dataframe tbody tr th:only-of-type {\n",
       "        vertical-align: middle;\n",
       "    }\n",
       "\n",
       "    .dataframe tbody tr th {\n",
       "        vertical-align: top;\n",
       "    }\n",
       "\n",
       "    .dataframe thead th {\n",
       "        text-align: right;\n",
       "    }\n",
       "</style>\n",
       "<table border=\"1\" class=\"dataframe\">\n",
       "  <thead>\n",
       "    <tr style=\"text-align: right;\">\n",
       "      <th></th>\n",
       "      <th>rain</th>\n",
       "      <th>osc</th>\n",
       "    </tr>\n",
       "  </thead>\n",
       "  <tbody>\n",
       "    <tr>\n",
       "      <th>rain</th>\n",
       "      <td>1.000000</td>\n",
       "      <td>0.265648</td>\n",
       "    </tr>\n",
       "    <tr>\n",
       "      <th>osc</th>\n",
       "      <td>0.265648</td>\n",
       "      <td>1.000000</td>\n",
       "    </tr>\n",
       "  </tbody>\n",
       "</table>\n",
       "</div>"
      ],
      "text/plain": [
       "          rain       osc\n",
       "rain  1.000000  0.265648\n",
       "osc   0.265648  1.000000"
      ]
     },
     "execution_count": 33,
     "metadata": {},
     "output_type": "execute_result"
    }
   ],
   "source": [
    "df = pd.DataFrame({'rain': avgRain, 'osc': avgOsc})\n",
    "df.corr()\n",
    "\n",
    "# the correlation seems to be slightly stronger in the yearly  average"
   ]
  },
  {
   "cell_type": "code",
   "execution_count": 34,
   "metadata": {},
   "outputs": [
    {
     "data": {
      "text/html": [
       "<div>\n",
       "<style scoped>\n",
       "    .dataframe tbody tr th:only-of-type {\n",
       "        vertical-align: middle;\n",
       "    }\n",
       "\n",
       "    .dataframe tbody tr th {\n",
       "        vertical-align: top;\n",
       "    }\n",
       "\n",
       "    .dataframe thead th {\n",
       "        text-align: right;\n",
       "    }\n",
       "</style>\n",
       "<table border=\"1\" class=\"dataframe\">\n",
       "  <thead>\n",
       "    <tr style=\"text-align: right;\">\n",
       "      <th></th>\n",
       "      <th>temp</th>\n",
       "      <th>osc</th>\n",
       "    </tr>\n",
       "  </thead>\n",
       "  <tbody>\n",
       "    <tr>\n",
       "      <th>temp</th>\n",
       "      <td>1.000000</td>\n",
       "      <td>0.565364</td>\n",
       "    </tr>\n",
       "    <tr>\n",
       "      <th>osc</th>\n",
       "      <td>0.565364</td>\n",
       "      <td>1.000000</td>\n",
       "    </tr>\n",
       "  </tbody>\n",
       "</table>\n",
       "</div>"
      ],
      "text/plain": [
       "          temp       osc\n",
       "temp  1.000000  0.565364\n",
       "osc   0.565364  1.000000"
      ]
     },
     "execution_count": 34,
     "metadata": {},
     "output_type": "execute_result"
    }
   ],
   "source": [
    "df = pd.DataFrame({'temp': avgTemps, 'osc': avgOsc})\n",
    "df.corr()\n",
    "\n",
    "# the correlation is even higher between the tempreture, and the osc"
   ]
  },
  {
   "cell_type": "markdown",
   "metadata": {},
   "source": [
    "4- Test whether or not this correlation is stronger or weaker in different parts of the country. (5\n",
    "marks)"
   ]
  },
  {
   "cell_type": "code",
   "execution_count": 35,
   "metadata": {},
   "outputs": [
    {
     "name": "stdout",
     "output_type": "stream",
     "text": [
      "Auckland:\n",
      "             Rainfall_mm          temp           osc         Month\n",
      "Rainfall_mm     1.000000  2.546409e-02  3.585373e-02 -1.553907e-02\n",
      "temp            0.025464  1.000000e+00  3.729091e-01  9.034558e-18\n",
      "osc             0.035854  3.729091e-01  1.000000e+00  4.942550e-18\n",
      "Month          -0.015539  9.034558e-18  4.942550e-18  1.000000e+00\n",
      "\n",
      "Masterton:\n",
      "             Rainfall_mm          temp           osc         Month\n",
      "Rainfall_mm     1.000000 -4.843417e-02  2.319842e-02  6.252944e-02\n",
      "temp           -0.048434  1.000000e+00  3.332894e-01 -5.058752e-18\n",
      "osc             0.023198  3.332894e-01  1.000000e+00 -1.317057e-17\n",
      "Month           0.062529 -5.058752e-18 -1.317057e-17  1.000000e+00\n",
      "\n",
      "Hokitika:\n",
      "             Rainfall_mm          temp           osc         Month\n",
      "Rainfall_mm     1.000000 -8.766211e-03  7.299609e-03  9.831348e-02\n",
      "temp           -0.008766  1.000000e+00  3.853600e-01 -8.883562e-18\n",
      "osc             0.007300  3.853600e-01  1.000000e+00  4.942550e-18\n",
      "Month           0.098313 -8.883562e-18  4.942550e-18  1.000000e+00\n",
      "\n",
      "Wellington:\n",
      "             Rainfall_mm          temp           osc         Month\n",
      "Rainfall_mm     1.000000 -1.950116e-02  3.495437e-02  1.042506e-01\n",
      "temp           -0.019501  1.000000e+00  2.847662e-01  2.983504e-18\n",
      "osc             0.034954  2.847662e-01  1.000000e+00  4.942550e-18\n",
      "Month           0.104251  2.983504e-18  4.942550e-18  1.000000e+00\n",
      "\n",
      "Nelson:\n",
      "             Rainfall_mm          temp           osc         Month\n",
      "Rainfall_mm     1.000000  9.214899e-02  7.923503e-02  8.457560e-02\n",
      "temp            0.092149  1.000000e+00  3.625739e-01 -1.354150e-18\n",
      "osc             0.079235  3.625739e-01  1.000000e+00  4.942550e-18\n",
      "Month           0.084576 -1.354150e-18  4.942550e-18  1.000000e+00\n",
      "\n",
      "Dunedin:\n",
      "             Rainfall_mm          temp           osc         Month\n",
      "Rainfall_mm     1.000000 -6.667889e-02 -1.796682e-02  8.546922e-02\n",
      "temp           -0.066679  1.000000e+00  3.062063e-01  3.122646e-18\n",
      "osc            -0.017967  3.062063e-01  1.000000e+00  4.942550e-18\n",
      "Month           0.085469  3.122646e-18  4.942550e-18  1.000000e+00\n",
      "\n"
     ]
    }
   ],
   "source": [
    "cityNames = ['Auckland', 'Masterton', 'Hokitika', 'Wellington', 'Nelson', 'Dunedin']\n",
    "\n",
    "for i in range(len(cityData)):\n",
    "    print(cityNames[i] + ':')\n",
    "    print(str(cityData[i].corr()) + '\\n')\n",
    "    \n",
    "# it looks like that the data needs to be seperated again"
   ]
  },
  {
   "cell_type": "code",
   "execution_count": 36,
   "metadata": {},
   "outputs": [],
   "source": [
    "def calculateMonthlyAvg(df, col):\n",
    "    avgOsc = list()\n",
    "    avgCol = list()\n",
    "    for year in df.index.unique():\n",
    "        yearTruthTable = df.index == year\n",
    "        for month in df.Month.unique():\n",
    "            monthTruthTable = df.Month == month\n",
    "            avgOsc.append(np.mean(df.osc[yearTruthTable & monthTruthTable]))\n",
    "            avgCol.append(np.mean(df[col][yearTruthTable & monthTruthTable]))\n",
    "    return avgOsc, avgCol"
   ]
  },
  {
   "cell_type": "code",
   "execution_count": 37,
   "metadata": {},
   "outputs": [],
   "source": [
    "def calculateyearlyAvg(df, col):\n",
    "    avgOsc = list()\n",
    "    avgCol = list()\n",
    "    for year in df.index.unique():\n",
    "        yearTruthTable = df.index == year\n",
    "        avgOsc.append(np.mean(df.osc[yearTruthTable]))\n",
    "        avgCol.append(np.mean(df[col][yearTruthTable]))\n",
    "    return avgOsc, avgCol"
   ]
  },
  {
   "cell_type": "code",
   "execution_count": 38,
   "metadata": {},
   "outputs": [
    {
     "name": "stdout",
     "output_type": "stream",
     "text": [
      "Auckland\n",
      "yearly osc and temp\n",
      "          temp       osc\n",
      "temp  1.000000  0.586845\n",
      "osc   0.586845  1.000000\n",
      "yearly rain and osc\n",
      "         rain      osc\n",
      "rain  1.00000  0.23134\n",
      "osc   0.23134  1.00000\n",
      "monthly rain and osc\n",
      "          rain       osc\n",
      "rain  1.000000  0.056423\n",
      "osc   0.056423  1.000000\n",
      "\n",
      "\n",
      "Masterton\n",
      "yearly osc and temp\n",
      "         temp      osc\n",
      "temp  1.00000  0.53694\n",
      "osc   0.53694  1.00000\n",
      "yearly rain and osc\n",
      "          rain       osc\n",
      "rain  1.000000  0.125763\n",
      "osc   0.125763  1.000000\n",
      "monthly rain and osc\n",
      "          rain       osc\n",
      "rain  1.000000  0.037373\n",
      "osc   0.037373  1.000000\n",
      "\n",
      "\n",
      "Hokitika\n",
      "yearly osc and temp\n",
      "          temp       osc\n",
      "temp  1.000000  0.606439\n",
      "osc   0.606439  1.000000\n",
      "yearly rain and osc\n",
      "          rain       osc\n",
      "rain  1.000000  0.043462\n",
      "osc   0.043462  1.000000\n",
      "monthly rain and osc\n",
      "          rain       osc\n",
      "rain  1.000000  0.011487\n",
      "osc   0.011487  1.000000\n",
      "\n",
      "\n",
      "Wellington\n",
      "yearly osc and temp\n",
      "          temp       osc\n",
      "temp  1.000000  0.448135\n",
      "osc   0.448135  1.000000\n",
      "yearly rain and osc\n",
      "          rain       osc\n",
      "rain  1.000000  0.191466\n",
      "osc   0.191466  1.000000\n",
      "monthly rain and osc\n",
      "          rain       osc\n",
      "rain  1.000000  0.055007\n",
      "osc   0.055007  1.000000\n",
      "\n",
      "\n",
      "Nelson\n",
      "yearly osc and temp\n",
      "         temp      osc\n",
      "temp  1.00000  0.57058\n",
      "osc   0.57058  1.00000\n",
      "yearly rain and osc\n",
      "          rain       osc\n",
      "rain  1.000000  0.358957\n",
      "osc   0.358957  1.000000\n",
      "monthly rain and osc\n",
      "          rain       osc\n",
      "rain  1.000000  0.124692\n",
      "osc   0.124692  1.000000\n",
      "\n",
      "\n",
      "Dunedin\n",
      "yearly osc and temp\n",
      "          temp       osc\n",
      "temp  1.000000  0.481875\n",
      "osc   0.481875  1.000000\n",
      "yearly rain and osc\n",
      "        rain     osc\n",
      "rain  1.0000 -0.1146\n",
      "osc  -0.1146  1.0000\n",
      "monthly rain and osc\n",
      "          rain       osc\n",
      "rain  1.000000 -0.028274\n",
      "osc  -0.028274  1.000000\n",
      "\n",
      "\n"
     ]
    }
   ],
   "source": [
    "for i in range(len(cityData)):\n",
    "    print(cityNames[i])\n",
    "    print('yearly osc and temp')\n",
    "    cityOscAvg, cityTempAvg = calculateyearlyAvg(cityData[i], 'temp')\n",
    "    df = pd.DataFrame({'temp': cityTempAvg, 'osc': cityOscAvg})\n",
    "    print(df.corr())\n",
    "    \n",
    "    print('yearly rain and osc')\n",
    "    cityOscAvg, cityRainAvg = calculateyearlyAvg(cityData[i], 'Rainfall_mm')\n",
    "    df = pd.DataFrame({'rain': cityRainAvg, 'osc': cityOscAvg})\n",
    "    print(df.corr())\n",
    "    \n",
    "    print('monthly rain and osc')\n",
    "    cityOscAvg, cityRainAvg = calculateMonthlyAvg(cityData[i], 'Rainfall_mm')\n",
    "    df = pd.DataFrame({'rain': cityRainAvg, 'osc': cityOscAvg})\n",
    "    print(df.corr())\n",
    "    print('\\n')\n",
    "    \n",
    "# looks like that the correltation between the anual tempreture and osc is slightly higher in most cities\n",
    "\n",
    "# we can also see that the correlation between the yearly rainfall and osc is lower in most cities\n",
    "\n",
    "# finally, we can see that the correlation between the monthly rainfall and osc is lower in most cities"
   ]
  },
  {
   "cell_type": "markdown",
   "metadata": {},
   "source": [
    "5- Using the Auckland data, predict the strength of the ENSO index for each year using the\n",
    "rainfall and temperature data. You will need to:\n",
    "- Choose the appropriate data and normalise it\n",
    "- Split it into training and testing sets\n",
    "- Choose an appropriate algorithm\n",
    "- Perform the training\n",
    "- Report appropriate metrics\n",
    "(15 marks)"
   ]
  },
  {
   "cell_type": "code",
   "execution_count": 39,
   "metadata": {},
   "outputs": [],
   "source": [
    "# calculate the yearly average of all the data\n",
    "\n",
    "auckYears = auckData.index.unique()\n",
    "auckTempAvg = list()\n",
    "auckRainfallAvg = list()\n",
    "auckOscAvg = list()\n",
    "\n",
    "for year in auckYears:\n",
    "    auckTempAvg.append(np.mean(auckData.temp[auckData.index == year]))\n",
    "    auckRainfallAvg.append(np.mean(auckData.Rainfall_mm[auckData.index == year]))\n",
    "    auckOscAvg.append(np.mean(auckData.osc[auckData.index == year]))"
   ]
  },
  {
   "cell_type": "code",
   "execution_count": 40,
   "metadata": {},
   "outputs": [],
   "source": [
    "from sklearn.preprocessing import StandardScaler, MinMaxScaler\n",
    "from sklearn.linear_model import LinearRegression\n",
    "from sklearn.compose import ColumnTransformer\n",
    "from sklearn.pipeline import Pipeline\n",
    "from sklearn.linear_model import SGDRegressor\n",
    "from sklearn.neighbors import KNeighborsRegressor\n",
    "from sklearn.tree import DecisionTreeRegressor\n",
    "from sklearn.model_selection import GridSearchCV\n",
    "from sklearn.model_selection import train_test_split\n",
    "from sklearn.metrics import roc_auc_score\n",
    "from sklearn.metrics import mean_squared_error\n",
    "\n",
    "transformer = ColumnTransformer([\n",
    "    ('num', StandardScaler(), ['rainfall', 'temp']),\n",
    "    ('date', MinMaxScaler(), ['date'])\n",
    "])\n",
    "\n",
    "x = pd.DataFrame({'rainfall': auckRainfallAvg,'temp': auckOscAvg,'date': auckYears})\n",
    "y = auckOscAvg\n",
    "x_train, x_test, y_train, y_test = train_test_split(x, y, test_size = 0.25, random_state = 42)"
   ]
  },
  {
   "cell_type": "code",
   "execution_count": 41,
   "metadata": {
    "scrolled": true
   },
   "outputs": [
    {
     "name": "stdout",
     "output_type": "stream",
     "text": [
      "best params: {'classifier__splitter': 'best'}\n",
      "best score: 0.932321465437137\n",
      "mse: 0.016121031746031755\n"
     ]
    }
   ],
   "source": [
    "dtPipeline = Pipeline([\n",
    "    ('preprocessing', transformer),\n",
    "    ('classifier', DecisionTreeRegressor())\n",
    "])\n",
    "\n",
    "params = {'classifier__splitter': ['best', 'random']}\n",
    "\n",
    "grid_cv = GridSearchCV(dtPipeline, params, scoring = 'explained_variance', n_jobs=1, return_train_score=True)\n",
    "grid_cv.fit(x_train, y_train)\n",
    "\n",
    "print('best params: ' + str(grid_cv.best_params_))\n",
    "print('best score: ' + str(grid_cv.best_score_))\n",
    "print('mse: ' + str(mean_squared_error(y_test, grid_cv.predict(x_test))))"
   ]
  },
  {
   "cell_type": "code",
   "execution_count": 42,
   "metadata": {},
   "outputs": [
    {
     "name": "stdout",
     "output_type": "stream",
     "text": [
      "best params: {'classifier__loss': 'epsilon_insensitive', 'classifier__penalty': 'elasticnet'}\n",
      "best score: 0.9899536074326237\n",
      "mse: 0.001608865625926778\n"
     ]
    }
   ],
   "source": [
    "sgdPipeline = Pipeline([\n",
    "    ('preprocessing', transformer),\n",
    "    ('classifier', SGDRegressor())\n",
    "])\n",
    "\n",
    "params = {'classifier__loss': ['squared_loss', 'huber', 'epsilon_insensitive'],\n",
    "         'classifier__penalty': ['l2', 'l1', 'elasticnet']}\n",
    "\n",
    "grid_cv = GridSearchCV(sgdPipeline, params, scoring = 'explained_variance', n_jobs=1, return_train_score=True)\n",
    "grid_cv.fit(x_train, y_train)\n",
    "\n",
    "print('best params: ' + str(grid_cv.best_params_))\n",
    "print('best score: ' + str(grid_cv.best_score_))\n",
    "print('mse: ' + str(mean_squared_error(y_test, grid_cv.predict(x_test))))"
   ]
  },
  {
   "cell_type": "code",
   "execution_count": 43,
   "metadata": {
    "scrolled": true
   },
   "outputs": [
    {
     "name": "stdout",
     "output_type": "stream",
     "text": [
      "best params: {'classifier__n_neighbors': 3, 'classifier__weights': 'distance'}\n",
      "best score: 0.8802778848414174\n",
      "mse: 0.09706350124762542\n"
     ]
    }
   ],
   "source": [
    "knnPipeline = Pipeline([\n",
    "    ('preprocessing', transformer),\n",
    "    ('classifier', KNeighborsRegressor())\n",
    "])\n",
    "\n",
    "params = {'classifier__n_neighbors': range(1, 6),\n",
    "         'classifier__weights': ['uniform', 'distance']}\n",
    "\n",
    "grid_cv = GridSearchCV(knnPipeline, params, scoring = 'explained_variance', n_jobs=1, return_train_score=True)\n",
    "grid_cv.fit(x_train, y_train)\n",
    "\n",
    "print('best params: ' + str(grid_cv.best_params_))\n",
    "print('best score: ' + str(grid_cv.best_score_))\n",
    "print('mse: ' + str(mean_squared_error(y_test, grid_cv.predict(x_test))))"
   ]
  },
  {
   "cell_type": "markdown",
   "metadata": {},
   "source": [
    "#### we can see that KNN regression gives the best predictions, with a very low error rate.  Therefore, we can conclude that the ENSO value can be predicted with a high accuracy given the date, rainfall, and tempreture data"
   ]
  },
  {
   "cell_type": "markdown",
   "metadata": {},
   "source": [
    "6-. Using just the ENSO index data, see if you can predict the strength of the ENSO index for\n",
    "date t + 1 using the index values for dates t - 1, t - 2, t - 3. The easiest way to do this is to\n",
    "assemble the data into an array with 3 columns. The first few rows would be (where I<sub>m-y</sub>t\n",
    "is the index value for date month-year):\n",
    "\n",
    "I<sub>01-86</sub> I<sub>02-86</sub> I<sub>03-86</sub><br/>\n",
    "I<sub>02-86</sub> I<sub>03-86</sub> I<sub>04-86</sub><br/>\n",
    "I<sub>03-86</sub> I<sub>04-86</sub> I<sub>05-86</sub><br/>\n",
    "\n",
    "Then use the first line to predict I<sub>04-86</sub> and so on.<br/>\n",
    "You need to follow the same data preparation steps as in the previous question.\n",
    "\n",
    "Compare the model with two others:<br/>\n",
    "(a) Using the last 6 monthly values instead of the last 3<br/>\n",
    "(b) Using the last 12 monthly values instead of the last 3<br/>\n",
    "Explain why you get the results you do. (15 marks)"
   ]
  },
  {
   "cell_type": "code",
   "execution_count": 44,
   "metadata": {},
   "outputs": [],
   "source": [
    "# makes a dataframe that matches the format in the question\n",
    "def makeEnsoDf(size=3):\n",
    "    predEnso = pd.DataFrame({'t_p1': ENSO_df.osc})\n",
    "    for i in range(size):\n",
    "        colname = 't_m' + str(i + 1)\n",
    "        predEnso[colname] = ENSO_df.osc\n",
    "    \n",
    "    predEnso['t_p1'] = predEnso['t_p1'].shift(1)\n",
    "    for i in range(1, len(predEnso.columns)):\n",
    "        col = predEnso.columns[i]\n",
    "        predEnso[col] = predEnso[col].shift(-(i - 1))\n",
    "        \n",
    "    predEnso['osc'] = ENSO_df.osc\n",
    "    return predEnso.dropna()"
   ]
  },
  {
   "cell_type": "markdown",
   "metadata": {},
   "source": [
    "### first we'll predict based on the last 3 months"
   ]
  },
  {
   "cell_type": "code",
   "execution_count": 45,
   "metadata": {},
   "outputs": [
    {
     "name": "stdout",
     "output_type": "stream",
     "text": [
      "best params: {'classifier__splitter': 'best'}\n",
      "best score: 0.9962113337416575\n",
      "mse: 0.0039784946236559125\n"
     ]
    }
   ],
   "source": [
    "predEnso = makeEnsoDf()\n",
    "x = predEnso.drop('osc', axis=1)\n",
    "y = predEnso['osc']\n",
    "x_train, x_test, y_train, y_test = train_test_split(x, y, test_size = 0.25, random_state = 42)\n",
    "\n",
    "dtPipeline = Pipeline([\n",
    "    ('scaler', StandardScaler()),\n",
    "    ('classifier', DecisionTreeRegressor())\n",
    "])\n",
    "\n",
    "params = {'classifier__splitter': ['best', 'random']}\n",
    "\n",
    "grid_cv = GridSearchCV(dtPipeline, params, scoring = 'explained_variance', n_jobs=1, return_train_score=True)\n",
    "grid_cv.fit(x_train, y_train)\n",
    "\n",
    "print('best params: ' + str(grid_cv.best_params_))\n",
    "print('best score: ' + str(grid_cv.best_score_))\n",
    "print('mse: ' + str(mean_squared_error(y_test, grid_cv.predict(x_test))))"
   ]
  },
  {
   "cell_type": "code",
   "execution_count": 46,
   "metadata": {
    "scrolled": true
   },
   "outputs": [
    {
     "name": "stdout",
     "output_type": "stream",
     "text": [
      "best params: {'classifier__loss': 'epsilon_insensitive', 'classifier__penalty': 'elasticnet'}\n",
      "best score: 0.9990128626216851\n",
      "mse: 0.0014194377902222552\n"
     ]
    }
   ],
   "source": [
    "predEnso = makeEnsoDf()\n",
    "x = predEnso.drop('osc', axis=1)\n",
    "y = predEnso['osc']\n",
    "x_train, x_test, y_train, y_test = train_test_split(x, y, test_size = 0.25, random_state = 42)\n",
    "\n",
    "sgdPipeline = Pipeline([\n",
    "    ('scaler', StandardScaler()),\n",
    "    ('classifier', SGDRegressor())\n",
    "])\n",
    "\n",
    "params = {'classifier__loss': ['squared_loss', 'huber', 'epsilon_insensitive'],\n",
    "         'classifier__penalty': ['l2', 'l1', 'elasticnet']}\n",
    "\n",
    "grid_cv = GridSearchCV(sgdPipeline, params, scoring = 'explained_variance', n_jobs=1, return_train_score=True)\n",
    "grid_cv.fit(x_train, y_train)\n",
    "\n",
    "print('best params: ' + str(grid_cv.best_params_))\n",
    "print('best score: ' + str(grid_cv.best_score_))\n",
    "print('mse: ' + str(mean_squared_error(y_test, grid_cv.predict(x_test))))"
   ]
  },
  {
   "cell_type": "code",
   "execution_count": 47,
   "metadata": {},
   "outputs": [
    {
     "name": "stdout",
     "output_type": "stream",
     "text": [
      "best params: {'classifier__n_neighbors': 4, 'classifier__weights': 'distance'}\n",
      "best score: 0.9256702119463286\n",
      "mse: 0.0786105902670203\n"
     ]
    }
   ],
   "source": [
    "predEnso = makeEnsoDf()\n",
    "x = predEnso.drop('osc', axis=1)\n",
    "y = predEnso['osc']\n",
    "x_train, x_test, y_train, y_test = train_test_split(x, y, test_size = 0.25, random_state = 42)\n",
    "\n",
    "knnPipeline = Pipeline([\n",
    "    ('scaler', StandardScaler()),\n",
    "    ('classifier', KNeighborsRegressor())\n",
    "])\n",
    "\n",
    "params = {'classifier__n_neighbors': range(1, 6),\n",
    "         'classifier__weights': ['uniform', 'distance']}\n",
    "\n",
    "grid_cv = GridSearchCV(knnPipeline, params, scoring = 'explained_variance', n_jobs=1, return_train_score=True)\n",
    "grid_cv.fit(x_train, y_train)\n",
    "\n",
    "print('best params: ' + str(grid_cv.best_params_))\n",
    "print('best score: ' + str(grid_cv.best_score_))\n",
    "print('mse: ' + str(mean_squared_error(y_test, grid_cv.predict(x_test))))"
   ]
  },
  {
   "cell_type": "markdown",
   "metadata": {},
   "source": [
    "### now we'll predict based on the last 6 months"
   ]
  },
  {
   "cell_type": "code",
   "execution_count": 48,
   "metadata": {},
   "outputs": [
    {
     "name": "stdout",
     "output_type": "stream",
     "text": [
      "best params: {'classifier__splitter': 'random'}\n",
      "best score: 0.9932718569163699\n",
      "mse: 0.003913043478260868\n"
     ]
    }
   ],
   "source": [
    "predEnso = makeEnsoDf(6)\n",
    "x = predEnso.drop('osc', axis=1)\n",
    "y = predEnso['osc']\n",
    "x_train, x_test, y_train, y_test = train_test_split(x, y, test_size = 0.25, random_state = 42)\n",
    "\n",
    "dtPipeline = Pipeline([\n",
    "    ('scaler', StandardScaler()),\n",
    "    ('classifier', DecisionTreeRegressor())\n",
    "])\n",
    "\n",
    "params = {'classifier__splitter': ['best', 'random']}\n",
    "\n",
    "grid_cv = GridSearchCV(dtPipeline, params, scoring = 'explained_variance', n_jobs=1, return_train_score=True)\n",
    "grid_cv.fit(x_train, y_train)\n",
    "\n",
    "print('best params: ' + str(grid_cv.best_params_))\n",
    "print('best score: ' + str(grid_cv.best_score_))\n",
    "print('mse: ' + str(mean_squared_error(y_test, grid_cv.predict(x_test))))"
   ]
  },
  {
   "cell_type": "code",
   "execution_count": 49,
   "metadata": {},
   "outputs": [
    {
     "name": "stdout",
     "output_type": "stream",
     "text": [
      "best params: {'classifier__loss': 'epsilon_insensitive', 'classifier__penalty': 'elasticnet'}\n",
      "best score: 0.9987201899032652\n",
      "mse: 0.0008729871754921619\n"
     ]
    }
   ],
   "source": [
    "predEnso = makeEnsoDf(6)\n",
    "x = predEnso.drop('osc', axis=1)\n",
    "y = predEnso['osc']\n",
    "x_train, x_test, y_train, y_test = train_test_split(x, y, test_size = 0.25, random_state = 42)\n",
    "\n",
    "sgdPipeline = Pipeline([\n",
    "    ('scaler', StandardScaler()),\n",
    "    ('classifier', SGDRegressor())\n",
    "])\n",
    "\n",
    "params = {'classifier__loss': ['squared_loss', 'huber', 'epsilon_insensitive'],\n",
    "         'classifier__penalty': ['l2', 'l1', 'elasticnet']}\n",
    "\n",
    "grid_cv = GridSearchCV(sgdPipeline, params, scoring = 'explained_variance', n_jobs=1, return_train_score=True)\n",
    "grid_cv.fit(x_train, y_train)\n",
    "\n",
    "print('best params: ' + str(grid_cv.best_params_))\n",
    "print('best score: ' + str(grid_cv.best_score_))\n",
    "print('mse: ' + str(mean_squared_error(y_test, grid_cv.predict(x_test))))"
   ]
  },
  {
   "cell_type": "code",
   "execution_count": 50,
   "metadata": {},
   "outputs": [
    {
     "name": "stdout",
     "output_type": "stream",
     "text": [
      "best params: {'classifier__n_neighbors': 3, 'classifier__weights': 'distance'}\n",
      "best score: 0.8772138976170055\n",
      "mse: 0.11822030758663073\n"
     ]
    }
   ],
   "source": [
    "predEnso = makeEnsoDf(6)\n",
    "x = predEnso.drop('osc', axis=1)\n",
    "y = predEnso['osc']\n",
    "x_train, x_test, y_train, y_test = train_test_split(x, y, test_size = 0.25, random_state = 42)\n",
    "\n",
    "knnPipeline = Pipeline([\n",
    "    ('scaler', StandardScaler()),\n",
    "    ('classifier', KNeighborsRegressor())\n",
    "])\n",
    "\n",
    "params = {'classifier__n_neighbors': range(1, 6),\n",
    "         'classifier__weights': ['uniform', 'distance']}\n",
    "\n",
    "grid_cv = GridSearchCV(knnPipeline, params, scoring = 'explained_variance', n_jobs=1, return_train_score=True)\n",
    "grid_cv.fit(x_train, y_train)\n",
    "\n",
    "print('best params: ' + str(grid_cv.best_params_))\n",
    "print('best score: ' + str(grid_cv.best_score_))\n",
    "print('mse: ' + str(mean_squared_error(y_test, grid_cv.predict(x_test))))"
   ]
  },
  {
   "cell_type": "markdown",
   "metadata": {},
   "source": [
    "### finally we'll predict based on the last 12 months"
   ]
  },
  {
   "cell_type": "code",
   "execution_count": 51,
   "metadata": {},
   "outputs": [
    {
     "name": "stdout",
     "output_type": "stream",
     "text": [
      "best params: {'classifier__splitter': 'best'}\n",
      "best score: 0.9943399155726818\n",
      "mse: 0.0021111111111111105\n"
     ]
    }
   ],
   "source": [
    "predEnso = makeEnsoDf(12)\n",
    "x = predEnso.drop('osc', axis=1)\n",
    "y = predEnso['osc']\n",
    "x_train, x_test, y_train, y_test = train_test_split(x, y, test_size = 0.25, random_state = 42)\n",
    "\n",
    "dtPipeline = Pipeline([\n",
    "    ('scaler', StandardScaler()),\n",
    "    ('classifier', DecisionTreeRegressor())\n",
    "])\n",
    "\n",
    "params = {'classifier__splitter': ['best', 'random']}\n",
    "\n",
    "grid_cv = GridSearchCV(dtPipeline, params, scoring = 'explained_variance', n_jobs=1, return_train_score=True)\n",
    "grid_cv.fit(x_train, y_train)\n",
    "\n",
    "print('best params: ' + str(grid_cv.best_params_))\n",
    "print('best score: ' + str(grid_cv.best_score_))\n",
    "print('mse: ' + str(mean_squared_error(y_test, grid_cv.predict(x_test))))"
   ]
  },
  {
   "cell_type": "code",
   "execution_count": 52,
   "metadata": {},
   "outputs": [
    {
     "name": "stdout",
     "output_type": "stream",
     "text": [
      "best params: {'classifier__loss': 'epsilon_insensitive', 'classifier__penalty': 'elasticnet'}\n",
      "best score: 0.99802024481293\n",
      "mse: 0.0018047013815793442\n"
     ]
    }
   ],
   "source": [
    "predEnso = makeEnsoDf(12)\n",
    "x = predEnso.drop('osc', axis=1)\n",
    "y = predEnso['osc']\n",
    "x_train, x_test, y_train, y_test = train_test_split(x, y, test_size = 0.25, random_state = 42)\n",
    "\n",
    "sgdPipeline = Pipeline([\n",
    "    ('scaler', StandardScaler()),\n",
    "    ('classifier', SGDRegressor())\n",
    "])\n",
    "\n",
    "params = {'classifier__loss': ['squared_loss', 'huber', 'epsilon_insensitive'],\n",
    "         'classifier__penalty': ['l2', 'l1', 'elasticnet']}\n",
    "\n",
    "grid_cv = GridSearchCV(sgdPipeline, params, scoring = 'explained_variance', n_jobs=1, return_train_score=True)\n",
    "grid_cv.fit(x_train, y_train)\n",
    "\n",
    "print('best params: ' + str(grid_cv.best_params_))\n",
    "print('best score: ' + str(grid_cv.best_score_))\n",
    "print('mse: ' + str(mean_squared_error(y_test, grid_cv.predict(x_test))))"
   ]
  },
  {
   "cell_type": "code",
   "execution_count": 53,
   "metadata": {},
   "outputs": [
    {
     "name": "stdout",
     "output_type": "stream",
     "text": [
      "best params: {'classifier__n_neighbors': 5, 'classifier__weights': 'distance'}\n",
      "best score: 0.7957720549471211\n",
      "mse: 0.13919235580534695\n"
     ]
    }
   ],
   "source": [
    "predEnso = makeEnsoDf(12)\n",
    "x = predEnso.drop('osc', axis=1)\n",
    "y = predEnso['osc']\n",
    "x_train, x_test, y_train, y_test = train_test_split(x, y, test_size = 0.25, random_state = 42)\n",
    "\n",
    "knnPipeline = Pipeline([\n",
    "    ('scaler', StandardScaler()),\n",
    "    ('classifier', KNeighborsRegressor())\n",
    "])\n",
    "\n",
    "params = {'classifier__n_neighbors': range(1, 6),\n",
    "         'classifier__weights': ['uniform', 'distance']}\n",
    "\n",
    "grid_cv = GridSearchCV(knnPipeline, params, scoring = 'explained_variance', n_jobs=1, return_train_score=True)\n",
    "grid_cv.fit(x_train, y_train)\n",
    "\n",
    "print('best params: ' + str(grid_cv.best_params_))\n",
    "print('best score: ' + str(grid_cv.best_score_))\n",
    "print('mse: ' + str(mean_squared_error(y_test, grid_cv.predict(x_test))))"
   ]
  },
  {
   "cell_type": "markdown",
   "metadata": {},
   "source": [
    "#### we can see from the results above that the best prediction accuracy we got was from predicting the ENSO based on the previous 6 months data using the SGD regression. This is probably due to how the ENZO cycle changes every once in a while. Thus, making it more predictable."
   ]
  },
  {
   "cell_type": "markdown",
   "metadata": {},
   "source": [
    "7- Test whether or not the ENSO is getting stronger or weaker over time. (5 marks)"
   ]
  },
  {
   "cell_type": "code",
   "execution_count": 54,
   "metadata": {},
   "outputs": [
    {
     "data": {
      "text/html": [
       "<div>\n",
       "<style scoped>\n",
       "    .dataframe tbody tr th:only-of-type {\n",
       "        vertical-align: middle;\n",
       "    }\n",
       "\n",
       "    .dataframe tbody tr th {\n",
       "        vertical-align: top;\n",
       "    }\n",
       "\n",
       "    .dataframe thead th {\n",
       "        text-align: right;\n",
       "    }\n",
       "</style>\n",
       "<table border=\"1\" class=\"dataframe\">\n",
       "  <thead>\n",
       "    <tr style=\"text-align: right;\">\n",
       "      <th></th>\n",
       "      <th>months</th>\n",
       "      <th>osc</th>\n",
       "    </tr>\n",
       "  </thead>\n",
       "  <tbody>\n",
       "    <tr>\n",
       "      <th>months</th>\n",
       "      <td>1.000000</td>\n",
       "      <td>-0.019716</td>\n",
       "    </tr>\n",
       "    <tr>\n",
       "      <th>osc</th>\n",
       "      <td>-0.019716</td>\n",
       "      <td>1.000000</td>\n",
       "    </tr>\n",
       "  </tbody>\n",
       "</table>\n",
       "</div>"
      ],
      "text/plain": [
       "          months       osc\n",
       "months  1.000000 -0.019716\n",
       "osc    -0.019716  1.000000"
      ]
     },
     "execution_count": 54,
     "metadata": {},
     "output_type": "execute_result"
    }
   ],
   "source": [
    "monthlyOsc = pd.DataFrame({'months': ENSO_df.Month, 'osc': avgMonthlyOsc})\n",
    "monthlyOsc.corr()\n",
    "\n",
    "# the average monthly data does not seem to give an accuarte representation, as we have seen in previous questions."
   ]
  },
  {
   "cell_type": "code",
   "execution_count": 55,
   "metadata": {},
   "outputs": [
    {
     "data": {
      "text/html": [
       "<div>\n",
       "<style scoped>\n",
       "    .dataframe tbody tr th:only-of-type {\n",
       "        vertical-align: middle;\n",
       "    }\n",
       "\n",
       "    .dataframe tbody tr th {\n",
       "        vertical-align: top;\n",
       "    }\n",
       "\n",
       "    .dataframe thead th {\n",
       "        text-align: right;\n",
       "    }\n",
       "</style>\n",
       "<table border=\"1\" class=\"dataframe\">\n",
       "  <thead>\n",
       "    <tr style=\"text-align: right;\">\n",
       "      <th></th>\n",
       "      <th>years</th>\n",
       "      <th>osc</th>\n",
       "    </tr>\n",
       "  </thead>\n",
       "  <tbody>\n",
       "    <tr>\n",
       "      <th>years</th>\n",
       "      <td>1.000000</td>\n",
       "      <td>0.233982</td>\n",
       "    </tr>\n",
       "    <tr>\n",
       "      <th>osc</th>\n",
       "      <td>0.233982</td>\n",
       "      <td>1.000000</td>\n",
       "    </tr>\n",
       "  </tbody>\n",
       "</table>\n",
       "</div>"
      ],
      "text/plain": [
       "          years       osc\n",
       "years  1.000000  0.233982\n",
       "osc    0.233982  1.000000"
      ]
     },
     "execution_count": 55,
     "metadata": {},
     "output_type": "execute_result"
    }
   ],
   "source": [
    "yearlyOsc = pd.DataFrame({'years': years, 'osc': avgOsc})\n",
    "yearlyOsc.corr()\n",
    "\n",
    "# the average yearly data seems to show a better result, and it seems that there is a slight correlation between the ENSO, and\n",
    "# time values. This is probably, due to the fact that the ENZO value changes drastically every once in a while as we have seen\n",
    "# in the plots from previous questions."
   ]
  },
  {
   "cell_type": "code",
   "execution_count": 56,
   "metadata": {},
   "outputs": [
    {
     "data": {
      "text/plain": [
       "[<matplotlib.lines.Line2D at 0x14f072f8>]"
      ]
     },
     "execution_count": 56,
     "metadata": {},
     "output_type": "execute_result"
    },
    {
     "data": {
      "image/png": "[encoded data removed]",
      "text/plain": [
       "<Figure size 432x288 with 1 Axes>"
      ]
     },
     "metadata": {
      "needs_background": "light"
     },
     "output_type": "display_data"
    }
   ],
   "source": [
    "from sklearn.linear_model import LinearRegression\n",
    "from sklearn.preprocessing import OneHotEncoder\n",
    "\n",
    "from sklearn.linear_model import LinearRegression\n",
    "from sklearn.preprocessing import OneHotEncoder\n",
    "\n",
    "lr = LinearRegression()\n",
    "pipeline = ColumnTransformer([\n",
    "    ('month', StandardScaler(), ['months'])\n",
    "])\n",
    "\n",
    "x = monthlyOsc.drop(['osc'], axis=1)\n",
    "y = monthlyOsc['osc']\n",
    "pipeline.fit(x)\n",
    "x_train, x_test, y_train, y_test = train_test_split(x, y, test_size = 0.25, random_state = 42)\n",
    "x_train = pipeline.transform(x_train)\n",
    "x_test = pipeline.transform(x_test)\n",
    "lr.fit(x_train, y_train)\n",
    "\n",
    "pl.scatter(x_test, y_test)\n",
    "pl.plot(x_test, lr.predict(x_test))\n",
    "\n",
    "# the data looks too noisy, and it is hard to tell"
   ]
  },
  {
   "cell_type": "code",
   "execution_count": 57,
   "metadata": {},
   "outputs": [
    {
     "data": {
      "text/plain": [
       "[<matplotlib.lines.Line2D at 0xb876f58>]"
      ]
     },
     "execution_count": 57,
     "metadata": {},
     "output_type": "execute_result"
    },
    {
     "data": {
      "image/png": "[encoded data removed]",
      "text/plain": [
       "<Figure size 432x288 with 1 Axes>"
      ]
     },
     "metadata": {
      "needs_background": "light"
     },
     "output_type": "display_data"
    }
   ],
   "source": [
    "lr = LinearRegression()\n",
    "pipeline = ColumnTransformer([\n",
    "    ('years', StandardScaler(), ['years'])\n",
    "])\n",
    "\n",
    "x = yearlyOsc.drop(['osc'], axis=1)\n",
    "y = yearlyOsc['osc']\n",
    "pipeline.fit(x)\n",
    "x_train, x_test, y_train, y_test = train_test_split(x, y, test_size = 0.25, random_state = 42)\n",
    "x_train = pipeline.transform(x_train)\n",
    "x_test = pipeline.transform(x_test)\n",
    "lr.fit(x_train, y_train)\n",
    "\n",
    "pl.scatter(x_test, y_test)\n",
    "pl.plot(x_test, lr.predict(x_test))\n",
    "\n",
    "# the data is still a little scattered, because of how the ENSO flutuates every few years, but based in the average yearly\n",
    "# data, and the correlation we have seen earlier, it looks like that the ENSO is getting stronger every year"
   ]
  }
 ],
 "metadata": {
  "kernelspec": {
   "display_name": "Python 3",
   "language": "python",
   "name": "python3"
  },
  "language_info": {
   "codemirror_mode": {
    "name": "ipython",
    "version": 3
   },
   "file_extension": ".py",
   "mimetype": "text/x-python",
   "name": "python",
   "nbconvert_exporter": "python",
   "pygments_lexer": "ipython3",
   "version": "3.8.3"
  }
 },
 "nbformat": 4,
 "nbformat_minor": 4
}
