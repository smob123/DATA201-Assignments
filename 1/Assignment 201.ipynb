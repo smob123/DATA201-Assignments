{
 "cells": [
  {
   "cell_type": "code",
   "execution_count": 1,
   "metadata": {},
   "outputs": [],
   "source": [
    "import numpy as np\n",
    "import pandas as pd\n",
    "import matplotlib.pyplot as pl\n",
    "%matplotlib inline"
   ]
  },
  {
   "cell_type": "markdown",
   "metadata": {},
   "source": [
    "This is assignment 1 for DATA201 in 2020. It is worth 5% of your course mark. To submit, uses the ECS assignment system (https://apps.ecs.vuw.ac.nz/cgi-bin/marking?rm=assignments&course=DATA201&year=2020&trimester=1) \n",
    "\n",
    "The due date is Saturday 21st March by midnight. No extensions. "
   ]
  },
  {
   "cell_type": "markdown",
   "metadata": {},
   "source": [
    "Dowload LifeExpectancy.csv from the course webpage, and read it into Python, skipping the necessary rows and reading the header. Make the country name be an index. Print the first few rows to ensure that you have it correct. [2 marks]"
   ]
  },
  {
   "cell_type": "code",
   "execution_count": 2,
   "metadata": {
    "scrolled": false
   },
   "outputs": [
    {
     "data": {
      "text/html": [
       "<div>\n",
       "<style scoped>\n",
       "    .dataframe tbody tr th:only-of-type {\n",
       "        vertical-align: middle;\n",
       "    }\n",
       "\n",
       "    .dataframe tbody tr th {\n",
       "        vertical-align: top;\n",
       "    }\n",
       "\n",
       "    .dataframe thead th {\n",
       "        text-align: right;\n",
       "    }\n",
       "</style>\n",
       "<table border=\"1\" class=\"dataframe\">\n",
       "  <thead>\n",
       "    <tr style=\"text-align: right;\">\n",
       "      <th></th>\n",
       "      <th>Country Name</th>\n",
       "      <th>Country Code</th>\n",
       "      <th>Indicator Name</th>\n",
       "      <th>Indicator Code</th>\n",
       "      <th>1960</th>\n",
       "      <th>1961</th>\n",
       "      <th>1962</th>\n",
       "      <th>1963</th>\n",
       "      <th>1964</th>\n",
       "      <th>1965</th>\n",
       "      <th>...</th>\n",
       "      <th>2010</th>\n",
       "      <th>2011</th>\n",
       "      <th>2012</th>\n",
       "      <th>2013</th>\n",
       "      <th>2014</th>\n",
       "      <th>2015</th>\n",
       "      <th>2016</th>\n",
       "      <th>2017</th>\n",
       "      <th>2018</th>\n",
       "      <th>2019</th>\n",
       "    </tr>\n",
       "    <tr>\n",
       "      <th>Country Name</th>\n",
       "      <th></th>\n",
       "      <th></th>\n",
       "      <th></th>\n",
       "      <th></th>\n",
       "      <th></th>\n",
       "      <th></th>\n",
       "      <th></th>\n",
       "      <th></th>\n",
       "      <th></th>\n",
       "      <th></th>\n",
       "      <th></th>\n",
       "      <th></th>\n",
       "      <th></th>\n",
       "      <th></th>\n",
       "      <th></th>\n",
       "      <th></th>\n",
       "      <th></th>\n",
       "      <th></th>\n",
       "      <th></th>\n",
       "      <th></th>\n",
       "      <th></th>\n",
       "    </tr>\n",
       "  </thead>\n",
       "  <tbody>\n",
       "    <tr>\n",
       "      <th>Aruba</th>\n",
       "      <td>Aruba</td>\n",
       "      <td>ABW</td>\n",
       "      <td>Life expectancy at birth, total (years)</td>\n",
       "      <td>SP.DYN.LE00.IN</td>\n",
       "      <td>65.662</td>\n",
       "      <td>66.074</td>\n",
       "      <td>66.444</td>\n",
       "      <td>66.787</td>\n",
       "      <td>67.113</td>\n",
       "      <td>67.435</td>\n",
       "      <td>...</td>\n",
       "      <td>75.017</td>\n",
       "      <td>75.158</td>\n",
       "      <td>75.299</td>\n",
       "      <td>75.441</td>\n",
       "      <td>75.583</td>\n",
       "      <td>75.725</td>\n",
       "      <td>75.868</td>\n",
       "      <td>76.010</td>\n",
       "      <td>NaN</td>\n",
       "      <td>NaN</td>\n",
       "    </tr>\n",
       "    <tr>\n",
       "      <th>Afghanistan</th>\n",
       "      <td>Afghanistan</td>\n",
       "      <td>AFG</td>\n",
       "      <td>Life expectancy at birth, total (years)</td>\n",
       "      <td>SP.DYN.LE00.IN</td>\n",
       "      <td>32.446</td>\n",
       "      <td>32.962</td>\n",
       "      <td>33.471</td>\n",
       "      <td>33.971</td>\n",
       "      <td>34.463</td>\n",
       "      <td>34.948</td>\n",
       "      <td>...</td>\n",
       "      <td>61.028</td>\n",
       "      <td>61.553</td>\n",
       "      <td>62.054</td>\n",
       "      <td>62.525</td>\n",
       "      <td>62.966</td>\n",
       "      <td>63.377</td>\n",
       "      <td>63.763</td>\n",
       "      <td>64.130</td>\n",
       "      <td>NaN</td>\n",
       "      <td>NaN</td>\n",
       "    </tr>\n",
       "    <tr>\n",
       "      <th>Angola</th>\n",
       "      <td>Angola</td>\n",
       "      <td>AGO</td>\n",
       "      <td>Life expectancy at birth, total (years)</td>\n",
       "      <td>SP.DYN.LE00.IN</td>\n",
       "      <td>37.524</td>\n",
       "      <td>37.811</td>\n",
       "      <td>38.113</td>\n",
       "      <td>38.430</td>\n",
       "      <td>38.760</td>\n",
       "      <td>39.102</td>\n",
       "      <td>...</td>\n",
       "      <td>55.350</td>\n",
       "      <td>56.330</td>\n",
       "      <td>57.236</td>\n",
       "      <td>58.054</td>\n",
       "      <td>58.776</td>\n",
       "      <td>59.398</td>\n",
       "      <td>59.925</td>\n",
       "      <td>60.379</td>\n",
       "      <td>NaN</td>\n",
       "      <td>NaN</td>\n",
       "    </tr>\n",
       "    <tr>\n",
       "      <th>Albania</th>\n",
       "      <td>Albania</td>\n",
       "      <td>ALB</td>\n",
       "      <td>Life expectancy at birth, total (years)</td>\n",
       "      <td>SP.DYN.LE00.IN</td>\n",
       "      <td>62.283</td>\n",
       "      <td>63.301</td>\n",
       "      <td>64.190</td>\n",
       "      <td>64.914</td>\n",
       "      <td>65.463</td>\n",
       "      <td>65.850</td>\n",
       "      <td>...</td>\n",
       "      <td>76.562</td>\n",
       "      <td>76.914</td>\n",
       "      <td>77.252</td>\n",
       "      <td>77.554</td>\n",
       "      <td>77.813</td>\n",
       "      <td>78.025</td>\n",
       "      <td>78.194</td>\n",
       "      <td>78.333</td>\n",
       "      <td>NaN</td>\n",
       "      <td>NaN</td>\n",
       "    </tr>\n",
       "    <tr>\n",
       "      <th>Andorra</th>\n",
       "      <td>Andorra</td>\n",
       "      <td>AND</td>\n",
       "      <td>Life expectancy at birth, total (years)</td>\n",
       "      <td>SP.DYN.LE00.IN</td>\n",
       "      <td>NaN</td>\n",
       "      <td>NaN</td>\n",
       "      <td>NaN</td>\n",
       "      <td>NaN</td>\n",
       "      <td>NaN</td>\n",
       "      <td>NaN</td>\n",
       "      <td>...</td>\n",
       "      <td>NaN</td>\n",
       "      <td>NaN</td>\n",
       "      <td>NaN</td>\n",
       "      <td>NaN</td>\n",
       "      <td>NaN</td>\n",
       "      <td>NaN</td>\n",
       "      <td>NaN</td>\n",
       "      <td>NaN</td>\n",
       "      <td>NaN</td>\n",
       "      <td>NaN</td>\n",
       "    </tr>\n",
       "  </tbody>\n",
       "</table>\n",
       "<p>5 rows × 64 columns</p>\n",
       "</div>"
      ],
      "text/plain": [
       "             Country Name Country Code  \\\n",
       "Country Name                             \n",
       "Aruba               Aruba          ABW   \n",
       "Afghanistan   Afghanistan          AFG   \n",
       "Angola             Angola          AGO   \n",
       "Albania           Albania          ALB   \n",
       "Andorra           Andorra          AND   \n",
       "\n",
       "                                       Indicator Name  Indicator Code    1960  \\\n",
       "Country Name                                                                    \n",
       "Aruba         Life expectancy at birth, total (years)  SP.DYN.LE00.IN  65.662   \n",
       "Afghanistan   Life expectancy at birth, total (years)  SP.DYN.LE00.IN  32.446   \n",
       "Angola        Life expectancy at birth, total (years)  SP.DYN.LE00.IN  37.524   \n",
       "Albania       Life expectancy at birth, total (years)  SP.DYN.LE00.IN  62.283   \n",
       "Andorra       Life expectancy at birth, total (years)  SP.DYN.LE00.IN     NaN   \n",
       "\n",
       "                1961    1962    1963    1964    1965  ...    2010    2011  \\\n",
       "Country Name                                          ...                   \n",
       "Aruba         66.074  66.444  66.787  67.113  67.435  ...  75.017  75.158   \n",
       "Afghanistan   32.962  33.471  33.971  34.463  34.948  ...  61.028  61.553   \n",
       "Angola        37.811  38.113  38.430  38.760  39.102  ...  55.350  56.330   \n",
       "Albania       63.301  64.190  64.914  65.463  65.850  ...  76.562  76.914   \n",
       "Andorra          NaN     NaN     NaN     NaN     NaN  ...     NaN     NaN   \n",
       "\n",
       "                2012    2013    2014    2015    2016    2017  2018  2019  \n",
       "Country Name                                                              \n",
       "Aruba         75.299  75.441  75.583  75.725  75.868  76.010   NaN   NaN  \n",
       "Afghanistan   62.054  62.525  62.966  63.377  63.763  64.130   NaN   NaN  \n",
       "Angola        57.236  58.054  58.776  59.398  59.925  60.379   NaN   NaN  \n",
       "Albania       77.252  77.554  77.813  78.025  78.194  78.333   NaN   NaN  \n",
       "Andorra          NaN     NaN     NaN     NaN     NaN     NaN   NaN   NaN  \n",
       "\n",
       "[5 rows x 64 columns]"
      ]
     },
     "execution_count": 2,
     "metadata": {},
     "output_type": "execute_result"
    }
   ],
   "source": [
    "df = pd.read_csv('./LifeExpectancy.csv', skiprows=4, header=\"infer\")\n",
    "df.set_index('Country Name',inplace=True,drop=False)\n",
    "df.head()"
   ]
  },
  {
   "cell_type": "markdown",
   "metadata": {},
   "source": [
    "Drop rows that consist of NaN values. Be careful how you do this, the naive way of just using dropna() without looking at the data a bit might not do what you expect.\n",
    "You might need to know that to delete a column you can use `life.drop([list of column names],axis=1`. [2 marks]"
   ]
  },
  {
   "cell_type": "code",
   "execution_count": 3,
   "metadata": {},
   "outputs": [],
   "source": [
    "df = df.drop(['Country Name', 'Country Code', 'Indicator Name', 'Indicator Code', '2018', '2019'], axis=1)\n",
    "df = df.dropna()"
   ]
  },
  {
   "cell_type": "markdown",
   "metadata": {},
   "source": []
  },
  {
   "cell_type": "markdown",
   "metadata": {},
   "source": [
    "Now plot the curves of life expectancy against time on 1 plot for the following countries:  \n",
    "Afghanistan, Nepal, New Zealand, Netherlands\n",
    "Include a legend, and make the labels on the $x$-axis readable. [2 marks]"
   ]
  },
  {
   "cell_type": "code",
   "execution_count": 4,
   "metadata": {
    "scrolled": true
   },
   "outputs": [
    {
     "data": {
      "text/plain": [
       "([<matplotlib.axis.XTick at 0x24e8c7a98d0>,\n",
       "  <matplotlib.axis.XTick at 0x24e8c7a91d0>,\n",
       "  <matplotlib.axis.XTick at 0x24e8c799e10>,\n",
       "  <matplotlib.axis.XTick at 0x24e8e7ff898>,\n",
       "  <matplotlib.axis.XTick at 0x24e8e7ffd68>,\n",
       "  <matplotlib.axis.XTick at 0x24e8e80b278>,\n",
       "  <matplotlib.axis.XTick at 0x24e8e80b748>,\n",
       "  <matplotlib.axis.XTick at 0x24e8e80bc18>,\n",
       "  <matplotlib.axis.XTick at 0x24e8e812160>],\n",
       " <a list of 9 Text xticklabel objects>)"
      ]
     },
     "execution_count": 4,
     "metadata": {},
     "output_type": "execute_result"
    },
    {
     "data": {
      "image/png": "[encoded data removed]",
      "text/plain": [
       "<Figure size 432x288 with 1 Axes>"
      ]
     },
     "metadata": {
      "needs_background": "light"
     },
     "output_type": "display_data"
    }
   ],
   "source": [
    "Afghanistan = df.loc['Afghanistan']\n",
    "Nepal = df.loc['Nepal']\n",
    "NewZealand = df.loc['New Zealand']\n",
    "Netherlands = df.loc['Netherlands']\n",
    "\n",
    "p0 = pl.plot(Afghanistan)\n",
    "p1 = pl.plot(Nepal)\n",
    "p2 = pl.plot(NewZealand)\n",
    "p3 = pl.plot(Netherlands)\n",
    "\n",
    "pl.legend()\n",
    "pl.xticks(np.arange(3, len(Afghanistan) - 1, 6))"
   ]
  },
  {
   "cell_type": "markdown",
   "metadata": {},
   "source": [
    "Plot Rwanda separately, and explain briefly why it has that shape (hint: use wikipedia) [2 marks]"
   ]
  },
  {
   "cell_type": "code",
   "execution_count": 5,
   "metadata": {
    "scrolled": true
   },
   "outputs": [
    {
     "data": {
      "text/plain": [
       "([<matplotlib.axis.XTick at 0x24e8e879e48>,\n",
       "  <matplotlib.axis.XTick at 0x24e8e879780>,\n",
       "  <matplotlib.axis.XTick at 0x24e8e8794a8>,\n",
       "  <matplotlib.axis.XTick at 0x24e8e8a0278>,\n",
       "  <matplotlib.axis.XTick at 0x24e8e8a0748>,\n",
       "  <matplotlib.axis.XTick at 0x24e8e8a0c18>,\n",
       "  <matplotlib.axis.XTick at 0x24e8e8a8160>,\n",
       "  <matplotlib.axis.XTick at 0x24e8e8a85f8>,\n",
       "  <matplotlib.axis.XTick at 0x24e8e8a8ac8>],\n",
       " <a list of 9 Text xticklabel objects>)"
      ]
     },
     "execution_count": 5,
     "metadata": {},
     "output_type": "execute_result"
    },
    {
     "data": {
      "image/png": "[encoded data removed]",
      "text/plain": [
       "<Figure size 432x288 with 1 Axes>"
      ]
     },
     "metadata": {
      "needs_background": "light"
     },
     "output_type": "display_data"
    }
   ],
   "source": [
    "Rwanda = df.loc['Rwanda']\n",
    "pl.plot(Rwanda)\n",
    "pl.xticks(np.arange(3, len(Rwanda) - 1, 6))"
   ]
  },
  {
   "cell_type": "markdown",
   "metadata": {},
   "source": [
    "#### The graph has this shape, because of the civil war that took place in 1990 until 1994 which resulted in the death of a lot of people. However, life expexstancy started to rise again in the year 2000 after the establishment of the International Criminal Tribunal for Rwanda, which caused the country's economy to thrive."
   ]
  },
  {
   "cell_type": "markdown",
   "metadata": {},
   "source": [
    "Can you detect any other countries where the life expectancy drops significantly? \n",
    "\n",
    "To compute this write some loops over each country and each year. If the next value is below 95% of the current value, print the name of the country.  [4 marks]"
   ]
  },
  {
   "cell_type": "code",
   "execution_count": 6,
   "metadata": {},
   "outputs": [
    {
     "name": "stdout",
     "output_type": "stream",
     "text": [
      "Cambodia\n",
      "Rwanda\n"
     ]
    }
   ],
   "source": [
    "for i in range(len(df)):\n",
    "    for j in range(len(df.iloc[i,:-1])):\n",
    "        if(df.iloc[i, j] * 0.95) >= df.iloc[i, j+1]:\n",
    "            print(df.index[i])\n",
    "            break"
   ]
  },
  {
   "cell_type": "markdown",
   "metadata": {},
   "source": [
    "Compute the mean life expectancy for each of the countries over the whole 57 years. \n",
    "Plot a bar chart of this for the first 10 countries. [4 marks]"
   ]
  },
  {
   "cell_type": "code",
   "execution_count": 7,
   "metadata": {
    "scrolled": false
   },
   "outputs": [
    {
     "data": {
      "text/plain": [
       "([<matplotlib.axis.XTick at 0x24e8e90b898>,\n",
       "  <matplotlib.axis.XTick at 0x24e8e90b1d0>,\n",
       "  <matplotlib.axis.XTick at 0x24e8e902ac8>,\n",
       "  <matplotlib.axis.XTick at 0x24e8e92bc88>,\n",
       "  <matplotlib.axis.XTick at 0x24e8e935198>,\n",
       "  <matplotlib.axis.XTick at 0x24e8e935668>,\n",
       "  <matplotlib.axis.XTick at 0x24e8e935b38>,\n",
       "  <matplotlib.axis.XTick at 0x24e8e93b0b8>,\n",
       "  <matplotlib.axis.XTick at 0x24e8e93b550>,\n",
       "  <matplotlib.axis.XTick at 0x24e8e935b00>],\n",
       " <a list of 10 Text xticklabel objects>)"
      ]
     },
     "execution_count": 7,
     "metadata": {},
     "output_type": "execute_result"
    },
    {
     "data": {
      "image/png": "[encoded data removed]",
      "text/plain": [
       "<Figure size 432x288 with 1 Axes>"
      ]
     },
     "metadata": {
      "needs_background": "light"
     },
     "output_type": "display_data"
    }
   ],
   "source": [
    "means = []\n",
    "for i in range(len(df)):    \n",
    "    means.append(np.mean(df.iloc[i,:]))\n",
    "    \n",
    "df.insert(len(df.iloc[0,:]) - 1, 'mean', value=means)\n",
    "pl.plot(df['mean'][:10], '.')\n",
    "pl.xticks(df.index[:10], rotation='vertical')"
   ]
  },
  {
   "cell_type": "markdown",
   "metadata": {},
   "source": [
    "Find the 5 countries with the highest mean life expectancy and the 5 with the lowest. You might find `life.sort_values()` helpful, as well as `pd.concat`and `life.transpose`. Plot a box and whisker plot of these countries. [4 marks]"
   ]
  },
  {
   "cell_type": "code",
   "execution_count": 8,
   "metadata": {},
   "outputs": [
    {
     "data": {
      "text/plain": [
       "Index(['Iceland', 'Japan', 'Sweden', 'Switzerland', 'Norway'], dtype='object', name='Country Name')"
      ]
     },
     "execution_count": 8,
     "metadata": {},
     "output_type": "execute_result"
    }
   ],
   "source": [
    "heighestMeans = df.sort_values('mean', ascending = False)\n",
    "heighestMeans.index[:5]"
   ]
  },
  {
   "cell_type": "code",
   "execution_count": 9,
   "metadata": {},
   "outputs": [
    {
     "data": {
      "text/plain": [
       "Index(['Sierra Leone', 'Mali', 'South Sudan', 'Niger', 'Nigeria'], dtype='object', name='Country Name')"
      ]
     },
     "execution_count": 9,
     "metadata": {},
     "output_type": "execute_result"
    }
   ],
   "source": [
    "lowestMeans = df.sort_values('mean')\n",
    "lowestMeans.index[:5]"
   ]
  },
  {
   "cell_type": "code",
   "execution_count": 10,
   "metadata": {},
   "outputs": [
    {
     "data": {
      "text/plain": [
       "{'whiskers': [<matplotlib.lines.Line2D at 0x24e8e98b7b8>,\n",
       "  <matplotlib.lines.Line2D at 0x24e8e98bb00>],\n",
       " 'caps': [<matplotlib.lines.Line2D at 0x24e8e98be48>,\n",
       "  <matplotlib.lines.Line2D at 0x24e8e99e1d0>],\n",
       " 'boxes': [<matplotlib.lines.Line2D at 0x24e8e98b668>],\n",
       " 'medians': [<matplotlib.lines.Line2D at 0x24e8e99e518>],\n",
       " 'fliers': [<matplotlib.lines.Line2D at 0x24e8e99e860>],\n",
       " 'means': []}"
      ]
     },
     "execution_count": 10,
     "metadata": {},
     "output_type": "execute_result"
    },
    {
     "data": {
      "image/png": "[encoded data removed]",
      "text/plain": [
       "<Figure size 432x288 with 1 Axes>"
      ]
     },
     "metadata": {
      "needs_background": "light"
     },
     "output_type": "display_data"
    }
   ],
   "source": [
    "pl.boxplot(heighestMeans.iloc[:,0][:5])"
   ]
  },
  {
   "cell_type": "code",
   "execution_count": 11,
   "metadata": {},
   "outputs": [
    {
     "data": {
      "text/plain": [
       "{'whiskers': [<matplotlib.lines.Line2D at 0x24e8e9e6dd8>,\n",
       "  <matplotlib.lines.Line2D at 0x24e8e9ef198>],\n",
       " 'caps': [<matplotlib.lines.Line2D at 0x24e8e9ef4e0>,\n",
       "  <matplotlib.lines.Line2D at 0x24e8e9ef828>],\n",
       " 'boxes': [<matplotlib.lines.Line2D at 0x24e8e9e6c88>],\n",
       " 'medians': [<matplotlib.lines.Line2D at 0x24e8e9efb70>],\n",
       " 'fliers': [<matplotlib.lines.Line2D at 0x24e8e9efeb8>],\n",
       " 'means': []}"
      ]
     },
     "execution_count": 11,
     "metadata": {},
     "output_type": "execute_result"
    },
    {
     "data": {
      "image/png": "[encoded data removed]",
      "text/plain": [
       "<Figure size 432x288 with 1 Axes>"
      ]
     },
     "metadata": {
      "needs_background": "light"
     },
     "output_type": "display_data"
    }
   ],
   "source": [
    "pl.boxplot(lowestMeans.iloc[:,0][:5])"
   ]
  },
  {
   "cell_type": "code",
   "execution_count": null,
   "metadata": {},
   "outputs": [],
   "source": []
  }
 ],
 "metadata": {
  "kernelspec": {
   "display_name": "Python 3",
   "language": "python",
   "name": "python3"
  },
  "language_info": {
   "codemirror_mode": {
    "name": "ipython",
    "version": 3
   },
   "file_extension": ".py",
   "mimetype": "text/x-python",
   "name": "python",
   "nbconvert_exporter": "python",
   "pygments_lexer": "ipython3",
   "version": "3.8.3"
  }
 },
 "nbformat": 4,
 "nbformat_minor": 4
}
